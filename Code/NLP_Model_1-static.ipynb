{
 "cells": [
  {
   "cell_type": "code",
   "execution_count": 1,
   "metadata": {},
   "outputs": [
    {
     "data": {
      "text/plain": [
       "<module 'Error' from 'U:\\\\JIRA\\\\Code\\\\Error.py'>"
      ]
     },
     "execution_count": 1,
     "metadata": {},
     "output_type": "execute_result"
    }
   ],
   "source": [
    "#!/usr/bin/python3\n",
    "import pandas as pd\n",
    "import os\n",
    "import nltk\n",
    "import string\n",
    "import re\n",
    "import warnings\n",
    "import numpy as np\n",
    "from matplotlib import reload\n",
    "from sklearn.feature_extraction.text import CountVectorizer\n",
    "from sklearn.feature_extraction.text import TfidfTransformer\n",
    "from sklearn.naive_bayes import MultinomialNB\n",
    "from sklearn.pipeline import Pipeline\n",
    "from sklearn.linear_model import SGDClassifier\n",
    "from sklearn.model_selection import GridSearchCV\n",
    "from nltk.stem.snowball import SnowballStemmer\n",
    "import matplotlib.pyplot as plt\n",
    "from sklearn.naive_bayes import MultinomialNB\n",
    "from sklearn import model_selection, preprocessing, linear_model, naive_bayes, metrics, svm\n",
    "from sklearn.model_selection import train_test_split\n",
    "import Error\n",
    "reload(Error)"
   ]
  },
  {
   "cell_type": "code",
   "execution_count": 2,
   "metadata": {},
   "outputs": [],
   "source": [
    "stemmer = SnowballStemmer(\"english\", ignore_stopwords=True)\n",
    "\n",
    "class StemmedCountVectorizer(CountVectorizer):\n",
    "    def build_analyzer(self):\n",
    "        analyzer = super(StemmedCountVectorizer, self).build_analyzer()\n",
    "        return lambda doc: ([stemmer.stem(w) for w in analyzer(doc)])\n",
    "\n",
    "def replace_strings(data,name):\n",
    "    for i in range(len(data)):\n",
    "        if(data[name].iloc[i].find(',')!=-1):\n",
    "            data[name].iloc[i]=data[name].iloc[i].split(\",\")[-1]\n",
    "    return data\n",
    "\n",
    "def predict_category(s,train, model,names):\n",
    "    pred = model.predict([s])\n",
    "    return pred"
   ]
  },
  {
   "cell_type": "code",
   "execution_count": 110,
   "metadata": {
    "scrolled": true
   },
   "outputs": [],
   "source": [
    "#data = pd.read_excel(\"U:/JIRA/JIRAExport/sample.xls\")\n",
    "#test_data=data[data['Status']=='Submitted']\n",
    "train_data=pd.read_excel(\"U:/JIRA/JIRAExport/train_data.xls\")\n",
    "train_data=train_data.dropna()\n",
    "train_data=replace_strings(train_data,'Component/s')\n",
    "#test_data=replace_strings(test_data,'Component/s')\n",
    "#comp1=list(data['Component/s'].unique())\n",
    "comp2=list(train_data['Component/s'].unique())"
   ]
  },
  {
   "cell_type": "code",
   "execution_count": 111,
   "metadata": {
    "scrolled": true
   },
   "outputs": [],
   "source": [
    "#comp=list(set().union(comp1,comp2))\n",
    "Comp=[]\n",
    "for each in comp2:\n",
    "    if(each.find(',')!=-1):\n",
    "        Comp.append(each.split(\",\")[-1])\n",
    "    else:\n",
    "        Comp.append(each)"
   ]
  },
  {
   "cell_type": "code",
   "execution_count": 112,
   "metadata": {},
   "outputs": [
    {
     "data": {
      "text/html": [
       "<div>\n",
       "<style scoped>\n",
       "    .dataframe tbody tr th:only-of-type {\n",
       "        vertical-align: middle;\n",
       "    }\n",
       "\n",
       "    .dataframe tbody tr th {\n",
       "        vertical-align: top;\n",
       "    }\n",
       "\n",
       "    .dataframe thead th {\n",
       "        text-align: right;\n",
       "    }\n",
       "</style>\n",
       "<table border=\"1\" class=\"dataframe\">\n",
       "  <thead>\n",
       "    <tr style=\"text-align: right;\">\n",
       "      <th></th>\n",
       "      <th>Issue Key</th>\n",
       "      <th>Summary</th>\n",
       "      <th>Status</th>\n",
       "      <th>Created</th>\n",
       "      <th>Component/s</th>\n",
       "      <th>Description</th>\n",
       "      <th>Resolved Date</th>\n",
       "    </tr>\n",
       "  </thead>\n",
       "  <tbody>\n",
       "    <tr>\n",
       "      <th>0</th>\n",
       "      <td>NCG3D-75861</td>\n",
       "      <td>CLONE - When a pohne without any music connect...</td>\n",
       "      <td>Closed</td>\n",
       "      <td>2017-11-14 12:11:20</td>\n",
       "      <td>SW_INFOTAINMENT</td>\n",
       "      <td>h4. Test Environment :\\n* HW Sample : P32R\\n* ...</td>\n",
       "      <td>2018-01-24 10:25:31</td>\n",
       "    </tr>\n",
       "    <tr>\n",
       "      <th>1</th>\n",
       "      <td>NCG3D-75863</td>\n",
       "      <td>Reset when system is kept idle</td>\n",
       "      <td>Closed</td>\n",
       "      <td>2017-11-14 12:38:12</td>\n",
       "      <td>SW_MANAPPS</td>\n",
       "      <td>h4. Test Environment :\\n* HW Sample : \\n* Devi...</td>\n",
       "      <td>2017-11-15 07:12:04</td>\n",
       "    </tr>\n",
       "    <tr>\n",
       "      <th>2</th>\n",
       "      <td>NCG3D-75864</td>\n",
       "      <td>Several resets during 35 km drive</td>\n",
       "      <td>Closed</td>\n",
       "      <td>2017-11-14 12:48:53</td>\n",
       "      <td>SW_Resets</td>\n",
       "      <td>h4. Test Environment :\\n* HW Sample : *dual li...</td>\n",
       "      <td>2017-11-14 14:02:45</td>\n",
       "    </tr>\n",
       "    <tr>\n",
       "      <th>4</th>\n",
       "      <td>NCG3D-75867</td>\n",
       "      <td>After reaching the destination, the navi conti...</td>\n",
       "      <td>Closed</td>\n",
       "      <td>2017-11-14 13:14:17</td>\n",
       "      <td>SW_NAVIGATION</td>\n",
       "      <td>h4. Test Environment :\\n* SW: 0734\\n* HW Sampl...</td>\n",
       "      <td>2017-11-22 11:12:34</td>\n",
       "    </tr>\n",
       "    <tr>\n",
       "      <th>5</th>\n",
       "      <td>NCG3D-75765</td>\n",
       "      <td>Map icons (compass, zoom scale and map menu) i...</td>\n",
       "      <td>Closed</td>\n",
       "      <td>2017-11-14 06:58:13</td>\n",
       "      <td>SW_NAVIGATION_JPN</td>\n",
       "      <td>h4. Test Environment :\\n* HW Sample : Nissan P...</td>\n",
       "      <td>2017-12-07 12:31:42</td>\n",
       "    </tr>\n",
       "  </tbody>\n",
       "</table>\n",
       "</div>"
      ],
      "text/plain": [
       "     Issue Key                                            Summary  Status  \\\n",
       "0  NCG3D-75861  CLONE - When a pohne without any music connect...  Closed   \n",
       "1  NCG3D-75863                     Reset when system is kept idle  Closed   \n",
       "2  NCG3D-75864                  Several resets during 35 km drive  Closed   \n",
       "4  NCG3D-75867  After reaching the destination, the navi conti...  Closed   \n",
       "5  NCG3D-75765  Map icons (compass, zoom scale and map menu) i...  Closed   \n",
       "\n",
       "              Created        Component/s  \\\n",
       "0 2017-11-14 12:11:20    SW_INFOTAINMENT   \n",
       "1 2017-11-14 12:38:12         SW_MANAPPS   \n",
       "2 2017-11-14 12:48:53          SW_Resets   \n",
       "4 2017-11-14 13:14:17      SW_NAVIGATION   \n",
       "5 2017-11-14 06:58:13  SW_NAVIGATION_JPN   \n",
       "\n",
       "                                         Description        Resolved Date  \n",
       "0  h4. Test Environment :\\n* HW Sample : P32R\\n* ...  2018-01-24 10:25:31  \n",
       "1  h4. Test Environment :\\n* HW Sample : \\n* Devi...  2017-11-15 07:12:04  \n",
       "2  h4. Test Environment :\\n* HW Sample : *dual li...  2017-11-14 14:02:45  \n",
       "4  h4. Test Environment :\\n* SW: 0734\\n* HW Sampl...  2017-11-22 11:12:34  \n",
       "5  h4. Test Environment :\\n* HW Sample : Nissan P...  2017-12-07 12:31:42  "
      ]
     },
     "execution_count": 112,
     "metadata": {},
     "output_type": "execute_result"
    }
   ],
   "source": [
    "train_data.head()"
   ]
  },
  {
   "cell_type": "code",
   "execution_count": 128,
   "metadata": {
    "scrolled": true
   },
   "outputs": [],
   "source": [
    "d=[]\n",
    "for i in range(len(train_data)):\n",
    "    for j in range(len(less)):\n",
    "        if (train_data.iloc[i]['Component/s']==less.iloc[j]['Component/s']):\n",
    "            d.append(train_data.iloc[i])"
   ]
  },
  {
   "cell_type": "code",
   "execution_count": 138,
   "metadata": {
    "scrolled": true
   },
   "outputs": [
    {
     "data": {
      "text/plain": [
       "82592"
      ]
     },
     "execution_count": 138,
     "metadata": {},
     "output_type": "execute_result"
    }
   ],
   "source": [
    "#y = train_data.pop('Component/s')\n",
    "x=train_data.groupby('Component/s').Summary.count()\n",
    "x=pd.DataFrame(x)\n",
    "less=x[x['Summary']<2]\n",
    "less['Component/s']=less.index\n",
    "len(train_data)"
   ]
  },
  {
   "cell_type": "code",
   "execution_count": 140,
   "metadata": {},
   "outputs": [],
   "source": [
    "train_data=(pd.concat([train_data,pd.DataFrame(d)]).drop_duplicates(keep=False))"
   ]
  },
  {
   "cell_type": "code",
   "execution_count": 141,
   "metadata": {},
   "outputs": [],
   "source": [
    "Comp=comp2\n",
    "#train_data['Component/s']=train_data['Component/s'].replace(Comp,range(len(Comp)))\n",
    "#test_data['Component/s']=test_data['Component/s'].replace(Comp,range(len(Comp)))\n",
    "warnings.filterwarnings(\"ignore\")\n",
    "X=train_data['Summary']"
   ]
  },
  {
   "cell_type": "code",
   "execution_count": 143,
   "metadata": {},
   "outputs": [],
   "source": [
    "y = train_data.pop('Component/s')\n",
    "X_train, X_test, y_train, y_test = train_test_split( X, y, test_size=0.30, random_state=42, stratify=y)"
   ]
  },
  {
   "cell_type": "code",
   "execution_count": 145,
   "metadata": {},
   "outputs": [
    {
     "data": {
      "text/plain": [
       "71100    Scope2: 20170213_118_003: The screens is not i...\n",
       "68249                        NAVIGATION : Popup adaptation\n",
       "15348    Set Auto. Show Turn List on Freeway to ON > si...\n",
       "59240    [P-IVI Navigation] Destination: Five cities bu...\n",
       "14512    AIVIBP-9787 [Degrade][Display] [Screen] is stu...\n",
       "Name: Summary, dtype: object"
      ]
     },
     "execution_count": 145,
     "metadata": {},
     "output_type": "execute_result"
    }
   ],
   "source": [
    "#test=test_data.sample(frac=0.2, replace=True)\n",
    "X_test.head()\n"
   ]
  },
  {
   "cell_type": "code",
   "execution_count": 146,
   "metadata": {},
   "outputs": [
    {
     "data": {
      "text/plain": [
       "(57812, 29585)"
      ]
     },
     "execution_count": 146,
     "metadata": {},
     "output_type": "execute_result"
    }
   ],
   "source": [
    "count_vect = CountVectorizer()\n",
    "X_train_counts = count_vect.fit_transform(X_train)\n",
    "X_train_counts.shape"
   ]
  },
  {
   "cell_type": "code",
   "execution_count": 147,
   "metadata": {},
   "outputs": [
    {
     "data": {
      "text/plain": [
       "(57812, 29585)"
      ]
     },
     "execution_count": 147,
     "metadata": {},
     "output_type": "execute_result"
    }
   ],
   "source": [
    "tfidf_transformer = TfidfTransformer()\n",
    "X_train_tfidf = tfidf_transformer.fit_transform(X_train_counts)\n",
    "X_train_tfidf.shape"
   ]
  },
  {
   "cell_type": "code",
   "execution_count": 149,
   "metadata": {},
   "outputs": [
    {
     "name": "stdout",
     "output_type": "stream",
     "text": [
      "MultinomialNB(alpha=1.0, class_prior=None, fit_prior=True)\n"
     ]
    }
   ],
   "source": [
    "clf = MultinomialNB().fit(X_train_tfidf, y_train)\n",
    "print(clf)"
   ]
  },
  {
   "cell_type": "code",
   "execution_count": 150,
   "metadata": {},
   "outputs": [],
   "source": [
    "text_clf = Pipeline([('vect', CountVectorizer()), ('tfidf', TfidfTransformer()), ('clf', MultinomialNB())])\n",
    "\n",
    "text_clf = text_clf.fit(X_train, y_train)"
   ]
  },
  {
   "cell_type": "code",
   "execution_count": 152,
   "metadata": {},
   "outputs": [
    {
     "data": {
      "text/plain": [
       "0.4599023287726521"
      ]
     },
     "execution_count": 152,
     "metadata": {},
     "output_type": "execute_result"
    }
   ],
   "source": [
    "predicted = text_clf.predict(X_test)\n",
    "np.mean(predicted == y_test)"
   ]
  },
  {
   "cell_type": "code",
   "execution_count": 158,
   "metadata": {
    "scrolled": false
   },
   "outputs": [
    {
     "name": "stdout",
     "output_type": "stream",
     "text": [
      "SW_AUDIO 0.06432748538011696\n",
      "SW_NAVIGATION 0.9862097785206854\n",
      "SW_PHONE 0.7780517879161529\n",
      "SW_INFOTAINMENT 0.6743016759776537\n",
      "SW_SMARTPHONE 0.6932624113475178\n",
      "SW_SYSTEM 0.043424317617866005\n",
      "SW_SPEECH 0.5244618395303327\n",
      "SW_Resets 0.17766497461928935\n",
      "SW_TELEMATIC 0.09937888198757763\n",
      "SW_DIAGNOSTIC 0.41761363636363635\n",
      "SW_WIFI 0.02857142857142857\n",
      "SW_OTAS 0.0\n",
      "SW_TUNER_TV 0.012048192771084338\n",
      "SW_DRIVEASSIST 0.12375533428165007\n",
      "SW_Unknown 0.0\n",
      "SW_METER 0.09116022099447514\n",
      "SW_FRAMEWORK_HMI 0.0\n",
      "SW_TUNER_SXM 0.2668428005284016\n",
      "SW_TUNER_AMFM 0.2829931972789116\n",
      "SW_Base 0.016260162601626018\n",
      "Mechanic 0.3811659192825112\n",
      "SW_PARKASSIST 0.43578485181119647\n",
      "Production-General 0.0\n",
      "SW_NAVIGATION_JPN 0.02903225806451613\n",
      "SW_SWUPDATE 0.08602150537634409\n",
      "SW_SPM 0.008547008547008548\n",
      "SW_HOME_MENU 0.01524390243902439\n",
      "SW_PROFILE 0.005405405405405406\n",
      "SW_GRAPHICS 0.0\n",
      "TEST_FEP 0.0\n",
      "SW_DATA 0.0\n",
      "SW_TRANSLATIONS 0.0\n",
      "SW_TUNER_HD 0.0\n",
      "SW_Master_HMI 0.0\n",
      "HW-General 0.1095890410958904\n",
      "SW_MANAPPS 0.0\n",
      "SW_SECURITY 0.0\n",
      "TEST_ZTEST 0.0\n",
      "SW_OFFICE 0.0\n",
      "SW_DIMMING 0.0\n",
      "SW_INPUT 0.0\n",
      "SW_SNM 0.0\n",
      "SW_WIDGETS 0.0\n",
      "Production-Test 0.0\n",
      "SW_ADASIS 0.0\n",
      "SW_CMD 0.0\n",
      "SW_ARCHITECTURE 0.0\n",
      "SW_TUNER_DAB 0.0\n",
      "SW_CONFIG_MGR 0.0\n",
      "SW_NETWORKING 0.0\n",
      "SW_TUNERGENERIC 0.0\n",
      "SW_DEBUG_TRACE 0.0\n",
      "SW_ADR3 0.0\n",
      "TEST_EMC 0.0\n",
      "SW_IPCM 0.0\n",
      "Mechanic-PIVI 0.0\n",
      "SW_CAN_SIM 0.0\n",
      "SW_Obigo 0.0\n",
      "SW_PD-CD-Config 0.0\n",
      "SW_TomTom 0.0\n",
      "SW_NAVIGATION_KOR 0.0\n",
      "HW-General-PIVI 0.0\n"
     ]
    }
   ],
   "source": [
    "Error.err.class_err(y_test,predicted)"
   ]
  },
  {
   "cell_type": "code",
   "execution_count": 159,
   "metadata": {},
   "outputs": [
    {
     "data": {
      "text/plain": [
       "0.617790692981394"
      ]
     },
     "execution_count": 159,
     "metadata": {},
     "output_type": "execute_result"
    }
   ],
   "source": [
    "stemmed_count_vect = StemmedCountVectorizer(stop_words='english')\n",
    "\n",
    "text_mnb_stemmed = Pipeline([('vect', stemmed_count_vect), ('tfidf', TfidfTransformer()), \n",
    "                             ('mnb', MultinomialNB(fit_prior=False))])\n",
    "\n",
    "text_mnb_stemmed = text_mnb_stemmed.fit(X_train, y_train)\n",
    "\n",
    "predicted_mnb_stemmed = text_mnb_stemmed.predict(X_test)\n",
    "\n",
    "np.mean(predicted_mnb_stemmed == y_test)"
   ]
  },
  {
   "cell_type": "code",
   "execution_count": 161,
   "metadata": {},
   "outputs": [
    {
     "name": "stdout",
     "output_type": "stream",
     "text": [
      "SW_AUDIO 0.26900584795321636\n",
      "SW_NAVIGATION 0.9385708315921437\n",
      "SW_PHONE 0.8088779284833539\n",
      "SW_INFOTAINMENT 0.7793296089385475\n",
      "SW_SMARTPHONE 0.8138297872340425\n",
      "SW_SYSTEM 0.3349875930521092\n",
      "SW_SPEECH 0.7162426614481409\n",
      "SW_Resets 0.40609137055837563\n",
      "SW_TELEMATIC 0.5046583850931677\n",
      "SW_DIAGNOSTIC 0.7002840909090909\n",
      "SW_WIFI 0.4530612244897959\n",
      "SW_OTAS 0.3305785123966942\n",
      "SW_TUNER_TV 0.3192771084337349\n",
      "SW_DRIVEASSIST 0.5917496443812233\n",
      "SW_Unknown 0.01639344262295082\n",
      "SW_METER 0.3839779005524862\n",
      "SW_FRAMEWORK_HMI 0.04129263913824058\n",
      "SW_TUNER_SXM 0.6856010568031704\n",
      "SW_TUNER_AMFM 0.6122448979591837\n",
      "SW_Base 0.04878048780487805\n",
      "Mechanic 0.8385650224215246\n",
      "SW_PARKASSIST 0.7376509330406147\n",
      "Production-General 0.05263157894736842\n",
      "SW_NAVIGATION_JPN 0.20430107526881722\n",
      "SW_SWUPDATE 0.6236559139784946\n",
      "SW_SPM 0.17094017094017094\n",
      "SW_HOME_MENU 0.2774390243902439\n",
      "SW_PROFILE 0.2702702702702703\n",
      "SW_GRAPHICS 0.0\n",
      "TEST_FEP 0.26548672566371684\n",
      "SW_DATA 0.02608695652173913\n",
      "SW_TRANSLATIONS 0.07480314960629922\n",
      "SW_TUNER_HD 0.21978021978021978\n",
      "SW_Master_HMI 0.07194244604316546\n",
      "HW-General 0.589041095890411\n",
      "SW_MANAPPS 0.2\n",
      "SW_SECURITY 0.2\n",
      "TEST_ZTEST 0.4090909090909091\n",
      "SW_OFFICE 0.011363636363636364\n",
      "SW_DIMMING 0.04918032786885246\n",
      "SW_INPUT 0.0\n",
      "SW_SNM 0.0\n",
      "SW_WIDGETS 0.0\n",
      "Production-Test 0.0\n",
      "SW_ADASIS 0.04\n",
      "SW_CMD 0.0\n",
      "SW_ARCHITECTURE 0.0\n",
      "SW_TUNER_DAB 0.29714285714285715\n",
      "SW_CONFIG_MGR 0.0\n",
      "SW_NETWORKING 0.0\n",
      "SW_TUNERGENERIC 0.0\n",
      "SW_DEBUG_TRACE 0.3235294117647059\n",
      "SW_ADR3 0.21428571428571427\n",
      "TEST_EMC 0.9333333333333333\n",
      "SW_IPCM 0.25\n",
      "Mechanic-PIVI 0.0\n",
      "SW_CAN_SIM 0.0\n",
      "SW_Obigo 0.0\n",
      "SW_PD-CD-Config 0.0\n",
      "SW_TomTom 0.0\n",
      "SW_NAVIGATION_KOR 0.0\n",
      "HW-General-PIVI 0.0\n"
     ]
    }
   ],
   "source": [
    "Error.err.class_err(y_test,predicted_mnb_stemmed)"
   ]
  },
  {
   "cell_type": "code",
   "execution_count": 162,
   "metadata": {},
   "outputs": [],
   "source": [
    "parameters = {'vect__ngram_range': [(1, 1), (1, 2)], 'tfidf__use_idf': (True, False), 'clf__alpha': (1e-2, 1e-3)}\n",
    "gs_clf = GridSearchCV(text_clf, parameters, n_jobs=-1)\n",
    "gs_clf = gs_clf.fit(X_train, y_train)"
   ]
  },
  {
   "cell_type": "code",
   "execution_count": 17,
   "metadata": {},
   "outputs": [
    {
     "name": "stdout",
     "output_type": "stream",
     "text": [
      "Best Score 0.8096538549500222\n",
      "Best Parameters {'clf__alpha': 0.01, 'tfidf__use_idf': True, 'vect__ngram_range': (1, 2)}\n"
     ]
    }
   ],
   "source": [
    "print(\"Best Score\",gs_clf.best_score_)\n",
    "print(\"Best Parameters\",gs_clf.best_params_)"
   ]
  },
  {
   "cell_type": "code",
   "execution_count": 163,
   "metadata": {},
   "outputs": [
    {
     "data": {
      "text/plain": [
       "0.694071114339912"
      ]
     },
     "execution_count": 163,
     "metadata": {},
     "output_type": "execute_result"
    }
   ],
   "source": [
    "text_clf_best = Pipeline([('vect', CountVectorizer(ngram_range=(1,2))), ('tfidf', TfidfTransformer(use_idf=False)),('clf', MultinomialNB(alpha=0.01))])\n",
    "text_clf_best = text_clf_best.fit(X_train, y_train)\n",
    "predicted_best = text_clf_best.predict(X_test)\n",
    "np.mean(predicted_best == y_test)"
   ]
  },
  {
   "cell_type": "code",
   "execution_count": 165,
   "metadata": {},
   "outputs": [
    {
     "name": "stdout",
     "output_type": "stream",
     "text": [
      "SW_AUDIO 0.41130604288499023\n",
      "SW_NAVIGATION 0.9053489343919766\n",
      "SW_PHONE 0.8220304151253597\n",
      "SW_INFOTAINMENT 0.8\n",
      "SW_SMARTPHONE 0.8156028368794326\n",
      "SW_SYSTEM 0.5099255583126551\n",
      "SW_SPEECH 0.7879973907371167\n",
      "SW_Resets 0.5076142131979695\n",
      "SW_TELEMATIC 0.6801242236024845\n",
      "SW_DIAGNOSTIC 0.7741477272727273\n",
      "SW_WIFI 0.5959183673469388\n",
      "SW_OTAS 0.4462809917355372\n",
      "SW_TUNER_TV 0.46987951807228917\n",
      "SW_DRIVEASSIST 0.7339971550497866\n",
      "SW_Unknown 0.03278688524590164\n",
      "SW_METER 0.5662983425414365\n",
      "SW_FRAMEWORK_HMI 0.12387791741472172\n",
      "SW_TUNER_SXM 0.8044914134742405\n",
      "SW_TUNER_AMFM 0.7020408163265306\n",
      "SW_Base 0.12195121951219512\n",
      "Mechanic 0.8968609865470852\n",
      "SW_PARKASSIST 0.8002195389681669\n",
      "Production-General 0.2631578947368421\n",
      "SW_NAVIGATION_JPN 0.5301075268817205\n",
      "SW_SWUPDATE 0.7876344086021505\n",
      "SW_SPM 0.3333333333333333\n",
      "SW_HOME_MENU 0.5442073170731707\n",
      "SW_PROFILE 0.4594594594594595\n",
      "SW_GRAPHICS 0.10476190476190476\n",
      "TEST_FEP 0.5575221238938053\n",
      "SW_DATA 0.30434782608695654\n",
      "SW_TRANSLATIONS 0.2283464566929134\n",
      "SW_TUNER_HD 0.4065934065934066\n",
      "SW_Master_HMI 0.2517985611510791\n",
      "HW-General 0.5342465753424658\n",
      "SW_MANAPPS 0.3217391304347826\n",
      "SW_SECURITY 0.38\n",
      "TEST_ZTEST 0.8181818181818182\n",
      "SW_OFFICE 0.20454545454545456\n",
      "SW_DIMMING 0.04918032786885246\n",
      "SW_INPUT 0.04878048780487805\n",
      "SW_SNM 0.09090909090909091\n",
      "SW_WIDGETS 0.025\n",
      "Production-Test 0.0\n",
      "SW_ADASIS 0.16\n",
      "SW_CMD 0.0\n",
      "SW_ARCHITECTURE 0.1\n",
      "SW_TUNER_DAB 0.4685714285714286\n",
      "SW_CONFIG_MGR 0.1\n",
      "SW_NETWORKING 0.075\n",
      "SW_TUNERGENERIC 0.0\n",
      "SW_DEBUG_TRACE 0.4117647058823529\n",
      "SW_ADR3 0.07142857142857142\n",
      "TEST_EMC 0.9333333333333333\n",
      "SW_IPCM 0.25\n",
      "Mechanic-PIVI 0.09090909090909091\n",
      "SW_CAN_SIM 0.0\n",
      "SW_Obigo 0.0\n",
      "SW_PD-CD-Config 0.0\n",
      "SW_TomTom 0.0\n",
      "SW_NAVIGATION_KOR 0.0\n",
      "HW-General-PIVI 0.0\n"
     ]
    }
   ],
   "source": [
    "Error.err.class_err(y_test,predicted_best)"
   ]
  },
  {
   "cell_type": "code",
   "execution_count": 166,
   "metadata": {},
   "outputs": [
    {
     "data": {
      "text/plain": [
       "0.6511684223271582"
      ]
     },
     "execution_count": 166,
     "metadata": {},
     "output_type": "execute_result"
    }
   ],
   "source": [
    "text_clf_svm = Pipeline([('vect', CountVectorizer()), ('tfidf', TfidfTransformer()),\n",
    "                         ('clf-svm', SGDClassifier(loss='hinge', penalty='l2',alpha=1e-3, n_iter=5, random_state=42))])\n",
    "\n",
    "text_clf_svm = text_clf_svm.fit(X_train, y_train)\n",
    "predicted_svm = text_clf_svm.predict(X_test)\n",
    "np.mean(predicted_svm == y_test)"
   ]
  },
  {
   "cell_type": "code",
   "execution_count": 21,
   "metadata": {},
   "outputs": [],
   "source": [
    "Error.err.err(test['Component/s'],predicted_svm)"
   ]
  },
  {
   "cell_type": "code",
   "execution_count": 168,
   "metadata": {},
   "outputs": [
    {
     "data": {
      "text/plain": [
       "0.6862009121362554"
      ]
     },
     "execution_count": 168,
     "metadata": {},
     "output_type": "execute_result"
    }
   ],
   "source": [
    "stemmed_count_vect = StemmedCountVectorizer(stop_words='english')\n",
    "\n",
    "text_svm_stemmed = Pipeline([('vect', stemmed_count_vect), ('tfidf', TfidfTransformer()), \n",
    "                             ('svm', SGDClassifier())])\n",
    "\n",
    "text_svm_stemmed = text_svm_stemmed.fit(X_train, y_train)\n",
    "\n",
    "predicted_svm_stemmed = text_svm_stemmed.predict(X_test)\n",
    "\n",
    "np.mean(predicted_svm_stemmed == y_test)"
   ]
  },
  {
   "cell_type": "code",
   "execution_count": 171,
   "metadata": {
    "scrolled": true
   },
   "outputs": [
    {
     "name": "stdout",
     "output_type": "stream",
     "text": [
      "SW_AUDIO 0.25925925925925924\n",
      "SW_NAVIGATION 0.8984538236523193\n",
      "SW_PHONE 0.8039457459926017\n",
      "SW_INFOTAINMENT 0.7905027932960894\n",
      "SW_SMARTPHONE 0.8362884160756501\n",
      "SW_SYSTEM 0.40818858560794047\n",
      "SW_SPEECH 0.8036529680365296\n",
      "SW_Resets 0.3147208121827411\n",
      "SW_TELEMATIC 0.7018633540372671\n",
      "SW_DIAGNOSTIC 0.7542613636363636\n",
      "SW_WIFI 0.8204081632653061\n",
      "SW_OTAS 0.45454545454545453\n",
      "SW_TUNER_TV 0.7228915662650602\n",
      "SW_DRIVEASSIST 0.7738264580369844\n",
      "SW_Unknown 0.01639344262295082\n",
      "SW_METER 0.712707182320442\n",
      "SW_FRAMEWORK_HMI 0.08976660682226212\n",
      "SW_TUNER_SXM 0.869220607661823\n",
      "SW_TUNER_AMFM 0.7238095238095238\n",
      "SW_Base 0.14634146341463414\n",
      "Mechanic 0.8565022421524664\n",
      "SW_PARKASSIST 0.8397365532381997\n",
      "Production-General 0.13157894736842105\n",
      "SW_NAVIGATION_JPN 0.3139784946236559\n",
      "SW_SWUPDATE 0.7983870967741935\n",
      "SW_SPM 0.3076923076923077\n",
      "SW_HOME_MENU 0.5289634146341463\n",
      "SW_PROFILE 0.7243243243243244\n",
      "SW_GRAPHICS 0.047619047619047616\n",
      "TEST_FEP 0.37168141592920356\n",
      "SW_DATA 0.034782608695652174\n",
      "SW_TRANSLATIONS 0.1220472440944882\n",
      "SW_TUNER_HD 0.7362637362637363\n",
      "SW_Master_HMI 0.15467625899280577\n",
      "HW-General 0.6438356164383562\n",
      "SW_MANAPPS 0.3565217391304348\n",
      "SW_SECURITY 0.4\n",
      "TEST_ZTEST 1.0\n",
      "SW_OFFICE 0.3409090909090909\n",
      "SW_DIMMING 0.19672131147540983\n",
      "SW_INPUT 0.036585365853658534\n",
      "SW_SNM 0.18181818181818182\n",
      "SW_WIDGETS 0.0\n",
      "Production-Test 0.0\n",
      "SW_ADASIS 0.12\n",
      "SW_CMD 0.0\n",
      "SW_ARCHITECTURE 0.1\n",
      "SW_TUNER_DAB 0.7314285714285714\n",
      "SW_CONFIG_MGR 0.2\n",
      "SW_NETWORKING 0.1\n",
      "SW_TUNERGENERIC 0.0\n",
      "SW_DEBUG_TRACE 0.7352941176470589\n",
      "SW_ADR3 0.07142857142857142\n",
      "TEST_EMC 0.9666666666666667\n",
      "SW_IPCM 0.5\n",
      "Mechanic-PIVI 0.0\n",
      "SW_CAN_SIM 0.0\n",
      "SW_Obigo 0.0\n",
      "SW_PD-CD-Config 0.0\n",
      "SW_TomTom 0.0\n",
      "SW_NAVIGATION_KOR 0.0\n",
      "HW-General-PIVI 0.0\n"
     ]
    }
   ],
   "source": [
    "Error.err.class_err(y_test,predicted_svm_stemmed)"
   ]
  },
  {
   "cell_type": "code",
   "execution_count": 169,
   "metadata": {},
   "outputs": [
    {
     "name": "stdout",
     "output_type": "stream",
     "text": [
      "Best Score 0.6704317442745451\n",
      "Best Parameters {'clf-svm__alpha': 0.001, 'tfidf__use_idf': True, 'vect__ngram_range': (1, 2)}\n"
     ]
    }
   ],
   "source": [
    "parameters_svm = {'vect__ngram_range': [(1, 1), (1, 2)], 'tfidf__use_idf': (True, False),'clf-svm__alpha': (1e-2, 1e-3)}\n",
    "\n",
    "gs_clf_svm = GridSearchCV(text_clf_svm, parameters_svm, n_jobs=-1)\n",
    "gs_clf_svm = gs_clf_svm.fit(X_train, y_train)\n",
    "\n",
    "\n",
    "print(\"Best Score\",gs_clf_svm.best_score_)\n",
    "print(\"Best Parameters\",gs_clf_svm.best_params_)"
   ]
  },
  {
   "cell_type": "code",
   "execution_count": 174,
   "metadata": {},
   "outputs": [
    {
     "data": {
      "text/plain": [
       "0.673568228599104"
      ]
     },
     "execution_count": 174,
     "metadata": {},
     "output_type": "execute_result"
    }
   ],
   "source": [
    "text_clf_svm = Pipeline([('vect', CountVectorizer(ngram_range=(1,2))), ('tfidf', TfidfTransformer(use_idf=True)),\n",
    "                         ('clf-svm', SGDClassifier(loss='hinge', penalty='l2',alpha=1e-3, n_iter=5, random_state=42))])\n",
    "\n",
    "text_clf_svm = text_clf_svm.fit(X_train, y_train)\n",
    "predicted_svm = text_clf_svm.predict(X_test)\n",
    "np.mean(predicted_svm == y_test)"
   ]
  },
  {
   "cell_type": "code",
   "execution_count": 175,
   "metadata": {},
   "outputs": [
    {
     "name": "stdout",
     "output_type": "stream",
     "text": [
      "SW_AUDIO 0.2475633528265107\n",
      "SW_NAVIGATION 0.928332636857501\n",
      "SW_PHONE 0.8294286888614879\n",
      "SW_INFOTAINMENT 0.78268156424581\n",
      "SW_SMARTPHONE 0.83274231678487\n",
      "SW_SYSTEM 0.40694789081885857\n",
      "SW_SPEECH 0.7847358121330724\n",
      "SW_Resets 0.3350253807106599\n",
      "SW_TELEMATIC 0.6242236024844721\n",
      "SW_DIAGNOSTIC 0.7386363636363636\n",
      "SW_WIFI 0.7795918367346939\n",
      "SW_OTAS 0.38016528925619836\n",
      "SW_TUNER_TV 0.6204819277108434\n",
      "SW_DRIVEASSIST 0.6998577524893315\n",
      "SW_Unknown 0.01639344262295082\n",
      "SW_METER 0.5497237569060773\n",
      "SW_FRAMEWORK_HMI 0.0807899461400359\n",
      "SW_TUNER_SXM 0.869220607661823\n",
      "SW_TUNER_AMFM 0.7224489795918367\n",
      "SW_Base 0.12195121951219512\n",
      "Mechanic 0.8475336322869955\n",
      "SW_PARKASSIST 0.845225027442371\n",
      "Production-General 0.13157894736842105\n",
      "SW_NAVIGATION_JPN 0.14623655913978495\n",
      "SW_SWUPDATE 0.7956989247311828\n",
      "SW_SPM 0.3418803418803419\n",
      "SW_HOME_MENU 0.4527439024390244\n",
      "SW_PROFILE 0.654054054054054\n",
      "SW_GRAPHICS 0.09523809523809523\n",
      "TEST_FEP 0.35398230088495575\n",
      "SW_DATA 0.02608695652173913\n",
      "SW_TRANSLATIONS 0.07480314960629922\n",
      "SW_TUNER_HD 0.6043956043956044\n",
      "SW_Master_HMI 0.17805755395683454\n",
      "HW-General 0.6301369863013698\n",
      "SW_MANAPPS 0.3391304347826087\n",
      "SW_SECURITY 0.32\n",
      "TEST_ZTEST 0.8636363636363636\n",
      "SW_OFFICE 0.22727272727272727\n",
      "SW_DIMMING 0.13114754098360656\n",
      "SW_INPUT 0.04878048780487805\n",
      "SW_SNM 0.18181818181818182\n",
      "SW_WIDGETS 0.0\n",
      "Production-Test 0.0\n",
      "SW_ADASIS 0.12\n",
      "SW_CMD 0.0\n",
      "SW_ARCHITECTURE 0.1\n",
      "SW_TUNER_DAB 0.7142857142857143\n",
      "SW_CONFIG_MGR 0.2\n",
      "SW_NETWORKING 0.05\n",
      "SW_TUNERGENERIC 0.024390243902439025\n",
      "SW_DEBUG_TRACE 0.7058823529411765\n",
      "SW_ADR3 0.07142857142857142\n",
      "TEST_EMC 0.9\n",
      "SW_IPCM 0.375\n",
      "Mechanic-PIVI 0.0\n",
      "SW_CAN_SIM 0.0\n",
      "SW_Obigo 0.0\n",
      "SW_PD-CD-Config 0.0\n",
      "SW_TomTom 0.0\n",
      "SW_NAVIGATION_KOR 0.0\n",
      "HW-General-PIVI 0.0\n"
     ]
    }
   ],
   "source": [
    "Error.err.class_err(y_test,predicted_svm)"
   ]
  },
  {
   "cell_type": "code",
   "execution_count": 207,
   "metadata": {
    "scrolled": true
   },
   "outputs": [],
   "source": [
    "test=pd.DataFrame()\n",
    "test['Prediction_MNB']=predicted_mnb_stemmed\n",
    "test['Prediction_svm']=predicted_svm\n",
    "test['Prediction_mnb']=predicted_best\n",
    "test['predicted_svm_stemmed']=predicted_svm_stemmed\n",
    "test['Component/s']=np.array(y_test)"
   ]
  },
  {
   "cell_type": "code",
   "execution_count": 208,
   "metadata": {},
   "outputs": [],
   "source": [
    "all_perfect=len(test[(test['Component/s']==test['Prediction_mnb' ] )&( test['Component/s']==test['Prediction_svm' ]) & ( test['Component/s']==test['Prediction_MNB' ])&( test['Component/s']==test['predicted_svm_stemmed' ])])\n",
    "mod1=len(test[(test['Component/s']==test['Prediction_mnb' ])]) \n",
    "mod2=len(test[(test['Component/s']==test['Prediction_svm' ])]) \n",
    "mod3=len(test[(test['Component/s']==test['Prediction_MNB' ])]) \n",
    "mod4=len(test[(test['Component/s']==test['predicted_svm_stemmed' ])]) \n",
    "mod5=262\n",
    "plot_data=np.array([all_perfect,mod1,mod2,mod3,mod4,mod5])\n",
    "names=['All Correct','MNB','SVM','Stemmed MNB','SVM_Stemmed','LDA']"
   ]
  },
  {
   "cell_type": "code",
   "execution_count": 209,
   "metadata": {},
   "outputs": [
    {
     "data": {
      "image/png": "[encoded data removed]",
      "text/plain": [
       "<Figure size 432x288 with 1 Axes>"
      ]
     },
     "metadata": {},
     "output_type": "display_data"
    }
   ],
   "source": [
    "xticklabels = (names)\n",
    "# Remove the single quotes, commas and enclosing square brackets\n",
    "xtlabs = names\n",
    "\n",
    "indices = np.arange(len(names))\n",
    "width = 0.75\n",
    "fig = plt.figure()\n",
    "col=('green','#900900','green','green','green','yellow')\n",
    "plt.title('Model vs Correct values')\n",
    "plt.xlabel('Model')\n",
    "plt.ylabel('Correct Values')\n",
    "plt.bar(indices, plot_data, width,color=col)\n",
    "plt.xticks(indices + width * 0.05, xtlabs, rotation='horizontal', fontsize=8)\n",
    "\n",
    "plt.savefig('Model_Correct.png')\n",
    "plt.show()\n"
   ]
  },
  {
   "cell_type": "code",
   "execution_count": 210,
   "metadata": {
    "scrolled": false
   },
   "outputs": [
    {
     "data": {
      "image/png": "[encoded data removed]",
      "text/plain": [
       "<Figure size 640x480 with 1 Axes>"
      ]
     },
     "metadata": {},
     "output_type": "display_data"
    }
   ],
   "source": [
    "\n",
    "plt.rcdefaults()\n",
    "fig, ax = plt.subplots()\n",
    "\n",
    "# Example data\n",
    "people = names\n",
    "y_pos = np.arange(len(people))\n",
    "performance = plot_data\n",
    "error = np.random.rand(len(people))\n",
    "col=('green','#900900','green','green','green','yellow')\n",
    "ax.barh(y_pos, performance, xerr=error, align='center',\n",
    "        color=col, ecolor='black')\n",
    "ax.set_yticks(y_pos)\n",
    "ax.set_yticklabels(people)\n",
    "ax.invert_yaxis()  # labels read top-to-bottom\n",
    "ax.set_xlabel('Correct Predictions')\n",
    "ax.set_title('Model Vs Correct Predictions')\n",
    "plt.show()"
   ]
  },
  {
   "cell_type": "code",
   "execution_count": 211,
   "metadata": {},
   "outputs": [
    {
     "data": {
      "text/plain": [
       "array([13089, 17197, 16689, 15307, 17002,   262])"
      ]
     },
     "execution_count": 211,
     "metadata": {},
     "output_type": "execute_result"
    }
   ],
   "source": [
    "plot_data"
   ]
  },
  {
   "cell_type": "code",
   "execution_count": 32,
   "metadata": {},
   "outputs": [],
   "source": [
    "D=pd.DataFrame()\n",
    "D['Model']=names\n",
    "D['Accuracy']=plot_data*100/len(test)"
   ]
  },
  {
   "cell_type": "code",
   "execution_count": 33,
   "metadata": {},
   "outputs": [],
   "source": [
    "D.to_csv(\"Plot_data.csv\")"
   ]
  },
  {
   "cell_type": "code",
   "execution_count": 34,
   "metadata": {},
   "outputs": [],
   "source": [
    "accu=plot_data[1:]/len(test)"
   ]
  },
  {
   "cell_type": "code",
   "execution_count": 35,
   "metadata": {},
   "outputs": [
    {
     "data": {
      "image/png": "[encoded data removed]",
      "text/plain": [
       "<Figure size 640x480 with 1 Axes>"
      ]
     },
     "metadata": {},
     "output_type": "display_data"
    }
   ],
   "source": [
    "xticklabels = (names[1:])\n",
    "# Remove the single quotes, commas and enclosing square brackets\n",
    "xtlabs = names[1:]\n",
    "\n",
    "indices = np.arange(len(names[1:]))\n",
    "width = 0.75\n",
    "fig = plt.figure()\n",
    "col=('#900900','green','green','green','yellow')\n",
    "plt.title('Model vs Accuracy')\n",
    "plt.xlabel('Model')\n",
    "plt.ylabel('Accuracy')\n",
    "plt.bar(indices, accu, width,color=col)\n",
    "plt.xticks(indices + width * 0.05, xtlabs, rotation='horizontal', fontsize=8)\n",
    "plt.savefig('Model_Accuracy.png')\n",
    "plt.show()"
   ]
  },
  {
   "cell_type": "code",
   "execution_count": 36,
   "metadata": {},
   "outputs": [
    {
     "data": {
      "text/plain": [
       "['MNB', 'SVM', 'Stemmed MNB', 'SVM_Stemmed', 'LDA']"
      ]
     },
     "execution_count": 36,
     "metadata": {},
     "output_type": "execute_result"
    }
   ],
   "source": [
    "xticklabels"
   ]
  },
  {
   "cell_type": "code",
   "execution_count": 37,
   "metadata": {},
   "outputs": [
    {
     "data": {
      "text/plain": [
       "0.07830245068738792"
      ]
     },
     "execution_count": 37,
     "metadata": {},
     "output_type": "execute_result"
    }
   ],
   "source": [
    "262/len(test)"
   ]
  },
  {
   "cell_type": "code",
   "execution_count": 38,
   "metadata": {},
   "outputs": [],
   "source": [
    "train_x, valid_x, train_y, valid_y = model_selection.train_test_split(train_data['Summary'], train_data['Component/s'])"
   ]
  },
  {
   "cell_type": "code",
   "execution_count": 39,
   "metadata": {},
   "outputs": [
    {
     "data": {
      "text/plain": [
       "20648"
      ]
     },
     "execution_count": 39,
     "metadata": {},
     "output_type": "execute_result"
    }
   ],
   "source": [
    "len(valid_x)"
   ]
  },
  {
   "cell_type": "code",
   "execution_count": 212,
   "metadata": {},
   "outputs": [
    {
     "data": {
      "text/html": [
       "<div>\n",
       "<style scoped>\n",
       "    .dataframe tbody tr th:only-of-type {\n",
       "        vertical-align: middle;\n",
       "    }\n",
       "\n",
       "    .dataframe tbody tr th {\n",
       "        vertical-align: top;\n",
       "    }\n",
       "\n",
       "    .dataframe thead th {\n",
       "        text-align: right;\n",
       "    }\n",
       "</style>\n",
       "<table border=\"1\" class=\"dataframe\">\n",
       "  <thead>\n",
       "    <tr style=\"text-align: right;\">\n",
       "      <th></th>\n",
       "      <th>Prediction_MNB</th>\n",
       "      <th>Prediction_svm</th>\n",
       "      <th>Prediction_mnb</th>\n",
       "      <th>predicted_svm_stemmed</th>\n",
       "      <th>Component/s</th>\n",
       "    </tr>\n",
       "  </thead>\n",
       "  <tbody>\n",
       "    <tr>\n",
       "      <th>0</th>\n",
       "      <td>SW_NAVIGATION</td>\n",
       "      <td>SW_PARKASSIST</td>\n",
       "      <td>SW_NAVIGATION</td>\n",
       "      <td>SW_PARKASSIST</td>\n",
       "      <td>SW_AUDIO</td>\n",
       "    </tr>\n",
       "    <tr>\n",
       "      <th>1</th>\n",
       "      <td>SW_NAVIGATION</td>\n",
       "      <td>SW_NAVIGATION</td>\n",
       "      <td>SW_NAVIGATION</td>\n",
       "      <td>SW_NAVIGATION</td>\n",
       "      <td>SW_NAVIGATION</td>\n",
       "    </tr>\n",
       "    <tr>\n",
       "      <th>2</th>\n",
       "      <td>SW_NAVIGATION</td>\n",
       "      <td>SW_NAVIGATION</td>\n",
       "      <td>SW_NAVIGATION</td>\n",
       "      <td>SW_NAVIGATION</td>\n",
       "      <td>SW_NAVIGATION</td>\n",
       "    </tr>\n",
       "    <tr>\n",
       "      <th>3</th>\n",
       "      <td>SW_NAVIGATION</td>\n",
       "      <td>SW_NAVIGATION</td>\n",
       "      <td>SW_NAVIGATION</td>\n",
       "      <td>SW_NAVIGATION</td>\n",
       "      <td>SW_NAVIGATION</td>\n",
       "    </tr>\n",
       "    <tr>\n",
       "      <th>4</th>\n",
       "      <td>SW_PHONE</td>\n",
       "      <td>SW_PHONE</td>\n",
       "      <td>SW_PHONE</td>\n",
       "      <td>SW_PHONE</td>\n",
       "      <td>SW_PHONE</td>\n",
       "    </tr>\n",
       "    <tr>\n",
       "      <th>5</th>\n",
       "      <td>SW_PHONE</td>\n",
       "      <td>SW_PHONE</td>\n",
       "      <td>SW_PHONE</td>\n",
       "      <td>SW_PHONE</td>\n",
       "      <td>SW_PHONE</td>\n",
       "    </tr>\n",
       "    <tr>\n",
       "      <th>6</th>\n",
       "      <td>SW_INFOTAINMENT</td>\n",
       "      <td>SW_INFOTAINMENT</td>\n",
       "      <td>SW_INFOTAINMENT</td>\n",
       "      <td>SW_INFOTAINMENT</td>\n",
       "      <td>SW_INFOTAINMENT</td>\n",
       "    </tr>\n",
       "    <tr>\n",
       "      <th>7</th>\n",
       "      <td>SW_NAVIGATION</td>\n",
       "      <td>SW_NAVIGATION</td>\n",
       "      <td>SW_NAVIGATION</td>\n",
       "      <td>SW_NAVIGATION</td>\n",
       "      <td>SW_NAVIGATION</td>\n",
       "    </tr>\n",
       "    <tr>\n",
       "      <th>8</th>\n",
       "      <td>SW_PHONE</td>\n",
       "      <td>SW_PHONE</td>\n",
       "      <td>SW_PHONE</td>\n",
       "      <td>SW_PHONE</td>\n",
       "      <td>SW_PHONE</td>\n",
       "    </tr>\n",
       "    <tr>\n",
       "      <th>9</th>\n",
       "      <td>SW_NAVIGATION</td>\n",
       "      <td>SW_NAVIGATION</td>\n",
       "      <td>SW_NAVIGATION</td>\n",
       "      <td>SW_NAVIGATION</td>\n",
       "      <td>SW_SMARTPHONE</td>\n",
       "    </tr>\n",
       "    <tr>\n",
       "      <th>10</th>\n",
       "      <td>SW_INFOTAINMENT</td>\n",
       "      <td>SW_INFOTAINMENT</td>\n",
       "      <td>SW_INFOTAINMENT</td>\n",
       "      <td>SW_INFOTAINMENT</td>\n",
       "      <td>SW_AUDIO</td>\n",
       "    </tr>\n",
       "    <tr>\n",
       "      <th>11</th>\n",
       "      <td>SW_PARKASSIST</td>\n",
       "      <td>SW_PARKASSIST</td>\n",
       "      <td>SW_PARKASSIST</td>\n",
       "      <td>SW_PARKASSIST</td>\n",
       "      <td>SW_SYSTEM</td>\n",
       "    </tr>\n",
       "    <tr>\n",
       "      <th>12</th>\n",
       "      <td>SW_SPEECH</td>\n",
       "      <td>SW_SPEECH</td>\n",
       "      <td>SW_SMARTPHONE</td>\n",
       "      <td>SW_SPEECH</td>\n",
       "      <td>SW_SPEECH</td>\n",
       "    </tr>\n",
       "    <tr>\n",
       "      <th>13</th>\n",
       "      <td>SW_SMARTPHONE</td>\n",
       "      <td>SW_NAVIGATION</td>\n",
       "      <td>SW_SMARTPHONE</td>\n",
       "      <td>SW_Master_HMI</td>\n",
       "      <td>SW_NAVIGATION</td>\n",
       "    </tr>\n",
       "    <tr>\n",
       "      <th>14</th>\n",
       "      <td>SW_PHONE</td>\n",
       "      <td>SW_PHONE</td>\n",
       "      <td>SW_PHONE</td>\n",
       "      <td>SW_PHONE</td>\n",
       "      <td>SW_Resets</td>\n",
       "    </tr>\n",
       "    <tr>\n",
       "      <th>15</th>\n",
       "      <td>SW_TELEMATIC</td>\n",
       "      <td>SW_TELEMATIC</td>\n",
       "      <td>SW_TELEMATIC</td>\n",
       "      <td>SW_TELEMATIC</td>\n",
       "      <td>SW_TELEMATIC</td>\n",
       "    </tr>\n",
       "    <tr>\n",
       "      <th>16</th>\n",
       "      <td>SW_DIAGNOSTIC</td>\n",
       "      <td>SW_DIAGNOSTIC</td>\n",
       "      <td>SW_DIAGNOSTIC</td>\n",
       "      <td>SW_DIAGNOSTIC</td>\n",
       "      <td>SW_DIAGNOSTIC</td>\n",
       "    </tr>\n",
       "    <tr>\n",
       "      <th>17</th>\n",
       "      <td>SW_PHONE</td>\n",
       "      <td>SW_SMARTPHONE</td>\n",
       "      <td>SW_SMARTPHONE</td>\n",
       "      <td>SW_PHONE</td>\n",
       "      <td>SW_PHONE</td>\n",
       "    </tr>\n",
       "    <tr>\n",
       "      <th>18</th>\n",
       "      <td>SW_WIFI</td>\n",
       "      <td>SW_WIFI</td>\n",
       "      <td>SW_WIFI</td>\n",
       "      <td>SW_WIFI</td>\n",
       "      <td>SW_WIFI</td>\n",
       "    </tr>\n",
       "    <tr>\n",
       "      <th>19</th>\n",
       "      <td>SW_NAVIGATION</td>\n",
       "      <td>SW_NAVIGATION</td>\n",
       "      <td>SW_NAVIGATION</td>\n",
       "      <td>SW_NAVIGATION</td>\n",
       "      <td>SW_NAVIGATION</td>\n",
       "    </tr>\n",
       "    <tr>\n",
       "      <th>20</th>\n",
       "      <td>SW_WIFI</td>\n",
       "      <td>SW_WIFI</td>\n",
       "      <td>SW_WIFI</td>\n",
       "      <td>SW_WIFI</td>\n",
       "      <td>SW_WIFI</td>\n",
       "    </tr>\n",
       "    <tr>\n",
       "      <th>21</th>\n",
       "      <td>SW_PHONE</td>\n",
       "      <td>SW_TELEMATIC</td>\n",
       "      <td>SW_NAVIGATION_JPN</td>\n",
       "      <td>SW_TELEMATIC</td>\n",
       "      <td>SW_TELEMATIC</td>\n",
       "    </tr>\n",
       "    <tr>\n",
       "      <th>22</th>\n",
       "      <td>SW_DIAGNOSTIC</td>\n",
       "      <td>SW_DIAGNOSTIC</td>\n",
       "      <td>SW_DIAGNOSTIC</td>\n",
       "      <td>SW_DIAGNOSTIC</td>\n",
       "      <td>SW_DIAGNOSTIC</td>\n",
       "    </tr>\n",
       "    <tr>\n",
       "      <th>23</th>\n",
       "      <td>SW_Resets</td>\n",
       "      <td>SW_SPEECH</td>\n",
       "      <td>SW_Resets</td>\n",
       "      <td>SW_SPEECH</td>\n",
       "      <td>SW_SPEECH</td>\n",
       "    </tr>\n",
       "    <tr>\n",
       "      <th>24</th>\n",
       "      <td>SW_SMARTPHONE</td>\n",
       "      <td>SW_WIFI</td>\n",
       "      <td>SW_SMARTPHONE</td>\n",
       "      <td>SW_WIFI</td>\n",
       "      <td>SW_SMARTPHONE</td>\n",
       "    </tr>\n",
       "    <tr>\n",
       "      <th>25</th>\n",
       "      <td>SW_NAVIGATION</td>\n",
       "      <td>SW_INFOTAINMENT</td>\n",
       "      <td>SW_NAVIGATION</td>\n",
       "      <td>SW_INFOTAINMENT</td>\n",
       "      <td>SW_INFOTAINMENT</td>\n",
       "    </tr>\n",
       "    <tr>\n",
       "      <th>26</th>\n",
       "      <td>SW_PHONE</td>\n",
       "      <td>SW_PHONE</td>\n",
       "      <td>SW_PHONE</td>\n",
       "      <td>SW_PHONE</td>\n",
       "      <td>SW_PHONE</td>\n",
       "    </tr>\n",
       "    <tr>\n",
       "      <th>27</th>\n",
       "      <td>SW_INFOTAINMENT</td>\n",
       "      <td>SW_INFOTAINMENT</td>\n",
       "      <td>SW_INFOTAINMENT</td>\n",
       "      <td>SW_INFOTAINMENT</td>\n",
       "      <td>SW_INFOTAINMENT</td>\n",
       "    </tr>\n",
       "    <tr>\n",
       "      <th>28</th>\n",
       "      <td>SW_PHONE</td>\n",
       "      <td>SW_PHONE</td>\n",
       "      <td>SW_PHONE</td>\n",
       "      <td>SW_INFOTAINMENT</td>\n",
       "      <td>SW_PHONE</td>\n",
       "    </tr>\n",
       "    <tr>\n",
       "      <th>29</th>\n",
       "      <td>SW_INFOTAINMENT</td>\n",
       "      <td>SW_TUNER_AMFM</td>\n",
       "      <td>SW_SMARTPHONE</td>\n",
       "      <td>SW_TUNER_AMFM</td>\n",
       "      <td>SW_AUDIO</td>\n",
       "    </tr>\n",
       "    <tr>\n",
       "      <th>...</th>\n",
       "      <td>...</td>\n",
       "      <td>...</td>\n",
       "      <td>...</td>\n",
       "      <td>...</td>\n",
       "      <td>...</td>\n",
       "    </tr>\n",
       "    <tr>\n",
       "      <th>24747</th>\n",
       "      <td>SW_NAVIGATION</td>\n",
       "      <td>SW_NAVIGATION</td>\n",
       "      <td>SW_NAVIGATION</td>\n",
       "      <td>SW_NAVIGATION</td>\n",
       "      <td>SW_NAVIGATION</td>\n",
       "    </tr>\n",
       "    <tr>\n",
       "      <th>24748</th>\n",
       "      <td>SW_Resets</td>\n",
       "      <td>SW_Master_HMI</td>\n",
       "      <td>SW_Resets</td>\n",
       "      <td>SW_Master_HMI</td>\n",
       "      <td>SW_TUNER_AMFM</td>\n",
       "    </tr>\n",
       "    <tr>\n",
       "      <th>24749</th>\n",
       "      <td>SW_NAVIGATION</td>\n",
       "      <td>SW_NAVIGATION</td>\n",
       "      <td>SW_NAVIGATION_JPN</td>\n",
       "      <td>SW_NAVIGATION_JPN</td>\n",
       "      <td>SW_NAVIGATION_JPN</td>\n",
       "    </tr>\n",
       "    <tr>\n",
       "      <th>24750</th>\n",
       "      <td>SW_TELEMATIC</td>\n",
       "      <td>SW_TELEMATIC</td>\n",
       "      <td>SW_TELEMATIC</td>\n",
       "      <td>SW_TELEMATIC</td>\n",
       "      <td>SW_TELEMATIC</td>\n",
       "    </tr>\n",
       "    <tr>\n",
       "      <th>24751</th>\n",
       "      <td>SW_SMARTPHONE</td>\n",
       "      <td>SW_SMARTPHONE</td>\n",
       "      <td>SW_SMARTPHONE</td>\n",
       "      <td>SW_SMARTPHONE</td>\n",
       "      <td>SW_SMARTPHONE</td>\n",
       "    </tr>\n",
       "    <tr>\n",
       "      <th>24752</th>\n",
       "      <td>SW_NAVIGATION</td>\n",
       "      <td>SW_NAVIGATION</td>\n",
       "      <td>SW_NAVIGATION</td>\n",
       "      <td>SW_NAVIGATION</td>\n",
       "      <td>SW_NAVIGATION</td>\n",
       "    </tr>\n",
       "    <tr>\n",
       "      <th>24753</th>\n",
       "      <td>SW_NAVIGATION</td>\n",
       "      <td>SW_NAVIGATION</td>\n",
       "      <td>SW_NAVIGATION</td>\n",
       "      <td>SW_NAVIGATION</td>\n",
       "      <td>SW_NAVIGATION</td>\n",
       "    </tr>\n",
       "    <tr>\n",
       "      <th>24754</th>\n",
       "      <td>SW_SPEECH</td>\n",
       "      <td>SW_SPEECH</td>\n",
       "      <td>SW_AUDIO</td>\n",
       "      <td>SW_SPEECH</td>\n",
       "      <td>SW_SPEECH</td>\n",
       "    </tr>\n",
       "    <tr>\n",
       "      <th>24755</th>\n",
       "      <td>SW_NAVIGATION</td>\n",
       "      <td>SW_NAVIGATION</td>\n",
       "      <td>SW_NAVIGATION</td>\n",
       "      <td>SW_NAVIGATION</td>\n",
       "      <td>SW_NAVIGATION</td>\n",
       "    </tr>\n",
       "    <tr>\n",
       "      <th>24756</th>\n",
       "      <td>SW_TELEMATIC</td>\n",
       "      <td>SW_TELEMATIC</td>\n",
       "      <td>SW_TELEMATIC</td>\n",
       "      <td>SW_TELEMATIC</td>\n",
       "      <td>SW_TELEMATIC</td>\n",
       "    </tr>\n",
       "    <tr>\n",
       "      <th>24757</th>\n",
       "      <td>SW_NAVIGATION</td>\n",
       "      <td>SW_NAVIGATION</td>\n",
       "      <td>SW_NAVIGATION</td>\n",
       "      <td>SW_NAVIGATION</td>\n",
       "      <td>SW_NAVIGATION</td>\n",
       "    </tr>\n",
       "    <tr>\n",
       "      <th>24758</th>\n",
       "      <td>SW_NAVIGATION</td>\n",
       "      <td>SW_NAVIGATION</td>\n",
       "      <td>SW_NAVIGATION</td>\n",
       "      <td>SW_NAVIGATION</td>\n",
       "      <td>SW_NAVIGATION</td>\n",
       "    </tr>\n",
       "    <tr>\n",
       "      <th>24759</th>\n",
       "      <td>SW_DIAGNOSTIC</td>\n",
       "      <td>SW_METER</td>\n",
       "      <td>SW_DIAGNOSTIC</td>\n",
       "      <td>SW_METER</td>\n",
       "      <td>SW_METER</td>\n",
       "    </tr>\n",
       "    <tr>\n",
       "      <th>24760</th>\n",
       "      <td>SW_TUNER_AMFM</td>\n",
       "      <td>SW_TUNER_AMFM</td>\n",
       "      <td>SW_TUNER_AMFM</td>\n",
       "      <td>SW_TUNER_AMFM</td>\n",
       "      <td>SW_TUNER_AMFM</td>\n",
       "    </tr>\n",
       "    <tr>\n",
       "      <th>24761</th>\n",
       "      <td>SW_PROFILE</td>\n",
       "      <td>SW_PROFILE</td>\n",
       "      <td>SW_Master_HMI</td>\n",
       "      <td>SW_PROFILE</td>\n",
       "      <td>SW_PROFILE</td>\n",
       "    </tr>\n",
       "    <tr>\n",
       "      <th>24762</th>\n",
       "      <td>SW_SPEECH</td>\n",
       "      <td>SW_SPEECH</td>\n",
       "      <td>SW_SPEECH</td>\n",
       "      <td>SW_SPEECH</td>\n",
       "      <td>SW_SPEECH</td>\n",
       "    </tr>\n",
       "    <tr>\n",
       "      <th>24763</th>\n",
       "      <td>SW_PARKASSIST</td>\n",
       "      <td>SW_PARKASSIST</td>\n",
       "      <td>SW_PARKASSIST</td>\n",
       "      <td>SW_PARKASSIST</td>\n",
       "      <td>SW_PARKASSIST</td>\n",
       "    </tr>\n",
       "    <tr>\n",
       "      <th>24764</th>\n",
       "      <td>SW_SYSTEM</td>\n",
       "      <td>SW_SYSTEM</td>\n",
       "      <td>SW_SYSTEM</td>\n",
       "      <td>SW_SYSTEM</td>\n",
       "      <td>SW_SYSTEM</td>\n",
       "    </tr>\n",
       "    <tr>\n",
       "      <th>24765</th>\n",
       "      <td>SW_PHONE</td>\n",
       "      <td>SW_PHONE</td>\n",
       "      <td>SW_PHONE</td>\n",
       "      <td>SW_PHONE</td>\n",
       "      <td>SW_PHONE</td>\n",
       "    </tr>\n",
       "    <tr>\n",
       "      <th>24766</th>\n",
       "      <td>SW_NAVIGATION</td>\n",
       "      <td>SW_NAVIGATION</td>\n",
       "      <td>SW_NAVIGATION</td>\n",
       "      <td>SW_NAVIGATION</td>\n",
       "      <td>SW_NAVIGATION</td>\n",
       "    </tr>\n",
       "    <tr>\n",
       "      <th>24767</th>\n",
       "      <td>SW_PHONE</td>\n",
       "      <td>SW_PHONE</td>\n",
       "      <td>SW_PHONE</td>\n",
       "      <td>SW_PHONE</td>\n",
       "      <td>SW_PHONE</td>\n",
       "    </tr>\n",
       "    <tr>\n",
       "      <th>24768</th>\n",
       "      <td>SW_NAVIGATION</td>\n",
       "      <td>SW_NAVIGATION</td>\n",
       "      <td>SW_NAVIGATION</td>\n",
       "      <td>SW_NAVIGATION</td>\n",
       "      <td>SW_NAVIGATION</td>\n",
       "    </tr>\n",
       "    <tr>\n",
       "      <th>24769</th>\n",
       "      <td>SW_TUNER_SXM</td>\n",
       "      <td>SW_TUNER_SXM</td>\n",
       "      <td>SW_TUNER_SXM</td>\n",
       "      <td>SW_TUNER_SXM</td>\n",
       "      <td>SW_TUNER_SXM</td>\n",
       "    </tr>\n",
       "    <tr>\n",
       "      <th>24770</th>\n",
       "      <td>SW_PHONE</td>\n",
       "      <td>SW_PHONE</td>\n",
       "      <td>SW_PHONE</td>\n",
       "      <td>SW_PHONE</td>\n",
       "      <td>SW_PHONE</td>\n",
       "    </tr>\n",
       "    <tr>\n",
       "      <th>24771</th>\n",
       "      <td>SW_NAVIGATION</td>\n",
       "      <td>SW_NAVIGATION</td>\n",
       "      <td>SW_NAVIGATION</td>\n",
       "      <td>SW_NAVIGATION</td>\n",
       "      <td>SW_NAVIGATION</td>\n",
       "    </tr>\n",
       "    <tr>\n",
       "      <th>24772</th>\n",
       "      <td>SW_NAVIGATION</td>\n",
       "      <td>SW_NAVIGATION</td>\n",
       "      <td>SW_DATA</td>\n",
       "      <td>SW_NAVIGATION</td>\n",
       "      <td>SW_NAVIGATION</td>\n",
       "    </tr>\n",
       "    <tr>\n",
       "      <th>24773</th>\n",
       "      <td>SW_INFOTAINMENT</td>\n",
       "      <td>SW_INFOTAINMENT</td>\n",
       "      <td>SW_INFOTAINMENT</td>\n",
       "      <td>SW_INFOTAINMENT</td>\n",
       "      <td>SW_INFOTAINMENT</td>\n",
       "    </tr>\n",
       "    <tr>\n",
       "      <th>24774</th>\n",
       "      <td>SW_NAVIGATION</td>\n",
       "      <td>SW_NAVIGATION</td>\n",
       "      <td>SW_NAVIGATION</td>\n",
       "      <td>SW_NAVIGATION</td>\n",
       "      <td>SW_WIFI</td>\n",
       "    </tr>\n",
       "    <tr>\n",
       "      <th>24775</th>\n",
       "      <td>SW_NAVIGATION</td>\n",
       "      <td>SW_NAVIGATION</td>\n",
       "      <td>SW_NAVIGATION</td>\n",
       "      <td>SW_NAVIGATION</td>\n",
       "      <td>SW_NAVIGATION</td>\n",
       "    </tr>\n",
       "    <tr>\n",
       "      <th>24776</th>\n",
       "      <td>SW_SYSTEM</td>\n",
       "      <td>SW_PARKASSIST</td>\n",
       "      <td>SW_SYSTEM</td>\n",
       "      <td>SW_TRANSLATIONS</td>\n",
       "      <td>SW_TRANSLATIONS</td>\n",
       "    </tr>\n",
       "  </tbody>\n",
       "</table>\n",
       "<p>24777 rows × 5 columns</p>\n",
       "</div>"
      ],
      "text/plain": [
       "        Prediction_MNB   Prediction_svm     Prediction_mnb  \\\n",
       "0        SW_NAVIGATION    SW_PARKASSIST      SW_NAVIGATION   \n",
       "1        SW_NAVIGATION    SW_NAVIGATION      SW_NAVIGATION   \n",
       "2        SW_NAVIGATION    SW_NAVIGATION      SW_NAVIGATION   \n",
       "3        SW_NAVIGATION    SW_NAVIGATION      SW_NAVIGATION   \n",
       "4             SW_PHONE         SW_PHONE           SW_PHONE   \n",
       "5             SW_PHONE         SW_PHONE           SW_PHONE   \n",
       "6      SW_INFOTAINMENT  SW_INFOTAINMENT    SW_INFOTAINMENT   \n",
       "7        SW_NAVIGATION    SW_NAVIGATION      SW_NAVIGATION   \n",
       "8             SW_PHONE         SW_PHONE           SW_PHONE   \n",
       "9        SW_NAVIGATION    SW_NAVIGATION      SW_NAVIGATION   \n",
       "10     SW_INFOTAINMENT  SW_INFOTAINMENT    SW_INFOTAINMENT   \n",
       "11       SW_PARKASSIST    SW_PARKASSIST      SW_PARKASSIST   \n",
       "12           SW_SPEECH        SW_SPEECH      SW_SMARTPHONE   \n",
       "13       SW_SMARTPHONE    SW_NAVIGATION      SW_SMARTPHONE   \n",
       "14            SW_PHONE         SW_PHONE           SW_PHONE   \n",
       "15        SW_TELEMATIC     SW_TELEMATIC       SW_TELEMATIC   \n",
       "16       SW_DIAGNOSTIC    SW_DIAGNOSTIC      SW_DIAGNOSTIC   \n",
       "17            SW_PHONE    SW_SMARTPHONE      SW_SMARTPHONE   \n",
       "18             SW_WIFI          SW_WIFI            SW_WIFI   \n",
       "19       SW_NAVIGATION    SW_NAVIGATION      SW_NAVIGATION   \n",
       "20             SW_WIFI          SW_WIFI            SW_WIFI   \n",
       "21            SW_PHONE     SW_TELEMATIC  SW_NAVIGATION_JPN   \n",
       "22       SW_DIAGNOSTIC    SW_DIAGNOSTIC      SW_DIAGNOSTIC   \n",
       "23           SW_Resets        SW_SPEECH          SW_Resets   \n",
       "24       SW_SMARTPHONE          SW_WIFI      SW_SMARTPHONE   \n",
       "25       SW_NAVIGATION  SW_INFOTAINMENT      SW_NAVIGATION   \n",
       "26            SW_PHONE         SW_PHONE           SW_PHONE   \n",
       "27     SW_INFOTAINMENT  SW_INFOTAINMENT    SW_INFOTAINMENT   \n",
       "28            SW_PHONE         SW_PHONE           SW_PHONE   \n",
       "29     SW_INFOTAINMENT    SW_TUNER_AMFM      SW_SMARTPHONE   \n",
       "...                ...              ...                ...   \n",
       "24747    SW_NAVIGATION    SW_NAVIGATION      SW_NAVIGATION   \n",
       "24748        SW_Resets    SW_Master_HMI          SW_Resets   \n",
       "24749    SW_NAVIGATION    SW_NAVIGATION  SW_NAVIGATION_JPN   \n",
       "24750     SW_TELEMATIC     SW_TELEMATIC       SW_TELEMATIC   \n",
       "24751    SW_SMARTPHONE    SW_SMARTPHONE      SW_SMARTPHONE   \n",
       "24752    SW_NAVIGATION    SW_NAVIGATION      SW_NAVIGATION   \n",
       "24753    SW_NAVIGATION    SW_NAVIGATION      SW_NAVIGATION   \n",
       "24754        SW_SPEECH        SW_SPEECH           SW_AUDIO   \n",
       "24755    SW_NAVIGATION    SW_NAVIGATION      SW_NAVIGATION   \n",
       "24756     SW_TELEMATIC     SW_TELEMATIC       SW_TELEMATIC   \n",
       "24757    SW_NAVIGATION    SW_NAVIGATION      SW_NAVIGATION   \n",
       "24758    SW_NAVIGATION    SW_NAVIGATION      SW_NAVIGATION   \n",
       "24759    SW_DIAGNOSTIC         SW_METER      SW_DIAGNOSTIC   \n",
       "24760    SW_TUNER_AMFM    SW_TUNER_AMFM      SW_TUNER_AMFM   \n",
       "24761       SW_PROFILE       SW_PROFILE      SW_Master_HMI   \n",
       "24762        SW_SPEECH        SW_SPEECH          SW_SPEECH   \n",
       "24763    SW_PARKASSIST    SW_PARKASSIST      SW_PARKASSIST   \n",
       "24764        SW_SYSTEM        SW_SYSTEM          SW_SYSTEM   \n",
       "24765         SW_PHONE         SW_PHONE           SW_PHONE   \n",
       "24766    SW_NAVIGATION    SW_NAVIGATION      SW_NAVIGATION   \n",
       "24767         SW_PHONE         SW_PHONE           SW_PHONE   \n",
       "24768    SW_NAVIGATION    SW_NAVIGATION      SW_NAVIGATION   \n",
       "24769     SW_TUNER_SXM     SW_TUNER_SXM       SW_TUNER_SXM   \n",
       "24770         SW_PHONE         SW_PHONE           SW_PHONE   \n",
       "24771    SW_NAVIGATION    SW_NAVIGATION      SW_NAVIGATION   \n",
       "24772    SW_NAVIGATION    SW_NAVIGATION            SW_DATA   \n",
       "24773  SW_INFOTAINMENT  SW_INFOTAINMENT    SW_INFOTAINMENT   \n",
       "24774    SW_NAVIGATION    SW_NAVIGATION      SW_NAVIGATION   \n",
       "24775    SW_NAVIGATION    SW_NAVIGATION      SW_NAVIGATION   \n",
       "24776        SW_SYSTEM    SW_PARKASSIST          SW_SYSTEM   \n",
       "\n",
       "      predicted_svm_stemmed        Component/s  \n",
       "0             SW_PARKASSIST           SW_AUDIO  \n",
       "1             SW_NAVIGATION      SW_NAVIGATION  \n",
       "2             SW_NAVIGATION      SW_NAVIGATION  \n",
       "3             SW_NAVIGATION      SW_NAVIGATION  \n",
       "4                  SW_PHONE           SW_PHONE  \n",
       "5                  SW_PHONE           SW_PHONE  \n",
       "6           SW_INFOTAINMENT    SW_INFOTAINMENT  \n",
       "7             SW_NAVIGATION      SW_NAVIGATION  \n",
       "8                  SW_PHONE           SW_PHONE  \n",
       "9             SW_NAVIGATION      SW_SMARTPHONE  \n",
       "10          SW_INFOTAINMENT           SW_AUDIO  \n",
       "11            SW_PARKASSIST          SW_SYSTEM  \n",
       "12                SW_SPEECH          SW_SPEECH  \n",
       "13            SW_Master_HMI      SW_NAVIGATION  \n",
       "14                 SW_PHONE          SW_Resets  \n",
       "15             SW_TELEMATIC       SW_TELEMATIC  \n",
       "16            SW_DIAGNOSTIC      SW_DIAGNOSTIC  \n",
       "17                 SW_PHONE           SW_PHONE  \n",
       "18                  SW_WIFI            SW_WIFI  \n",
       "19            SW_NAVIGATION      SW_NAVIGATION  \n",
       "20                  SW_WIFI            SW_WIFI  \n",
       "21             SW_TELEMATIC       SW_TELEMATIC  \n",
       "22            SW_DIAGNOSTIC      SW_DIAGNOSTIC  \n",
       "23                SW_SPEECH          SW_SPEECH  \n",
       "24                  SW_WIFI      SW_SMARTPHONE  \n",
       "25          SW_INFOTAINMENT    SW_INFOTAINMENT  \n",
       "26                 SW_PHONE           SW_PHONE  \n",
       "27          SW_INFOTAINMENT    SW_INFOTAINMENT  \n",
       "28          SW_INFOTAINMENT           SW_PHONE  \n",
       "29            SW_TUNER_AMFM           SW_AUDIO  \n",
       "...                     ...                ...  \n",
       "24747         SW_NAVIGATION      SW_NAVIGATION  \n",
       "24748         SW_Master_HMI      SW_TUNER_AMFM  \n",
       "24749     SW_NAVIGATION_JPN  SW_NAVIGATION_JPN  \n",
       "24750          SW_TELEMATIC       SW_TELEMATIC  \n",
       "24751         SW_SMARTPHONE      SW_SMARTPHONE  \n",
       "24752         SW_NAVIGATION      SW_NAVIGATION  \n",
       "24753         SW_NAVIGATION      SW_NAVIGATION  \n",
       "24754             SW_SPEECH          SW_SPEECH  \n",
       "24755         SW_NAVIGATION      SW_NAVIGATION  \n",
       "24756          SW_TELEMATIC       SW_TELEMATIC  \n",
       "24757         SW_NAVIGATION      SW_NAVIGATION  \n",
       "24758         SW_NAVIGATION      SW_NAVIGATION  \n",
       "24759              SW_METER           SW_METER  \n",
       "24760         SW_TUNER_AMFM      SW_TUNER_AMFM  \n",
       "24761            SW_PROFILE         SW_PROFILE  \n",
       "24762             SW_SPEECH          SW_SPEECH  \n",
       "24763         SW_PARKASSIST      SW_PARKASSIST  \n",
       "24764             SW_SYSTEM          SW_SYSTEM  \n",
       "24765              SW_PHONE           SW_PHONE  \n",
       "24766         SW_NAVIGATION      SW_NAVIGATION  \n",
       "24767              SW_PHONE           SW_PHONE  \n",
       "24768         SW_NAVIGATION      SW_NAVIGATION  \n",
       "24769          SW_TUNER_SXM       SW_TUNER_SXM  \n",
       "24770              SW_PHONE           SW_PHONE  \n",
       "24771         SW_NAVIGATION      SW_NAVIGATION  \n",
       "24772         SW_NAVIGATION      SW_NAVIGATION  \n",
       "24773       SW_INFOTAINMENT    SW_INFOTAINMENT  \n",
       "24774         SW_NAVIGATION            SW_WIFI  \n",
       "24775         SW_NAVIGATION      SW_NAVIGATION  \n",
       "24776       SW_TRANSLATIONS    SW_TRANSLATIONS  \n",
       "\n",
       "[24777 rows x 5 columns]"
      ]
     },
     "execution_count": 212,
     "metadata": {},
     "output_type": "execute_result"
    }
   ],
   "source": [
    "test"
   ]
  },
  {
   "cell_type": "code",
   "execution_count": 206,
   "metadata": {},
   "outputs": [
    {
     "data": {
      "text/plain": [
       "'SW_INFOTAINMENT'"
      ]
     },
     "execution_count": 206,
     "metadata": {},
     "output_type": "execute_result"
    }
   ],
   "source": [
    "y_test.iloc[6]"
   ]
  },
  {
   "cell_type": "code",
   "execution_count": null,
   "metadata": {},
   "outputs": [],
   "source": []
  }
 ],
 "metadata": {
  "kernelspec": {
   "display_name": "Python 3",
   "language": "python",
   "name": "python3"
  },
  "language_info": {
   "codemirror_mode": {
    "name": "ipython",
    "version": 3
   },
   "file_extension": ".py",
   "mimetype": "text/x-python",
   "name": "python",
   "nbconvert_exporter": "python",
   "pygments_lexer": "ipython3",
   "version": "3.6.4"
  }
 },
 "nbformat": 4,
 "nbformat_minor": 2
}
