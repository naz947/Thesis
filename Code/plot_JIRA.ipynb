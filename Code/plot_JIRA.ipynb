{
 "cells": [
  {
   "cell_type": "code",
   "execution_count": 24,
   "metadata": {},
   "outputs": [],
   "source": [
    "import pandas as pd\n",
    "import numpy as np\n",
    "import matplotlib.pyplot as plt\n",
    "from wordcloud import WordCloud, STOPWORDS, ImageColorGenerator"
   ]
  },
  {
   "cell_type": "code",
   "execution_count": 25,
   "metadata": {},
   "outputs": [],
   "source": [
    "data=pd.read_csv('jira_results.txt')"
   ]
  },
  {
   "cell_type": "code",
   "execution_count": 26,
   "metadata": {},
   "outputs": [
    {
     "data": {
      "text/html": [
       "<div>\n",
       "<style scoped>\n",
       "    .dataframe tbody tr th:only-of-type {\n",
       "        vertical-align: middle;\n",
       "    }\n",
       "\n",
       "    .dataframe tbody tr th {\n",
       "        vertical-align: top;\n",
       "    }\n",
       "\n",
       "    .dataframe thead th {\n",
       "        text-align: right;\n",
       "    }\n",
       "</style>\n",
       "<table border=\"1\" class=\"dataframe\">\n",
       "  <thead>\n",
       "    <tr style=\"text-align: right;\">\n",
       "      <th></th>\n",
       "      <th>Model</th>\n",
       "      <th>Accuracy</th>\n",
       "    </tr>\n",
       "  </thead>\n",
       "  <tbody>\n",
       "    <tr>\n",
       "      <th>0</th>\n",
       "      <td>MNB</td>\n",
       "      <td>0.698018</td>\n",
       "    </tr>\n",
       "    <tr>\n",
       "      <th>1</th>\n",
       "      <td>SVM</td>\n",
       "      <td>0.653949</td>\n",
       "    </tr>\n",
       "    <tr>\n",
       "      <th>2</th>\n",
       "      <td>Stemmed MNB</td>\n",
       "      <td>0.632357</td>\n",
       "    </tr>\n",
       "    <tr>\n",
       "      <th>3</th>\n",
       "      <td>SVM_Stemmed</td>\n",
       "      <td>0.689441</td>\n",
       "    </tr>\n",
       "    <tr>\n",
       "      <th>4</th>\n",
       "      <td>Linear SVC</td>\n",
       "      <td>0.725859</td>\n",
       "    </tr>\n",
       "    <tr>\n",
       "      <th>5</th>\n",
       "      <td>KNN</td>\n",
       "      <td>0.586576</td>\n",
       "    </tr>\n",
       "    <tr>\n",
       "      <th>6</th>\n",
       "      <td>Log-Word2vec</td>\n",
       "      <td>0.597736</td>\n",
       "    </tr>\n",
       "    <tr>\n",
       "      <th>7</th>\n",
       "      <td>Log-Doc2vec</td>\n",
       "      <td>0.639506</td>\n",
       "    </tr>\n",
       "    <tr>\n",
       "      <th>8</th>\n",
       "      <td>BoW</td>\n",
       "      <td>0.682790</td>\n",
       "    </tr>\n",
       "    <tr>\n",
       "      <th>9</th>\n",
       "      <td>LDA</td>\n",
       "      <td>0.078116</td>\n",
       "    </tr>\n",
       "  </tbody>\n",
       "</table>\n",
       "</div>"
      ],
      "text/plain": [
       "          Model  Accuracy\n",
       "0           MNB  0.698018\n",
       "1           SVM  0.653949\n",
       "2   Stemmed MNB  0.632357\n",
       "3   SVM_Stemmed  0.689441\n",
       "4    Linear SVC  0.725859\n",
       "5           KNN  0.586576\n",
       "6  Log-Word2vec  0.597736\n",
       "7   Log-Doc2vec  0.639506\n",
       "8           BoW  0.682790\n",
       "9           LDA  0.078116"
      ]
     },
     "execution_count": 26,
     "metadata": {},
     "output_type": "execute_result"
    }
   ],
   "source": [
    "data"
   ]
  },
  {
   "cell_type": "code",
   "execution_count": 20,
   "metadata": {},
   "outputs": [
    {
     "data": {
      "image/png": "[encoded data removed]",
      "text/plain": [
       "<Figure size 1584x504 with 1 Axes>"
      ]
     },
     "metadata": {},
     "output_type": "display_data"
    }
   ],
   "source": [
    "xticklabels = (data['Model'])\n",
    "# Remove the single quotes, commas and enclosing square brackets\n",
    "xtlabs = xticklabels\n",
    "col=('skyBlue','skyBlue','skyBlue','skyBlue','Green','red','skyBlue','skyBlue','skyBlue','red')\n",
    "\n",
    "indices = np.arange(len(data['Model']))\n",
    "width = 0.75\n",
    "fig = plt.figure(figsize=(22,7))\n",
    "plt.title('Model vs Accuracy',fontsize=12)\n",
    "plt.xlabel('Model',fontsize=12)\n",
    "plt.ylabel('Accuracy',fontsize=12)\n",
    "plt.bar(indices, data['Accuracy'], width,color=col)\n",
    "plt.xticks(indices + width * 0.05, xtlabs, rotation='horizontal', fontsize=14)\n",
    "plt.savefig(\"Compr.png\")\n",
    "plt.show()"
   ]
  }
 ],
 "metadata": {
  "kernelspec": {
   "display_name": "Python 3",
   "language": "python",
   "name": "python3"
  },
  "language_info": {
   "codemirror_mode": {
    "name": "ipython",
    "version": 3
   },
   "file_extension": ".py",
   "mimetype": "text/x-python",
   "name": "python",
   "nbconvert_exporter": "python",
   "pygments_lexer": "ipython3",
   "version": "3.6.4"
  }
 },
 "nbformat": 4,
 "nbformat_minor": 2
}
