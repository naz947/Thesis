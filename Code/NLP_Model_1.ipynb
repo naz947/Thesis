{
 "cells": [
  {
   "cell_type": "code",
   "execution_count": 2,
   "metadata": {},
   "outputs": [
    {
     "data": {
      "text/plain": [
       "<module 'Error' from 'U:\\\\JIRA\\\\Code\\\\Error.py'>"
      ]
     },
     "execution_count": 2,
     "metadata": {},
     "output_type": "execute_result"
    }
   ],
   "source": [
    "#!/usr/bin/python3\n",
    "import pandas as pd\n",
    "import os\n",
    "import nltk\n",
    "import string\n",
    "import re\n",
    "import warnings\n",
    "import numpy as np\n",
    "from matplotlib import reload\n",
    "from sklearn.feature_extraction.text import CountVectorizer\n",
    "from sklearn.feature_extraction.text import TfidfTransformer\n",
    "from sklearn.naive_bayes import MultinomialNB\n",
    "from sklearn.pipeline import Pipeline\n",
    "from sklearn.linear_model import SGDClassifier\n",
    "from sklearn.model_selection import GridSearchCV\n",
    "from nltk.stem.snowball import SnowballStemmer\n",
    "import matplotlib.pyplot as plt\n",
    "from sklearn.naive_bayes import MultinomialNB\n",
    "from sklearn import model_selection, preprocessing, linear_model, naive_bayes, metrics, svm\n",
    "from sklearn.model_selection import train_test_split\n",
    "import Error\n",
    "reload(Error)"
   ]
  },
  {
   "cell_type": "code",
   "execution_count": 3,
   "metadata": {},
   "outputs": [],
   "source": [
    "stemmer = SnowballStemmer(\"english\", ignore_stopwords=True)\n",
    "\n",
    "class StemmedCountVectorizer(CountVectorizer):\n",
    "    def build_analyzer(self):\n",
    "        analyzer = super(StemmedCountVectorizer, self).build_analyzer()\n",
    "        return lambda doc: ([stemmer.stem(w) for w in analyzer(doc)])\n",
    "\n",
    "def replace_strings(data,name):\n",
    "    for i in range(len(data)):\n",
    "        if(data[name].iloc[i].find(',')!=-1):\n",
    "            data[name].iloc[i]=data[name].iloc[i].split(\",\")[-1]\n",
    "    return data\n",
    "\n",
    "def predict_category(s,train, model,names):\n",
    "    pred = model.predict([s])\n",
    "    return pred"
   ]
  },
  {
   "cell_type": "code",
   "execution_count": 4,
   "metadata": {
    "scrolled": true
   },
   "outputs": [
    {
     "name": "stderr",
     "output_type": "stream",
     "text": [
      "C:\\Program Files\\Anaconda3\\lib\\site-packages\\pandas\\core\\indexing.py:194: SettingWithCopyWarning: \n",
      "A value is trying to be set on a copy of a slice from a DataFrame\n",
      "\n",
      "See the caveats in the documentation: http://pandas.pydata.org/pandas-docs/stable/indexing.html#indexing-view-versus-copy\n",
      "  self._setitem_with_indexer(indexer, value)\n"
     ]
    }
   ],
   "source": [
    "#data = pd.read_excel(\"U:/JIRA/JIRAExport/sample.xls\")\n",
    "#test_data=data[data['Status']=='Submitted']\n",
    "train_data=pd.read_excel(\"U:/JIRA/JIRAExport/train_data.xls\")\n",
    "train_data=train_data.dropna()\n",
    "train_data=replace_strings(train_data,'Component/s')\n",
    "#test_data=replace_strings(test_data,'Component/s')\n",
    "#comp1=list(data['Component/s'].unique())\n",
    "comp2=list(train_data['Component/s'].unique())"
   ]
  },
  {
   "cell_type": "code",
   "execution_count": 5,
   "metadata": {
    "scrolled": true
   },
   "outputs": [],
   "source": [
    "#comp=list(set().union(comp1,comp2))\n",
    "Comp=[]\n",
    "for each in comp2:\n",
    "    if(each.find(',')!=-1):\n",
    "        Comp.append(each.split(\",\")[-1])\n",
    "    else:\n",
    "        Comp.append(each)"
   ]
  },
  {
   "cell_type": "code",
   "execution_count": 6,
   "metadata": {},
   "outputs": [
    {
     "data": {
      "text/plain": [
       "82592"
      ]
     },
     "execution_count": 6,
     "metadata": {},
     "output_type": "execute_result"
    }
   ],
   "source": [
    "len(train_data)"
   ]
  },
  {
   "cell_type": "code",
   "execution_count": 7,
   "metadata": {},
   "outputs": [],
   "source": [
    "Comp=comp2\n",
    "train_data['Component/s']=train_data['Component/s'].replace(Comp,range(len(Comp)))\n",
    "#test_data['Component/s']=test_data['Component/s'].replace(Comp,range(len(Comp)))\n",
    "warnings.filterwarnings(\"ignore\")\n"
   ]
  },
  {
   "cell_type": "code",
   "execution_count": 10,
   "metadata": {
    "scrolled": true
   },
   "outputs": [
    {
     "data": {
      "text/html": [
       "<div>\n",
       "<style scoped>\n",
       "    .dataframe tbody tr th:only-of-type {\n",
       "        vertical-align: middle;\n",
       "    }\n",
       "\n",
       "    .dataframe tbody tr th {\n",
       "        vertical-align: top;\n",
       "    }\n",
       "\n",
       "    .dataframe thead th {\n",
       "        text-align: right;\n",
       "    }\n",
       "</style>\n",
       "<table border=\"1\" class=\"dataframe\">\n",
       "  <thead>\n",
       "    <tr style=\"text-align: right;\">\n",
       "      <th></th>\n",
       "      <th>Issue Key</th>\n",
       "      <th>Summary</th>\n",
       "      <th>Status</th>\n",
       "      <th>Created</th>\n",
       "      <th>Description</th>\n",
       "      <th>Resolved Date</th>\n",
       "    </tr>\n",
       "  </thead>\n",
       "  <tbody>\n",
       "    <tr>\n",
       "      <th>80524</th>\n",
       "      <td>NCG3D-26961</td>\n",
       "      <td>[Scope2]CDT : 22 10 05,22 10 07 detected as va...</td>\n",
       "      <td>Closed</td>\n",
       "      <td>2016-10-05 05:29:54</td>\n",
       "      <td>h4. Test Environment :\\n* HW Sample : 008\\n* D...</td>\n",
       "      <td>2017-03-30 12:43:26</td>\n",
       "    </tr>\n",
       "    <tr>\n",
       "      <th>45610</th>\n",
       "      <td>NCG3D-103798</td>\n",
       "      <td>Manufacturer ID is not printed correctly</td>\n",
       "      <td>Closed</td>\n",
       "      <td>2018-06-14 11:02:29</td>\n",
       "      <td>h4. Test Environment :\\n* HW Sample : \\n* Devi...</td>\n",
       "      <td>2018-07-24 09:34:39</td>\n",
       "    </tr>\n",
       "    <tr>\n",
       "      <th>53427</th>\n",
       "      <td>NCG3D-56618</td>\n",
       "      <td>AIVIBP-2974 Lost CAN communication with Around...</td>\n",
       "      <td>Closed</td>\n",
       "      <td>2017-07-05 11:16:45</td>\n",
       "      <td>{color:red} !!! Customer Ticket !!! {color} \\n...</td>\n",
       "      <td>2017-11-21 11:12:28</td>\n",
       "    </tr>\n",
       "    <tr>\n",
       "      <th>82239</th>\n",
       "      <td>NCG3D-98528</td>\n",
       "      <td>[P-IVI_BTA_1002_180503]BTA volume is not retai...</td>\n",
       "      <td>Closed</td>\n",
       "      <td>2018-05-08 06:44:56</td>\n",
       "      <td>h4. Test Environment :\\n* HW Sample :{color:bl...</td>\n",
       "      <td>2018-10-04 00:00:52</td>\n",
       "    </tr>\n",
       "    <tr>\n",
       "      <th>50619</th>\n",
       "      <td>NCG3D-104589</td>\n",
       "      <td>No Audio After Hot Start For Any Source</td>\n",
       "      <td>Closed</td>\n",
       "      <td>2018-06-20 14:35:33</td>\n",
       "      <td>{color:red} !!! Customer Ticket !!! {color}\\n\\...</td>\n",
       "      <td>2018-07-21 15:52:32</td>\n",
       "    </tr>\n",
       "  </tbody>\n",
       "</table>\n",
       "</div>"
      ],
      "text/plain": [
       "          Issue Key                                            Summary  \\\n",
       "80524   NCG3D-26961  [Scope2]CDT : 22 10 05,22 10 07 detected as va...   \n",
       "45610  NCG3D-103798           Manufacturer ID is not printed correctly   \n",
       "53427   NCG3D-56618  AIVIBP-2974 Lost CAN communication with Around...   \n",
       "82239   NCG3D-98528  [P-IVI_BTA_1002_180503]BTA volume is not retai...   \n",
       "50619  NCG3D-104589            No Audio After Hot Start For Any Source   \n",
       "\n",
       "       Status             Created  \\\n",
       "80524  Closed 2016-10-05 05:29:54   \n",
       "45610  Closed 2018-06-14 11:02:29   \n",
       "53427  Closed 2017-07-05 11:16:45   \n",
       "82239  Closed 2018-05-08 06:44:56   \n",
       "50619  Closed 2018-06-20 14:35:33   \n",
       "\n",
       "                                             Description        Resolved Date  \n",
       "80524  h4. Test Environment :\\n* HW Sample : 008\\n* D...  2017-03-30 12:43:26  \n",
       "45610  h4. Test Environment :\\n* HW Sample : \\n* Devi...  2018-07-24 09:34:39  \n",
       "53427  {color:red} !!! Customer Ticket !!! {color} \\n...  2017-11-21 11:12:28  \n",
       "82239  h4. Test Environment :\\n* HW Sample :{color:bl...  2018-10-04 00:00:52  \n",
       "50619  {color:red} !!! Customer Ticket !!! {color}\\n\\...  2018-07-21 15:52:32  "
      ]
     },
     "execution_count": 10,
     "metadata": {},
     "output_type": "execute_result"
    }
   ],
   "source": [
    "\n",
    "train_data=train_data.sample(frac=1.0, replace=True)\n",
    "\n",
    "train=train_data.sample(frac=0.90,random_state=120)\n",
    "test=train_data.drop(train.index)\n",
    "train.head()"
   ]
  },
  {
   "cell_type": "code",
   "execution_count": null,
   "metadata": {},
   "outputs": [],
   "source": [
    "y = train_data.pop('Component/s')\n",
    "X_train, X_test, y_train, y_test = train_test_split( X, y, test_size=0.33, random_state=42, stratify=y)"
   ]
  },
  {
   "cell_type": "code",
   "execution_count": 7,
   "metadata": {},
   "outputs": [
    {
     "data": {
      "text/html": [
       "<div>\n",
       "<style scoped>\n",
       "    .dataframe tbody tr th:only-of-type {\n",
       "        vertical-align: middle;\n",
       "    }\n",
       "\n",
       "    .dataframe tbody tr th {\n",
       "        vertical-align: top;\n",
       "    }\n",
       "\n",
       "    .dataframe thead th {\n",
       "        text-align: right;\n",
       "    }\n",
       "</style>\n",
       "<table border=\"1\" class=\"dataframe\">\n",
       "  <thead>\n",
       "    <tr style=\"text-align: right;\">\n",
       "      <th></th>\n",
       "      <th>Issue Key</th>\n",
       "      <th>Summary</th>\n",
       "      <th>Status</th>\n",
       "      <th>Created</th>\n",
       "      <th>Component/s</th>\n",
       "      <th>Description</th>\n",
       "      <th>Resolved Date</th>\n",
       "    </tr>\n",
       "  </thead>\n",
       "  <tbody>\n",
       "    <tr>\n",
       "      <th>30491</th>\n",
       "      <td>NCG3D-64215</td>\n",
       "      <td>AIVIBP-3631 MEX [ Display not correct in Engin...</td>\n",
       "      <td>Closed</td>\n",
       "      <td>2017-08-17 05:33:49</td>\n",
       "      <td>SW_DRIVEASSIST</td>\n",
       "      <td>{color:red} !!! Customer Ticket !!! {color} \\n...</td>\n",
       "      <td>2017-11-30 11:10:25</td>\n",
       "    </tr>\n",
       "    <tr>\n",
       "      <th>26087</th>\n",
       "      <td>NCG3D-5690</td>\n",
       "      <td>On the FM TOP screen, USB audio was played</td>\n",
       "      <td>Closed</td>\n",
       "      <td>2015-12-04 03:49:08</td>\n",
       "      <td>SW_FRAMEWORK_HMI</td>\n",
       "      <td>{color:red} !!! Customer Ticket !!! {color} \\n...</td>\n",
       "      <td>2016-03-17 10:53:53</td>\n",
       "    </tr>\n",
       "    <tr>\n",
       "      <th>11798</th>\n",
       "      <td>NCG3D-35427</td>\n",
       "      <td>Screen freezes when reverse gear is engaged/di...</td>\n",
       "      <td>Closed</td>\n",
       "      <td>2017-01-09 15:39:33</td>\n",
       "      <td>SW_Master_HMI</td>\n",
       "      <td>h4. Test Environment :\\n* HW Sample : *A3 samp...</td>\n",
       "      <td>2017-02-14 14:20:57</td>\n",
       "    </tr>\n",
       "    <tr>\n",
       "      <th>7269</th>\n",
       "      <td>NCG3D-87635</td>\n",
       "      <td>Check for updates works only after replacing P...</td>\n",
       "      <td>Closed</td>\n",
       "      <td>2018-02-21 11:54:59</td>\n",
       "      <td>SW_OTAS</td>\n",
       "      <td>h4. Test Environment :\\n* HW Sample : Renault ...</td>\n",
       "      <td>2018-07-04 10:40:00</td>\n",
       "    </tr>\n",
       "    <tr>\n",
       "      <th>24238</th>\n",
       "      <td>NCG3D-89763</td>\n",
       "      <td>ESE settings are not sent to Premium 1 amplifi...</td>\n",
       "      <td>Closed</td>\n",
       "      <td>2018-03-07 12:35:44</td>\n",
       "      <td>SW_AUDIO</td>\n",
       "      <td>h4. Test Environment :\\n* HW Sample : Renault ...</td>\n",
       "      <td>2018-04-26 11:06:54</td>\n",
       "    </tr>\n",
       "  </tbody>\n",
       "</table>\n",
       "</div>"
      ],
      "text/plain": [
       "         Issue Key                                            Summary  Status  \\\n",
       "30491  NCG3D-64215  AIVIBP-3631 MEX [ Display not correct in Engin...  Closed   \n",
       "26087   NCG3D-5690         On the FM TOP screen, USB audio was played  Closed   \n",
       "11798  NCG3D-35427  Screen freezes when reverse gear is engaged/di...  Closed   \n",
       "7269   NCG3D-87635  Check for updates works only after replacing P...  Closed   \n",
       "24238  NCG3D-89763  ESE settings are not sent to Premium 1 amplifi...  Closed   \n",
       "\n",
       "                  Created       Component/s  \\\n",
       "30491 2017-08-17 05:33:49    SW_DRIVEASSIST   \n",
       "26087 2015-12-04 03:49:08  SW_FRAMEWORK_HMI   \n",
       "11798 2017-01-09 15:39:33     SW_Master_HMI   \n",
       "7269  2018-02-21 11:54:59           SW_OTAS   \n",
       "24238 2018-03-07 12:35:44          SW_AUDIO   \n",
       "\n",
       "                                             Description        Resolved Date  \n",
       "30491  {color:red} !!! Customer Ticket !!! {color} \\n...  2017-11-30 11:10:25  \n",
       "26087  {color:red} !!! Customer Ticket !!! {color} \\n...  2016-03-17 10:53:53  \n",
       "11798  h4. Test Environment :\\n* HW Sample : *A3 samp...  2017-02-14 14:20:57  \n",
       "7269   h4. Test Environment :\\n* HW Sample : Renault ...  2018-07-04 10:40:00  \n",
       "24238  h4. Test Environment :\\n* HW Sample : Renault ...  2018-04-26 11:06:54  "
      ]
     },
     "execution_count": 7,
     "metadata": {},
     "output_type": "execute_result"
    }
   ],
   "source": [
    "#test=test_data.sample(frac=0.2, replace=True)\n",
    "test.head()\n"
   ]
  },
  {
   "cell_type": "code",
   "execution_count": 8,
   "metadata": {},
   "outputs": [
    {
     "data": {
      "text/plain": [
       "(74333, 26565)"
      ]
     },
     "execution_count": 8,
     "metadata": {},
     "output_type": "execute_result"
    }
   ],
   "source": [
    "count_vect = CountVectorizer()\n",
    "X_train_counts = count_vect.fit_transform(train['Summary'])\n",
    "X_train_counts.shape"
   ]
  },
  {
   "cell_type": "code",
   "execution_count": 9,
   "metadata": {},
   "outputs": [
    {
     "data": {
      "text/plain": [
       "(74333, 26565)"
      ]
     },
     "execution_count": 9,
     "metadata": {},
     "output_type": "execute_result"
    }
   ],
   "source": [
    "tfidf_transformer = TfidfTransformer()\n",
    "X_train_tfidf = tfidf_transformer.fit_transform(X_train_counts)\n",
    "X_train_tfidf.shape"
   ]
  },
  {
   "cell_type": "code",
   "execution_count": 10,
   "metadata": {},
   "outputs": [
    {
     "name": "stdout",
     "output_type": "stream",
     "text": [
      "MultinomialNB(alpha=1.0, class_prior=None, fit_prior=True)\n"
     ]
    }
   ],
   "source": [
    "clf = MultinomialNB().fit(X_train_tfidf, train['Component/s'])\n",
    "print(clf)"
   ]
  },
  {
   "cell_type": "code",
   "execution_count": 11,
   "metadata": {},
   "outputs": [],
   "source": [
    "text_clf = Pipeline([('vect', CountVectorizer()), ('tfidf', TfidfTransformer()), ('clf', MultinomialNB())])\n",
    "\n",
    "text_clf = text_clf.fit(train['Summary'], train['Component/s'])"
   ]
  },
  {
   "cell_type": "code",
   "execution_count": 12,
   "metadata": {},
   "outputs": [
    {
     "data": {
      "text/plain": [
       "0.5"
      ]
     },
     "execution_count": 12,
     "metadata": {},
     "output_type": "execute_result"
    }
   ],
   "source": [
    "predicted = text_clf.predict(test['Summary'])\n",
    "np.mean(predicted == test['Component/s'])"
   ]
  },
  {
   "cell_type": "code",
   "execution_count": 13,
   "metadata": {
    "scrolled": true
   },
   "outputs": [],
   "source": [
    "Error.err.err(test['Component/s'],predicted)"
   ]
  },
  {
   "cell_type": "code",
   "execution_count": null,
   "metadata": {},
   "outputs": [],
   "source": [
    "stemmed_count_vect = StemmedCountVectorizer(stop_words='english')\n",
    "\n",
    "text_mnb_stemmed = Pipeline([('vect', stemmed_count_vect), ('tfidf', TfidfTransformer()), \n",
    "                             ('mnb', MultinomialNB(fit_prior=False))])\n",
    "\n",
    "text_mnb_stemmed = text_mnb_stemmed.fit(X_train, y_train)\n",
    "\n",
    "predicted_mnb_stemmed = text_mnb_stemmed.predict(X_test)\n",
    "\n",
    "np.mean(predicted_mnb_stemmed == y_test)"
   ]
  },
  {
   "cell_type": "code",
   "execution_count": 15,
   "metadata": {},
   "outputs": [],
   "source": [
    "Error.err.err(test['Component/s'],predicted_mnb_stemmed)"
   ]
  },
  {
   "cell_type": "code",
   "execution_count": 16,
   "metadata": {},
   "outputs": [
    {
     "name": "stderr",
     "output_type": "stream",
     "text": [
      "C:\\Program Files\\Anaconda3\\lib\\site-packages\\sklearn\\model_selection\\_split.py:605: Warning: The least populated class in y has only 1 members, which is too few. The minimum number of members in any class cannot be less than n_splits=3.\n",
      "  % (min_groups, self.n_splits)), Warning)\n"
     ]
    }
   ],
   "source": [
    "parameters = {'vect__ngram_range': [(1, 1), (1, 2)], 'tfidf__use_idf': (True, False), 'clf__alpha': (1e-2, 1e-3)}\n",
    "gs_clf = GridSearchCV(text_clf, parameters, n_jobs=-1)\n",
    "gs_clf = gs_clf.fit(train['Summary'], train['Component/s'])"
   ]
  },
  {
   "cell_type": "code",
   "execution_count": 17,
   "metadata": {},
   "outputs": [
    {
     "name": "stdout",
     "output_type": "stream",
     "text": [
      "Best Score 0.8096538549500222\n",
      "Best Parameters {'clf__alpha': 0.01, 'tfidf__use_idf': True, 'vect__ngram_range': (1, 2)}\n"
     ]
    }
   ],
   "source": [
    "print(\"Best Score\",gs_clf.best_score_)\n",
    "print(\"Best Parameters\",gs_clf.best_params_)"
   ]
  },
  {
   "cell_type": "code",
   "execution_count": 18,
   "metadata": {},
   "outputs": [
    {
     "data": {
      "text/plain": [
       "0.6957561267184699"
      ]
     },
     "execution_count": 18,
     "metadata": {},
     "output_type": "execute_result"
    }
   ],
   "source": [
    "text_clf_best = Pipeline([('vect', CountVectorizer(ngram_range=(1,2))), ('tfidf', TfidfTransformer(use_idf=False)),('clf', MultinomialNB(alpha=0.01))])\n",
    "text_clf_best = text_clf_best.fit(train['Summary'], train['Component/s'])\n",
    "predicted_best = text_clf_best.predict(test['Summary'])\n",
    "np.mean(predicted_best == test['Component/s'])"
   ]
  },
  {
   "cell_type": "code",
   "execution_count": 19,
   "metadata": {},
   "outputs": [],
   "source": [
    "Error.err.err(test['Component/s'],predicted_best)"
   ]
  },
  {
   "cell_type": "code",
   "execution_count": 20,
   "metadata": {},
   "outputs": [
    {
     "name": "stderr",
     "output_type": "stream",
     "text": [
      "C:\\Program Files\\Anaconda3\\lib\\site-packages\\sklearn\\linear_model\\stochastic_gradient.py:117: DeprecationWarning: n_iter parameter is deprecated in 0.19 and will be removed in 0.21. Use max_iter and tol instead.\n",
      "  DeprecationWarning)\n"
     ]
    },
    {
     "data": {
      "text/plain": [
       "0.6589958158995816"
      ]
     },
     "execution_count": 20,
     "metadata": {},
     "output_type": "execute_result"
    }
   ],
   "source": [
    "text_clf_svm = Pipeline([('vect', CountVectorizer()), ('tfidf', TfidfTransformer()),\n",
    "                         ('clf-svm', SGDClassifier(loss='hinge', penalty='l2',alpha=1e-3, n_iter=5, random_state=42))])\n",
    "\n",
    "text_clf_svm = text_clf_svm.fit(train['Summary'], train['Component/s'])\n",
    "predicted_svm = text_clf_svm.predict(test['Summary'])\n",
    "np.mean(predicted_svm == test['Component/s'])"
   ]
  },
  {
   "cell_type": "code",
   "execution_count": 21,
   "metadata": {},
   "outputs": [],
   "source": [
    "Error.err.err(test['Component/s'],predicted_svm)"
   ]
  },
  {
   "cell_type": "code",
   "execution_count": 22,
   "metadata": {},
   "outputs": [
    {
     "name": "stderr",
     "output_type": "stream",
     "text": [
      "C:\\Program Files\\Anaconda3\\lib\\site-packages\\sklearn\\linear_model\\stochastic_gradient.py:128: FutureWarning: max_iter and tol parameters have been added in <class 'sklearn.linear_model.stochastic_gradient.SGDClassifier'> in 0.19. If both are left unset, they default to max_iter=5 and tol=None. If tol is not None, max_iter defaults to max_iter=1000. From 0.21, default max_iter will be 1000, and default tol will be 1e-3.\n",
      "  \"and default tol will be 1e-3.\" % type(self), FutureWarning)\n"
     ]
    },
    {
     "data": {
      "text/plain": [
       "0.6969515839808726"
      ]
     },
     "execution_count": 22,
     "metadata": {},
     "output_type": "execute_result"
    }
   ],
   "source": [
    "stemmed_count_vect = StemmedCountVectorizer(stop_words='english')\n",
    "\n",
    "text_svm_stemmed = Pipeline([('vect', stemmed_count_vect), ('tfidf', TfidfTransformer()), \n",
    "                             ('svm', SGDClassifier())])\n",
    "\n",
    "text_svm_stemmed = text_svm_stemmed.fit(train['Summary'], train['Component/s'])\n",
    "\n",
    "predicted_svm_stemmed = text_svm_stemmed.predict(test['Summary'])\n",
    "\n",
    "np.mean(predicted_svm_stemmed == test['Component/s'])"
   ]
  },
  {
   "cell_type": "code",
   "execution_count": 23,
   "metadata": {},
   "outputs": [],
   "source": [
    "Error.err.err(test['Component/s'],predicted_svm_stemmed)"
   ]
  },
  {
   "cell_type": "code",
   "execution_count": 24,
   "metadata": {},
   "outputs": [
    {
     "name": "stderr",
     "output_type": "stream",
     "text": [
      "C:\\Program Files\\Anaconda3\\lib\\site-packages\\sklearn\\model_selection\\_split.py:605: Warning: The least populated class in y has only 1 members, which is too few. The minimum number of members in any class cannot be less than n_splits=3.\n",
      "  % (min_groups, self.n_splits)), Warning)\n",
      "C:\\Program Files\\Anaconda3\\lib\\site-packages\\sklearn\\linear_model\\stochastic_gradient.py:117: DeprecationWarning: n_iter parameter is deprecated in 0.19 and will be removed in 0.21. Use max_iter and tol instead.\n",
      "  DeprecationWarning)\n"
     ]
    },
    {
     "name": "stdout",
     "output_type": "stream",
     "text": [
      "Best Score 0.7230705070426324\n",
      "Best Parameters {'clf-svm__alpha': 0.01, 'tfidf__use_idf': True, 'vect__ngram_range': (1, 2)}\n"
     ]
    }
   ],
   "source": [
    "parameters_svm = {'vect__ngram_range': [(1, 1), (1, 2)], 'tfidf__use_idf': (True, False),'clf-svm__alpha': (1e-2, 1e-3)}\n",
    "\n",
    "gs_clf_svm = GridSearchCV(text_clf_svm, parameters_svm, n_jobs=-1)\n",
    "gs_clf_svm = gs_clf_svm.fit(train['Summary'], train['Component/s'])\n",
    "\n",
    "\n",
    "print(\"Best Score\",gs_clf_svm.best_score_)\n",
    "print(\"Best Parameters\",gs_clf_svm.best_params_)"
   ]
  },
  {
   "cell_type": "code",
   "execution_count": 25,
   "metadata": {},
   "outputs": [
    {
     "name": "stderr",
     "output_type": "stream",
     "text": [
      "C:\\Program Files\\Anaconda3\\lib\\site-packages\\sklearn\\linear_model\\stochastic_gradient.py:117: DeprecationWarning: n_iter parameter is deprecated in 0.19 and will be removed in 0.21. Use max_iter and tol instead.\n",
      "  DeprecationWarning)\n"
     ]
    },
    {
     "data": {
      "text/plain": [
       "0.6838015540944411"
      ]
     },
     "execution_count": 25,
     "metadata": {},
     "output_type": "execute_result"
    }
   ],
   "source": [
    "text_clf_svm = Pipeline([('vect', CountVectorizer(ngram_range=(1,2))), ('tfidf', TfidfTransformer(use_idf=True)),\n",
    "                         ('clf-svm', SGDClassifier(loss='hinge', penalty='l2',alpha=1e-2, n_iter=5, random_state=42))])\n",
    "\n",
    "text_clf_svm = text_clf_svm.fit(train['Summary'], train['Component/s'])\n",
    "predicted_svm = text_clf_svm.predict(test['Summary'])\n",
    "np.mean(predicted_svm == test['Component/s'])"
   ]
  },
  {
   "cell_type": "code",
   "execution_count": 26,
   "metadata": {},
   "outputs": [],
   "source": [
    "Error.err.err(test['Component/s'],predicted_svm)"
   ]
  },
  {
   "cell_type": "code",
   "execution_count": 27,
   "metadata": {
    "scrolled": true
   },
   "outputs": [
    {
     "name": "stderr",
     "output_type": "stream",
     "text": [
      "C:\\Program Files\\Anaconda3\\lib\\site-packages\\ipykernel_launcher.py:1: SettingWithCopyWarning: \n",
      "A value is trying to be set on a copy of a slice from a DataFrame.\n",
      "Try using .loc[row_indexer,col_indexer] = value instead\n",
      "\n",
      "See the caveats in the documentation: http://pandas.pydata.org/pandas-docs/stable/indexing.html#indexing-view-versus-copy\n",
      "  \"\"\"Entry point for launching an IPython kernel.\n",
      "C:\\Program Files\\Anaconda3\\lib\\site-packages\\ipykernel_launcher.py:2: SettingWithCopyWarning: \n",
      "A value is trying to be set on a copy of a slice from a DataFrame.\n",
      "Try using .loc[row_indexer,col_indexer] = value instead\n",
      "\n",
      "See the caveats in the documentation: http://pandas.pydata.org/pandas-docs/stable/indexing.html#indexing-view-versus-copy\n",
      "  \n",
      "C:\\Program Files\\Anaconda3\\lib\\site-packages\\ipykernel_launcher.py:3: SettingWithCopyWarning: \n",
      "A value is trying to be set on a copy of a slice from a DataFrame.\n",
      "Try using .loc[row_indexer,col_indexer] = value instead\n",
      "\n",
      "See the caveats in the documentation: http://pandas.pydata.org/pandas-docs/stable/indexing.html#indexing-view-versus-copy\n",
      "  This is separate from the ipykernel package so we can avoid doing imports until\n",
      "C:\\Program Files\\Anaconda3\\lib\\site-packages\\ipykernel_launcher.py:4: SettingWithCopyWarning: \n",
      "A value is trying to be set on a copy of a slice from a DataFrame.\n",
      "Try using .loc[row_indexer,col_indexer] = value instead\n",
      "\n",
      "See the caveats in the documentation: http://pandas.pydata.org/pandas-docs/stable/indexing.html#indexing-view-versus-copy\n",
      "  after removing the cwd from sys.path.\n"
     ]
    },
    {
     "data": {
      "text/html": [
       "<div>\n",
       "<style scoped>\n",
       "    .dataframe tbody tr th:only-of-type {\n",
       "        vertical-align: middle;\n",
       "    }\n",
       "\n",
       "    .dataframe tbody tr th {\n",
       "        vertical-align: top;\n",
       "    }\n",
       "\n",
       "    .dataframe thead th {\n",
       "        text-align: right;\n",
       "    }\n",
       "</style>\n",
       "<table border=\"1\" class=\"dataframe\">\n",
       "  <thead>\n",
       "    <tr style=\"text-align: right;\">\n",
       "      <th></th>\n",
       "      <th>Summary</th>\n",
       "      <th>Component/s</th>\n",
       "      <th>Prediction_mnb</th>\n",
       "      <th>Prediction_svm</th>\n",
       "      <th>Prediction_MNB</th>\n",
       "      <th>predicted_svm_stemmed</th>\n",
       "    </tr>\n",
       "  </thead>\n",
       "  <tbody>\n",
       "    <tr>\n",
       "      <th>30491</th>\n",
       "      <td>AIVIBP-3631 MEX [ Display not correct in Engin...</td>\n",
       "      <td>SW_DRIVEASSIST</td>\n",
       "      <td>SW_DRIVEASSIST</td>\n",
       "      <td>SW_DRIVEASSIST</td>\n",
       "      <td>SW_DRIVEASSIST</td>\n",
       "      <td>SW_DRIVEASSIST</td>\n",
       "    </tr>\n",
       "    <tr>\n",
       "      <th>26087</th>\n",
       "      <td>On the FM TOP screen, USB audio was played</td>\n",
       "      <td>SW_FRAMEWORK_HMI</td>\n",
       "      <td>SW_INFOTAINMENT</td>\n",
       "      <td>SW_INFOTAINMENT</td>\n",
       "      <td>SW_INFOTAINMENT</td>\n",
       "      <td>SW_INFOTAINMENT</td>\n",
       "    </tr>\n",
       "    <tr>\n",
       "      <th>11798</th>\n",
       "      <td>Screen freezes when reverse gear is engaged/di...</td>\n",
       "      <td>SW_Master_HMI</td>\n",
       "      <td>SW_PARKASSIST</td>\n",
       "      <td>SW_PARKASSIST</td>\n",
       "      <td>SW_PARKASSIST</td>\n",
       "      <td>SW_PARKASSIST</td>\n",
       "    </tr>\n",
       "    <tr>\n",
       "      <th>7269</th>\n",
       "      <td>Check for updates works only after replacing P...</td>\n",
       "      <td>SW_OTAS</td>\n",
       "      <td>SW_OTAS</td>\n",
       "      <td>SW_OTAS</td>\n",
       "      <td>SW_NAVIGATION</td>\n",
       "      <td>SW_INFOTAINMENT</td>\n",
       "    </tr>\n",
       "    <tr>\n",
       "      <th>24238</th>\n",
       "      <td>ESE settings are not sent to Premium 1 amplifi...</td>\n",
       "      <td>SW_AUDIO</td>\n",
       "      <td>SW_AUDIO</td>\n",
       "      <td>SW_METER</td>\n",
       "      <td>SW_AUDIO</td>\n",
       "      <td>SW_AUDIO</td>\n",
       "    </tr>\n",
       "    <tr>\n",
       "      <th>58877</th>\n",
       "      <td>[SXM Audio] Artist  Alerts are not  listed in ...</td>\n",
       "      <td>SW_TUNER_SXM</td>\n",
       "      <td>SW_TUNER_SXM</td>\n",
       "      <td>SW_TUNER_SXM</td>\n",
       "      <td>SW_TUNER_SXM</td>\n",
       "      <td>SW_TUNER_SXM</td>\n",
       "    </tr>\n",
       "    <tr>\n",
       "      <th>23187</th>\n",
       "      <td>AIVIBP-13154 BCall and CCall icons are crossed...</td>\n",
       "      <td>SW_TELEMATIC</td>\n",
       "      <td>SW_NAVIGATION</td>\n",
       "      <td>SW_TELEMATIC</td>\n",
       "      <td>SW_TELEMATIC</td>\n",
       "      <td>SW_TELEMATIC</td>\n",
       "    </tr>\n",
       "    <tr>\n",
       "      <th>74011</th>\n",
       "      <td>Keyboard_Thai is not displayed in navigation, ...</td>\n",
       "      <td>SW_Master_HMI</td>\n",
       "      <td>SW_INFOTAINMENT</td>\n",
       "      <td>SW_NAVIGATION</td>\n",
       "      <td>SW_INFOTAINMENT</td>\n",
       "      <td>SW_INFOTAINMENT</td>\n",
       "    </tr>\n",
       "    <tr>\n",
       "      <th>8073</th>\n",
       "      <td>Carplay: Audio_warning is not sent by incoming...</td>\n",
       "      <td>SW_METER</td>\n",
       "      <td>SW_METER</td>\n",
       "      <td>SW_SMARTPHONE</td>\n",
       "      <td>SW_METER</td>\n",
       "      <td>SW_SMARTPHONE</td>\n",
       "    </tr>\n",
       "    <tr>\n",
       "      <th>16009</th>\n",
       "      <td>AIVIBP-16529 HMI : Title is not display in Sys...</td>\n",
       "      <td>SW_SYSTEM</td>\n",
       "      <td>SW_SYSTEM</td>\n",
       "      <td>SW_SYSTEM</td>\n",
       "      <td>SW_INFOTAINMENT</td>\n",
       "      <td>SW_INFOTAINMENT</td>\n",
       "    </tr>\n",
       "    <tr>\n",
       "      <th>51973</th>\n",
       "      <td>Scope2:carplay: short press of SWC_TEL_VR will...</td>\n",
       "      <td>SW_SPEECH</td>\n",
       "      <td>SW_SMARTPHONE</td>\n",
       "      <td>SW_SPEECH</td>\n",
       "      <td>SW_SMARTPHONE</td>\n",
       "      <td>SW_SPEECH</td>\n",
       "    </tr>\n",
       "    <tr>\n",
       "      <th>10345</th>\n",
       "      <td>[Source Change Problem]Liang san got the trace...</td>\n",
       "      <td>SW_INFOTAINMENT</td>\n",
       "      <td>SW_SMARTPHONE</td>\n",
       "      <td>SW_INFOTAINMENT</td>\n",
       "      <td>SW_INFOTAINMENT</td>\n",
       "      <td>SW_INFOTAINMENT</td>\n",
       "    </tr>\n",
       "    <tr>\n",
       "      <th>11291</th>\n",
       "      <td>Scope 2: Message contents are not correctly di...</td>\n",
       "      <td>SW_SWUPDATE</td>\n",
       "      <td>SW_SWUPDATE</td>\n",
       "      <td>SW_SWUPDATE</td>\n",
       "      <td>SW_INFOTAINMENT</td>\n",
       "      <td>SW_SWUPDATE</td>\n",
       "    </tr>\n",
       "    <tr>\n",
       "      <th>53007</th>\n",
       "      <td>AIVIBP-17155 [WiFi] The character for password...</td>\n",
       "      <td>SW_WIFI</td>\n",
       "      <td>SW_WIFI</td>\n",
       "      <td>SW_PHONE</td>\n",
       "      <td>SW_PHONE</td>\n",
       "      <td>SW_WIFI</td>\n",
       "    </tr>\n",
       "    <tr>\n",
       "      <th>28419</th>\n",
       "      <td>Reset is not working in Voice Audio settings s...</td>\n",
       "      <td>SW_SPEECH</td>\n",
       "      <td>SW_SPEECH</td>\n",
       "      <td>SW_SPEECH</td>\n",
       "      <td>SW_SPEECH</td>\n",
       "      <td>SW_SPEECH</td>\n",
       "    </tr>\n",
       "    <tr>\n",
       "      <th>27046</th>\n",
       "      <td>[PIVI] SDS session doesnt end on Tell Button p...</td>\n",
       "      <td>SW_SPEECH</td>\n",
       "      <td>SW_SPEECH</td>\n",
       "      <td>SW_SPEECH</td>\n",
       "      <td>SW_SPEECH</td>\n",
       "      <td>SW_SPEECH</td>\n",
       "    </tr>\n",
       "    <tr>\n",
       "      <th>32226</th>\n",
       "      <td>Displayed map was split on the route confirmat...</td>\n",
       "      <td>SW_TELEMATIC</td>\n",
       "      <td>SW_NAVIGATION</td>\n",
       "      <td>SW_NAVIGATION</td>\n",
       "      <td>SW_NAVIGATION</td>\n",
       "      <td>SW_NAVIGATION</td>\n",
       "    </tr>\n",
       "    <tr>\n",
       "      <th>49320</th>\n",
       "      <td>Scope2: No ADASIS msg flow 0x5F6, 0x4D0</td>\n",
       "      <td>SW_ADASIS</td>\n",
       "      <td>SW_DRIVEASSIST</td>\n",
       "      <td>SW_DRIVEASSIST</td>\n",
       "      <td>SW_DRIVEASSIST</td>\n",
       "      <td>SW_ADASIS</td>\n",
       "    </tr>\n",
       "    <tr>\n",
       "      <th>73974</th>\n",
       "      <td>Carplay: Stitcher app does not play audio</td>\n",
       "      <td>SW_SMARTPHONE</td>\n",
       "      <td>SW_SMARTPHONE</td>\n",
       "      <td>SW_SMARTPHONE</td>\n",
       "      <td>SW_SMARTPHONE</td>\n",
       "      <td>SW_SMARTPHONE</td>\n",
       "    </tr>\n",
       "    <tr>\n",
       "      <th>74432</th>\n",
       "      <td>AIVIBP-16036 [Voice Recognition(VR)] Frequency...</td>\n",
       "      <td>SW_SPEECH</td>\n",
       "      <td>SW_SPEECH</td>\n",
       "      <td>SW_SPEECH</td>\n",
       "      <td>SW_SPEECH</td>\n",
       "      <td>SW_SPEECH</td>\n",
       "    </tr>\n",
       "    <tr>\n",
       "      <th>49391</th>\n",
       "      <td>【Wi-Fi】There is an irregularity in the time it...</td>\n",
       "      <td>SW_WIFI</td>\n",
       "      <td>SW_PHONE</td>\n",
       "      <td>SW_WIFI</td>\n",
       "      <td>SW_WIFI</td>\n",
       "      <td>SW_WIFI</td>\n",
       "    </tr>\n",
       "    <tr>\n",
       "      <th>51208</th>\n",
       "      <td>AIVIBP-6861 [Wi-Fi][(1:Device name)] is displa...</td>\n",
       "      <td>SW_WIFI</td>\n",
       "      <td>SW_WIFI</td>\n",
       "      <td>SW_WIFI</td>\n",
       "      <td>SW_WIFI</td>\n",
       "      <td>SW_WIFI</td>\n",
       "    </tr>\n",
       "    <tr>\n",
       "      <th>43626</th>\n",
       "      <td>Navigation: \"Receiving data ...\" popup is disp...</td>\n",
       "      <td>SW_NAVIGATION</td>\n",
       "      <td>SW_NAVIGATION</td>\n",
       "      <td>SW_NAVIGATION</td>\n",
       "      <td>SW_NAVIGATION</td>\n",
       "      <td>SW_NAVIGATION</td>\n",
       "    </tr>\n",
       "    <tr>\n",
       "      <th>9244</th>\n",
       "      <td>[SPEED RESTRICTION ] : Phonebook_ call logs sc...</td>\n",
       "      <td>SW_PHONE</td>\n",
       "      <td>SW_PHONE</td>\n",
       "      <td>SW_PHONE</td>\n",
       "      <td>SW_NAVIGATION</td>\n",
       "      <td>SW_NAVIGATION</td>\n",
       "    </tr>\n",
       "    <tr>\n",
       "      <th>16173</th>\n",
       "      <td>[Scope2.1 Renault] SEGMENT Relative Probabilit...</td>\n",
       "      <td>SW_ADASIS</td>\n",
       "      <td>SW_DIAGNOSTIC</td>\n",
       "      <td>SW_ADASIS</td>\n",
       "      <td>SW_DIAGNOSTIC</td>\n",
       "      <td>SW_ADASIS</td>\n",
       "    </tr>\n",
       "    <tr>\n",
       "      <th>54345</th>\n",
       "      <td>[DTM] Slider arrow navigation is not working i...</td>\n",
       "      <td>SW_DIAGNOSTIC</td>\n",
       "      <td>SW_DIAGNOSTIC</td>\n",
       "      <td>SW_NAVIGATION</td>\n",
       "      <td>SW_NAVIGATION</td>\n",
       "      <td>SW_NAVIGATION</td>\n",
       "    </tr>\n",
       "    <tr>\n",
       "      <th>65191</th>\n",
       "      <td>When connect Android Auto, the characters of 「...</td>\n",
       "      <td>SW_TRANSLATIONS</td>\n",
       "      <td>SW_SMARTPHONE</td>\n",
       "      <td>SW_SMARTPHONE</td>\n",
       "      <td>SW_SMARTPHONE</td>\n",
       "      <td>SW_SMARTPHONE</td>\n",
       "    </tr>\n",
       "    <tr>\n",
       "      <th>12490</th>\n",
       "      <td>The scroll bar blinks on screen change.</td>\n",
       "      <td>SW_FRAMEWORK_HMI</td>\n",
       "      <td>SW_FRAMEWORK_HMI</td>\n",
       "      <td>SW_NAVIGATION</td>\n",
       "      <td>SW_NAVIGATION</td>\n",
       "      <td>SW_NAVIGATION</td>\n",
       "    </tr>\n",
       "    <tr>\n",
       "      <th>62880</th>\n",
       "      <td>[P-IVI  Nissan] System Playing No phonetic dat...</td>\n",
       "      <td>SW_SPEECH</td>\n",
       "      <td>SW_SPEECH</td>\n",
       "      <td>SW_SPEECH</td>\n",
       "      <td>SW_SPEECH</td>\n",
       "      <td>SW_SPEECH</td>\n",
       "    </tr>\n",
       "    <tr>\n",
       "      <th>35925</th>\n",
       "      <td>AIVIBP-14939 [Display]Display of the Music lib...</td>\n",
       "      <td>SW_TRANSLATIONS</td>\n",
       "      <td>SW_INFOTAINMENT</td>\n",
       "      <td>SW_INFOTAINMENT</td>\n",
       "      <td>SW_INFOTAINMENT</td>\n",
       "      <td>SW_INFOTAINMENT</td>\n",
       "    </tr>\n",
       "    <tr>\n",
       "      <th>...</th>\n",
       "      <td>...</td>\n",
       "      <td>...</td>\n",
       "      <td>...</td>\n",
       "      <td>...</td>\n",
       "      <td>...</td>\n",
       "      <td>...</td>\n",
       "    </tr>\n",
       "    <tr>\n",
       "      <th>53430</th>\n",
       "      <td>Clock is not in line with title and Phone sign...</td>\n",
       "      <td>SW_SYSTEM</td>\n",
       "      <td>SW_PHONE</td>\n",
       "      <td>SW_PHONE</td>\n",
       "      <td>SW_PHONE</td>\n",
       "      <td>SW_PHONE</td>\n",
       "    </tr>\n",
       "    <tr>\n",
       "      <th>7414</th>\n",
       "      <td>CLONE: Scope 2.1 - The first install's log is ...</td>\n",
       "      <td>SW_SWUPDATE</td>\n",
       "      <td>SW_SWUPDATE</td>\n",
       "      <td>SW_SWUPDATE</td>\n",
       "      <td>SW_SWUPDATE</td>\n",
       "      <td>SW_SWUPDATE</td>\n",
       "    </tr>\n",
       "    <tr>\n",
       "      <th>80691</th>\n",
       "      <td>[P-IVI Navigation] : \"Tom Tom 5-day forecast\" ...</td>\n",
       "      <td>SW_NAVIGATION</td>\n",
       "      <td>SW_NAVIGATION</td>\n",
       "      <td>SW_NAVIGATION</td>\n",
       "      <td>SW_NAVIGATION</td>\n",
       "      <td>SW_NAVIGATION</td>\n",
       "    </tr>\n",
       "    <tr>\n",
       "      <th>40557</th>\n",
       "      <td>When display is OFF, Long press Day/Night butt...</td>\n",
       "      <td>SW_SYSTEM</td>\n",
       "      <td>SW_SYSTEM</td>\n",
       "      <td>SW_SYSTEM</td>\n",
       "      <td>SW_SYSTEM</td>\n",
       "      <td>SW_NAVIGATION</td>\n",
       "    </tr>\n",
       "    <tr>\n",
       "      <th>62571</th>\n",
       "      <td>[navi]When the route includes several transit ...</td>\n",
       "      <td>SW_NAVIGATION</td>\n",
       "      <td>SW_NAVIGATION</td>\n",
       "      <td>SW_NAVIGATION</td>\n",
       "      <td>SW_NAVIGATION</td>\n",
       "      <td>SW_NAVIGATION</td>\n",
       "    </tr>\n",
       "    <tr>\n",
       "      <th>76136</th>\n",
       "      <td>[DMTEST] USB is not detected [Healable:Source ...</td>\n",
       "      <td>SW_INFOTAINMENT</td>\n",
       "      <td>SW_INFOTAINMENT</td>\n",
       "      <td>SW_INFOTAINMENT</td>\n",
       "      <td>SW_INFOTAINMENT</td>\n",
       "      <td>SW_INFOTAINMENT</td>\n",
       "    </tr>\n",
       "    <tr>\n",
       "      <th>20190</th>\n",
       "      <td>AIVIBP-10157 [Phone/SMS]It always show timesta...</td>\n",
       "      <td>SW_PHONE</td>\n",
       "      <td>SW_PHONE</td>\n",
       "      <td>SW_PHONE</td>\n",
       "      <td>SW_PHONE</td>\n",
       "      <td>SW_PHONE</td>\n",
       "    </tr>\n",
       "    <tr>\n",
       "      <th>17932</th>\n",
       "      <td>On switching to Handsfree mode after performin...</td>\n",
       "      <td>SW_PHONE</td>\n",
       "      <td>SW_PHONE</td>\n",
       "      <td>SW_PHONE</td>\n",
       "      <td>SW_PHONE</td>\n",
       "      <td>SW_PHONE</td>\n",
       "    </tr>\n",
       "    <tr>\n",
       "      <th>45685</th>\n",
       "      <td>AIVIBP-16778 It is not possible to remove the ...</td>\n",
       "      <td>SW_PROFILE</td>\n",
       "      <td>SW_INFOTAINMENT</td>\n",
       "      <td>SW_PROFILE</td>\n",
       "      <td>SW_INFOTAINMENT</td>\n",
       "      <td>SW_PROFILE</td>\n",
       "    </tr>\n",
       "    <tr>\n",
       "      <th>80378</th>\n",
       "      <td>[SPM]: System state transition from SYSTEM_ON ...</td>\n",
       "      <td>SW_SPM</td>\n",
       "      <td>SW_SPM</td>\n",
       "      <td>SW_SPM</td>\n",
       "      <td>SW_AUDIO</td>\n",
       "      <td>SW_METER</td>\n",
       "    </tr>\n",
       "    <tr>\n",
       "      <th>8777</th>\n",
       "      <td>Self diag popup not displayed all the time whe...</td>\n",
       "      <td>SW_DIAGNOSTIC</td>\n",
       "      <td>SW_DIAGNOSTIC</td>\n",
       "      <td>SW_DIAGNOSTIC</td>\n",
       "      <td>SW_DIAGNOSTIC</td>\n",
       "      <td>SW_DIAGNOSTIC</td>\n",
       "    </tr>\n",
       "    <tr>\n",
       "      <th>40050</th>\n",
       "      <td>Scope1:  CarPlay setting screen displayed for ...</td>\n",
       "      <td>SW_PARKASSIST</td>\n",
       "      <td>SW_PARKASSIST</td>\n",
       "      <td>SW_SMARTPHONE</td>\n",
       "      <td>SW_PARKASSIST</td>\n",
       "      <td>SW_PARKASSIST</td>\n",
       "    </tr>\n",
       "    <tr>\n",
       "      <th>62801</th>\n",
       "      <td>[SXM Weather] Advisory is seen just before the...</td>\n",
       "      <td>SW_TUNER_SXM</td>\n",
       "      <td>SW_TUNER_SXM</td>\n",
       "      <td>SW_TUNER_SXM</td>\n",
       "      <td>SW_TUNER_SXM</td>\n",
       "      <td>SW_TUNER_SXM</td>\n",
       "    </tr>\n",
       "    <tr>\n",
       "      <th>9175</th>\n",
       "      <td>AIVIBP-9589 [Navigation] [Pause and stop butto...</td>\n",
       "      <td>SW_NAVIGATION_JPN</td>\n",
       "      <td>SW_NAVIGATION_JPN</td>\n",
       "      <td>SW_NAVIGATION</td>\n",
       "      <td>SW_NAVIGATION</td>\n",
       "      <td>SW_NAVIGATION_JPN</td>\n",
       "    </tr>\n",
       "    <tr>\n",
       "      <th>56736</th>\n",
       "      <td>Text truncation in FM preset list</td>\n",
       "      <td>SW_TUNER_AMFM</td>\n",
       "      <td>SW_TUNER_AMFM</td>\n",
       "      <td>SW_TUNER_AMFM</td>\n",
       "      <td>SW_TUNER_AMFM</td>\n",
       "      <td>SW_TUNER_AMFM</td>\n",
       "    </tr>\n",
       "    <tr>\n",
       "      <th>31817</th>\n",
       "      <td>AIVIBP-22323 [Bluetooth] Spinning circle conti...</td>\n",
       "      <td>SW_PHONE</td>\n",
       "      <td>SW_PHONE</td>\n",
       "      <td>SW_PHONE</td>\n",
       "      <td>SW_PHONE</td>\n",
       "      <td>SW_PHONE</td>\n",
       "    </tr>\n",
       "    <tr>\n",
       "      <th>80872</th>\n",
       "      <td>Exposed SMD component under bottom cover</td>\n",
       "      <td>Mechanic</td>\n",
       "      <td>Mechanic</td>\n",
       "      <td>Mechanic</td>\n",
       "      <td>Mechanic</td>\n",
       "      <td>SW_INFOTAINMENT</td>\n",
       "    </tr>\n",
       "    <tr>\n",
       "      <th>69644</th>\n",
       "      <td>While pressing  Assistance option blank screen...</td>\n",
       "      <td>SW_TELEMATIC</td>\n",
       "      <td>SW_PARKASSIST</td>\n",
       "      <td>SW_NAVIGATION</td>\n",
       "      <td>SW_PARKASSIST</td>\n",
       "      <td>SW_DRIVEASSIST</td>\n",
       "    </tr>\n",
       "    <tr>\n",
       "      <th>52230</th>\n",
       "      <td>[Phone]When BT is not connected, No paired Pho...</td>\n",
       "      <td>SW_PHONE</td>\n",
       "      <td>SW_PHONE</td>\n",
       "      <td>SW_PHONE</td>\n",
       "      <td>SW_PHONE</td>\n",
       "      <td>SW_PHONE</td>\n",
       "    </tr>\n",
       "    <tr>\n",
       "      <th>62738</th>\n",
       "      <td>[SDS_2.1_Renault] POI by Category selection le...</td>\n",
       "      <td>SW_SPEECH</td>\n",
       "      <td>SW_SPEECH</td>\n",
       "      <td>SW_SPEECH</td>\n",
       "      <td>SW_SPEECH</td>\n",
       "      <td>SW_SPEECH</td>\n",
       "    </tr>\n",
       "    <tr>\n",
       "      <th>1029</th>\n",
       "      <td>AIVIBP-15135 [Predictive navigation] Route lea...</td>\n",
       "      <td>SW_NAVIGATION</td>\n",
       "      <td>SW_NAVIGATION</td>\n",
       "      <td>SW_NAVIGATION</td>\n",
       "      <td>SW_NAVIGATION</td>\n",
       "      <td>SW_NAVIGATION</td>\n",
       "    </tr>\n",
       "    <tr>\n",
       "      <th>50148</th>\n",
       "      <td>Online search is not enabled even when device ...</td>\n",
       "      <td>SW_NAVIGATION</td>\n",
       "      <td>SW_NAVIGATION</td>\n",
       "      <td>SW_NAVIGATION</td>\n",
       "      <td>SW_NAVIGATION</td>\n",
       "      <td>SW_NAVIGATION</td>\n",
       "    </tr>\n",
       "    <tr>\n",
       "      <th>43721</th>\n",
       "      <td>[Degrade][Display] [RVC screen] is not display...</td>\n",
       "      <td>SW_PARKASSIST</td>\n",
       "      <td>SW_PARKASSIST</td>\n",
       "      <td>SW_PARKASSIST</td>\n",
       "      <td>SW_PARKASSIST</td>\n",
       "      <td>SW_PARKASSIST</td>\n",
       "    </tr>\n",
       "    <tr>\n",
       "      <th>23257</th>\n",
       "      <td>Exception in /opt/bosch/base/bin/apphmi_naviga...</td>\n",
       "      <td>SW_NAVIGATION</td>\n",
       "      <td>SW_Resets</td>\n",
       "      <td>SW_NAVIGATION</td>\n",
       "      <td>SW_FRAMEWORK_HMI</td>\n",
       "      <td>SW_NAVIGATION</td>\n",
       "    </tr>\n",
       "    <tr>\n",
       "      <th>45226</th>\n",
       "      <td>Map rendering popup displayed eventhough we ar...</td>\n",
       "      <td>SW_HOME_MENU</td>\n",
       "      <td>SW_HOME_MENU</td>\n",
       "      <td>SW_NAVIGATION</td>\n",
       "      <td>SW_HOME_MENU</td>\n",
       "      <td>SW_NAVIGATION</td>\n",
       "    </tr>\n",
       "    <tr>\n",
       "      <th>22662</th>\n",
       "      <td>AIVI Renault SWRC Encoder shows during directi...</td>\n",
       "      <td>SW_INPUT</td>\n",
       "      <td>SW_NAVIGATION</td>\n",
       "      <td>SW_NAVIGATION</td>\n",
       "      <td>SW_NAVIGATION</td>\n",
       "      <td>SW_SPEECH</td>\n",
       "    </tr>\n",
       "    <tr>\n",
       "      <th>73901</th>\n",
       "      <td>initial sequence not completed by ACC off on</td>\n",
       "      <td>SW_METER</td>\n",
       "      <td>SW_METER</td>\n",
       "      <td>SW_INFOTAINMENT</td>\n",
       "      <td>SW_INFOTAINMENT</td>\n",
       "      <td>SW_INFOTAINMENT</td>\n",
       "    </tr>\n",
       "    <tr>\n",
       "      <th>49696</th>\n",
       "      <td>AIVIBP-14628 [Navigation] Go Here is touching ...</td>\n",
       "      <td>SW_NAVIGATION</td>\n",
       "      <td>SW_NAVIGATION</td>\n",
       "      <td>SW_NAVIGATION</td>\n",
       "      <td>SW_NAVIGATION</td>\n",
       "      <td>SW_NAVIGATION</td>\n",
       "    </tr>\n",
       "    <tr>\n",
       "      <th>39900</th>\n",
       "      <td>Glitches/Interruptions in the BT audio</td>\n",
       "      <td>SW_AUDIO</td>\n",
       "      <td>SW_INFOTAINMENT</td>\n",
       "      <td>SW_INFOTAINMENT</td>\n",
       "      <td>SW_AUDIO</td>\n",
       "      <td>SW_AUDIO</td>\n",
       "    </tr>\n",
       "    <tr>\n",
       "      <th>68251</th>\n",
       "      <td>[SXM Audio]Db version  values not updated for ...</td>\n",
       "      <td>SW_TUNER_SXM</td>\n",
       "      <td>SW_TUNER_SXM</td>\n",
       "      <td>SW_TUNER_SXM</td>\n",
       "      <td>SW_TUNER_SXM</td>\n",
       "      <td>SW_TUNER_SXM</td>\n",
       "    </tr>\n",
       "  </tbody>\n",
       "</table>\n",
       "<p>3346 rows × 6 columns</p>\n",
       "</div>"
      ],
      "text/plain": [
       "                                                 Summary        Component/s  \\\n",
       "30491  AIVIBP-3631 MEX [ Display not correct in Engin...     SW_DRIVEASSIST   \n",
       "26087         On the FM TOP screen, USB audio was played   SW_FRAMEWORK_HMI   \n",
       "11798  Screen freezes when reverse gear is engaged/di...      SW_Master_HMI   \n",
       "7269   Check for updates works only after replacing P...            SW_OTAS   \n",
       "24238  ESE settings are not sent to Premium 1 amplifi...           SW_AUDIO   \n",
       "58877  [SXM Audio] Artist  Alerts are not  listed in ...       SW_TUNER_SXM   \n",
       "23187  AIVIBP-13154 BCall and CCall icons are crossed...       SW_TELEMATIC   \n",
       "74011  Keyboard_Thai is not displayed in navigation, ...      SW_Master_HMI   \n",
       "8073   Carplay: Audio_warning is not sent by incoming...           SW_METER   \n",
       "16009  AIVIBP-16529 HMI : Title is not display in Sys...          SW_SYSTEM   \n",
       "51973  Scope2:carplay: short press of SWC_TEL_VR will...          SW_SPEECH   \n",
       "10345  [Source Change Problem]Liang san got the trace...    SW_INFOTAINMENT   \n",
       "11291  Scope 2: Message contents are not correctly di...        SW_SWUPDATE   \n",
       "53007  AIVIBP-17155 [WiFi] The character for password...            SW_WIFI   \n",
       "28419  Reset is not working in Voice Audio settings s...          SW_SPEECH   \n",
       "27046  [PIVI] SDS session doesnt end on Tell Button p...          SW_SPEECH   \n",
       "32226  Displayed map was split on the route confirmat...       SW_TELEMATIC   \n",
       "49320           Scope2: No ADASIS msg flow 0x5F6, 0x4D0           SW_ADASIS   \n",
       "73974          Carplay: Stitcher app does not play audio      SW_SMARTPHONE   \n",
       "74432  AIVIBP-16036 [Voice Recognition(VR)] Frequency...          SW_SPEECH   \n",
       "49391  【Wi-Fi】There is an irregularity in the time it...            SW_WIFI   \n",
       "51208  AIVIBP-6861 [Wi-Fi][(1:Device name)] is displa...            SW_WIFI   \n",
       "43626  Navigation: \"Receiving data ...\" popup is disp...      SW_NAVIGATION   \n",
       "9244   [SPEED RESTRICTION ] : Phonebook_ call logs sc...           SW_PHONE   \n",
       "16173  [Scope2.1 Renault] SEGMENT Relative Probabilit...          SW_ADASIS   \n",
       "54345  [DTM] Slider arrow navigation is not working i...      SW_DIAGNOSTIC   \n",
       "65191  When connect Android Auto, the characters of 「...    SW_TRANSLATIONS   \n",
       "12490            The scroll bar blinks on screen change.   SW_FRAMEWORK_HMI   \n",
       "62880  [P-IVI  Nissan] System Playing No phonetic dat...          SW_SPEECH   \n",
       "35925  AIVIBP-14939 [Display]Display of the Music lib...    SW_TRANSLATIONS   \n",
       "...                                                  ...                ...   \n",
       "53430  Clock is not in line with title and Phone sign...          SW_SYSTEM   \n",
       "7414   CLONE: Scope 2.1 - The first install's log is ...        SW_SWUPDATE   \n",
       "80691  [P-IVI Navigation] : \"Tom Tom 5-day forecast\" ...      SW_NAVIGATION   \n",
       "40557  When display is OFF, Long press Day/Night butt...          SW_SYSTEM   \n",
       "62571  [navi]When the route includes several transit ...      SW_NAVIGATION   \n",
       "76136  [DMTEST] USB is not detected [Healable:Source ...    SW_INFOTAINMENT   \n",
       "20190  AIVIBP-10157 [Phone/SMS]It always show timesta...           SW_PHONE   \n",
       "17932  On switching to Handsfree mode after performin...           SW_PHONE   \n",
       "45685  AIVIBP-16778 It is not possible to remove the ...         SW_PROFILE   \n",
       "80378  [SPM]: System state transition from SYSTEM_ON ...             SW_SPM   \n",
       "8777   Self diag popup not displayed all the time whe...      SW_DIAGNOSTIC   \n",
       "40050  Scope1:  CarPlay setting screen displayed for ...      SW_PARKASSIST   \n",
       "62801  [SXM Weather] Advisory is seen just before the...       SW_TUNER_SXM   \n",
       "9175   AIVIBP-9589 [Navigation] [Pause and stop butto...  SW_NAVIGATION_JPN   \n",
       "56736                  Text truncation in FM preset list      SW_TUNER_AMFM   \n",
       "31817  AIVIBP-22323 [Bluetooth] Spinning circle conti...           SW_PHONE   \n",
       "80872           Exposed SMD component under bottom cover           Mechanic   \n",
       "69644  While pressing  Assistance option blank screen...       SW_TELEMATIC   \n",
       "52230  [Phone]When BT is not connected, No paired Pho...           SW_PHONE   \n",
       "62738  [SDS_2.1_Renault] POI by Category selection le...          SW_SPEECH   \n",
       "1029   AIVIBP-15135 [Predictive navigation] Route lea...      SW_NAVIGATION   \n",
       "50148  Online search is not enabled even when device ...      SW_NAVIGATION   \n",
       "43721  [Degrade][Display] [RVC screen] is not display...      SW_PARKASSIST   \n",
       "23257  Exception in /opt/bosch/base/bin/apphmi_naviga...      SW_NAVIGATION   \n",
       "45226  Map rendering popup displayed eventhough we ar...       SW_HOME_MENU   \n",
       "22662  AIVI Renault SWRC Encoder shows during directi...           SW_INPUT   \n",
       "73901       initial sequence not completed by ACC off on           SW_METER   \n",
       "49696  AIVIBP-14628 [Navigation] Go Here is touching ...      SW_NAVIGATION   \n",
       "39900             Glitches/Interruptions in the BT audio           SW_AUDIO   \n",
       "68251  [SXM Audio]Db version  values not updated for ...       SW_TUNER_SXM   \n",
       "\n",
       "          Prediction_mnb   Prediction_svm    Prediction_MNB  \\\n",
       "30491     SW_DRIVEASSIST   SW_DRIVEASSIST    SW_DRIVEASSIST   \n",
       "26087    SW_INFOTAINMENT  SW_INFOTAINMENT   SW_INFOTAINMENT   \n",
       "11798      SW_PARKASSIST    SW_PARKASSIST     SW_PARKASSIST   \n",
       "7269             SW_OTAS          SW_OTAS     SW_NAVIGATION   \n",
       "24238           SW_AUDIO         SW_METER          SW_AUDIO   \n",
       "58877       SW_TUNER_SXM     SW_TUNER_SXM      SW_TUNER_SXM   \n",
       "23187      SW_NAVIGATION     SW_TELEMATIC      SW_TELEMATIC   \n",
       "74011    SW_INFOTAINMENT    SW_NAVIGATION   SW_INFOTAINMENT   \n",
       "8073            SW_METER    SW_SMARTPHONE          SW_METER   \n",
       "16009          SW_SYSTEM        SW_SYSTEM   SW_INFOTAINMENT   \n",
       "51973      SW_SMARTPHONE        SW_SPEECH     SW_SMARTPHONE   \n",
       "10345      SW_SMARTPHONE  SW_INFOTAINMENT   SW_INFOTAINMENT   \n",
       "11291        SW_SWUPDATE      SW_SWUPDATE   SW_INFOTAINMENT   \n",
       "53007            SW_WIFI         SW_PHONE          SW_PHONE   \n",
       "28419          SW_SPEECH        SW_SPEECH         SW_SPEECH   \n",
       "27046          SW_SPEECH        SW_SPEECH         SW_SPEECH   \n",
       "32226      SW_NAVIGATION    SW_NAVIGATION     SW_NAVIGATION   \n",
       "49320     SW_DRIVEASSIST   SW_DRIVEASSIST    SW_DRIVEASSIST   \n",
       "73974      SW_SMARTPHONE    SW_SMARTPHONE     SW_SMARTPHONE   \n",
       "74432          SW_SPEECH        SW_SPEECH         SW_SPEECH   \n",
       "49391           SW_PHONE          SW_WIFI           SW_WIFI   \n",
       "51208            SW_WIFI          SW_WIFI           SW_WIFI   \n",
       "43626      SW_NAVIGATION    SW_NAVIGATION     SW_NAVIGATION   \n",
       "9244            SW_PHONE         SW_PHONE     SW_NAVIGATION   \n",
       "16173      SW_DIAGNOSTIC        SW_ADASIS     SW_DIAGNOSTIC   \n",
       "54345      SW_DIAGNOSTIC    SW_NAVIGATION     SW_NAVIGATION   \n",
       "65191      SW_SMARTPHONE    SW_SMARTPHONE     SW_SMARTPHONE   \n",
       "12490   SW_FRAMEWORK_HMI    SW_NAVIGATION     SW_NAVIGATION   \n",
       "62880          SW_SPEECH        SW_SPEECH         SW_SPEECH   \n",
       "35925    SW_INFOTAINMENT  SW_INFOTAINMENT   SW_INFOTAINMENT   \n",
       "...                  ...              ...               ...   \n",
       "53430           SW_PHONE         SW_PHONE          SW_PHONE   \n",
       "7414         SW_SWUPDATE      SW_SWUPDATE       SW_SWUPDATE   \n",
       "80691      SW_NAVIGATION    SW_NAVIGATION     SW_NAVIGATION   \n",
       "40557          SW_SYSTEM        SW_SYSTEM         SW_SYSTEM   \n",
       "62571      SW_NAVIGATION    SW_NAVIGATION     SW_NAVIGATION   \n",
       "76136    SW_INFOTAINMENT  SW_INFOTAINMENT   SW_INFOTAINMENT   \n",
       "20190           SW_PHONE         SW_PHONE          SW_PHONE   \n",
       "17932           SW_PHONE         SW_PHONE          SW_PHONE   \n",
       "45685    SW_INFOTAINMENT       SW_PROFILE   SW_INFOTAINMENT   \n",
       "80378             SW_SPM           SW_SPM          SW_AUDIO   \n",
       "8777       SW_DIAGNOSTIC    SW_DIAGNOSTIC     SW_DIAGNOSTIC   \n",
       "40050      SW_PARKASSIST    SW_SMARTPHONE     SW_PARKASSIST   \n",
       "62801       SW_TUNER_SXM     SW_TUNER_SXM      SW_TUNER_SXM   \n",
       "9175   SW_NAVIGATION_JPN    SW_NAVIGATION     SW_NAVIGATION   \n",
       "56736      SW_TUNER_AMFM    SW_TUNER_AMFM     SW_TUNER_AMFM   \n",
       "31817           SW_PHONE         SW_PHONE          SW_PHONE   \n",
       "80872           Mechanic         Mechanic          Mechanic   \n",
       "69644      SW_PARKASSIST    SW_NAVIGATION     SW_PARKASSIST   \n",
       "52230           SW_PHONE         SW_PHONE          SW_PHONE   \n",
       "62738          SW_SPEECH        SW_SPEECH         SW_SPEECH   \n",
       "1029       SW_NAVIGATION    SW_NAVIGATION     SW_NAVIGATION   \n",
       "50148      SW_NAVIGATION    SW_NAVIGATION     SW_NAVIGATION   \n",
       "43721      SW_PARKASSIST    SW_PARKASSIST     SW_PARKASSIST   \n",
       "23257          SW_Resets    SW_NAVIGATION  SW_FRAMEWORK_HMI   \n",
       "45226       SW_HOME_MENU    SW_NAVIGATION      SW_HOME_MENU   \n",
       "22662      SW_NAVIGATION    SW_NAVIGATION     SW_NAVIGATION   \n",
       "73901           SW_METER  SW_INFOTAINMENT   SW_INFOTAINMENT   \n",
       "49696      SW_NAVIGATION    SW_NAVIGATION     SW_NAVIGATION   \n",
       "39900    SW_INFOTAINMENT  SW_INFOTAINMENT          SW_AUDIO   \n",
       "68251       SW_TUNER_SXM     SW_TUNER_SXM      SW_TUNER_SXM   \n",
       "\n",
       "      predicted_svm_stemmed  \n",
       "30491        SW_DRIVEASSIST  \n",
       "26087       SW_INFOTAINMENT  \n",
       "11798         SW_PARKASSIST  \n",
       "7269        SW_INFOTAINMENT  \n",
       "24238              SW_AUDIO  \n",
       "58877          SW_TUNER_SXM  \n",
       "23187          SW_TELEMATIC  \n",
       "74011       SW_INFOTAINMENT  \n",
       "8073          SW_SMARTPHONE  \n",
       "16009       SW_INFOTAINMENT  \n",
       "51973             SW_SPEECH  \n",
       "10345       SW_INFOTAINMENT  \n",
       "11291           SW_SWUPDATE  \n",
       "53007               SW_WIFI  \n",
       "28419             SW_SPEECH  \n",
       "27046             SW_SPEECH  \n",
       "32226         SW_NAVIGATION  \n",
       "49320             SW_ADASIS  \n",
       "73974         SW_SMARTPHONE  \n",
       "74432             SW_SPEECH  \n",
       "49391               SW_WIFI  \n",
       "51208               SW_WIFI  \n",
       "43626         SW_NAVIGATION  \n",
       "9244          SW_NAVIGATION  \n",
       "16173             SW_ADASIS  \n",
       "54345         SW_NAVIGATION  \n",
       "65191         SW_SMARTPHONE  \n",
       "12490         SW_NAVIGATION  \n",
       "62880             SW_SPEECH  \n",
       "35925       SW_INFOTAINMENT  \n",
       "...                     ...  \n",
       "53430              SW_PHONE  \n",
       "7414            SW_SWUPDATE  \n",
       "80691         SW_NAVIGATION  \n",
       "40557         SW_NAVIGATION  \n",
       "62571         SW_NAVIGATION  \n",
       "76136       SW_INFOTAINMENT  \n",
       "20190              SW_PHONE  \n",
       "17932              SW_PHONE  \n",
       "45685            SW_PROFILE  \n",
       "80378              SW_METER  \n",
       "8777          SW_DIAGNOSTIC  \n",
       "40050         SW_PARKASSIST  \n",
       "62801          SW_TUNER_SXM  \n",
       "9175      SW_NAVIGATION_JPN  \n",
       "56736         SW_TUNER_AMFM  \n",
       "31817              SW_PHONE  \n",
       "80872       SW_INFOTAINMENT  \n",
       "69644        SW_DRIVEASSIST  \n",
       "52230              SW_PHONE  \n",
       "62738             SW_SPEECH  \n",
       "1029          SW_NAVIGATION  \n",
       "50148         SW_NAVIGATION  \n",
       "43721         SW_PARKASSIST  \n",
       "23257         SW_NAVIGATION  \n",
       "45226         SW_NAVIGATION  \n",
       "22662             SW_SPEECH  \n",
       "73901       SW_INFOTAINMENT  \n",
       "49696         SW_NAVIGATION  \n",
       "39900              SW_AUDIO  \n",
       "68251          SW_TUNER_SXM  \n",
       "\n",
       "[3346 rows x 6 columns]"
      ]
     },
     "execution_count": 27,
     "metadata": {},
     "output_type": "execute_result"
    }
   ],
   "source": [
    "test['Prediction_MNB']=predicted_mnb_stemmed\n",
    "test['Prediction_svm']=predicted_svm\n",
    "test['Prediction_mnb']=predicted_best\n",
    "test['predicted_svm_stemmed']=predicted_svm_stemmed\n",
    "test[['Summary','Component/s','Prediction_mnb','Prediction_svm','Prediction_MNB','predicted_svm_stemmed']]"
   ]
  },
  {
   "cell_type": "code",
   "execution_count": 28,
   "metadata": {},
   "outputs": [],
   "source": [
    "all_perfect=len(test[(test['Component/s']==test['Prediction_mnb' ] )&( test['Component/s']==test['Prediction_svm' ]) & ( test['Component/s']==test['Prediction_MNB' ])&( test['Component/s']==test['predicted_svm_stemmed' ])])\n",
    "mod1=len(test[(test['Component/s']==test['Prediction_mnb' ])]) \n",
    "mod2=len(test[(test['Component/s']==test['Prediction_svm' ])]) \n",
    "mod3=len(test[(test['Component/s']==test['Prediction_MNB' ])]) \n",
    "mod4=len(test[(test['Component/s']==test['predicted_svm_stemmed' ])]) \n",
    "mod5=262\n",
    "plot_data=np.array([all_perfect,mod1,mod2,mod3,mod4,mod5])\n",
    "names=['All Correct','MNB','SVM','Stemmed MNB','SVM_Stemmed','LDA']"
   ]
  },
  {
   "cell_type": "code",
   "execution_count": 29,
   "metadata": {},
   "outputs": [
    {
     "data": {
      "image/png": "[encoded data removed]",
      "text/plain": [
       "<Figure size 432x288 with 1 Axes>"
      ]
     },
     "metadata": {},
     "output_type": "display_data"
    }
   ],
   "source": [
    "xticklabels = (names)\n",
    "# Remove the single quotes, commas and enclosing square brackets\n",
    "xtlabs = names\n",
    "\n",
    "indices = np.arange(len(names))\n",
    "width = 0.75\n",
    "fig = plt.figure()\n",
    "col=('green','#900900','green','green','green','yellow')\n",
    "plt.title('Model vs Correct values')\n",
    "plt.xlabel('Model')\n",
    "plt.ylabel('Correct Values')\n",
    "plt.bar(indices, plot_data, width,color=col)\n",
    "plt.xticks(indices + width * 0.05, xtlabs, rotation='horizontal', fontsize=8)\n",
    "\n",
    "plt.savefig('Model_Correct.png')\n",
    "plt.show()\n"
   ]
  },
  {
   "cell_type": "code",
   "execution_count": 30,
   "metadata": {
    "scrolled": false
   },
   "outputs": [
    {
     "data": {
      "image/png": "[encoded data removed]",
      "text/plain": [
       "<Figure size 640x480 with 1 Axes>"
      ]
     },
     "metadata": {},
     "output_type": "display_data"
    }
   ],
   "source": [
    "\n",
    "plt.rcdefaults()\n",
    "fig, ax = plt.subplots()\n",
    "\n",
    "# Example data\n",
    "people = names\n",
    "y_pos = np.arange(len(people))\n",
    "performance = plot_data\n",
    "error = np.random.rand(len(people))\n",
    "col=('green','#900900','green','green','green','yellow')\n",
    "ax.barh(y_pos, performance, xerr=error, align='center',\n",
    "        color=col, ecolor='black')\n",
    "ax.set_yticks(y_pos)\n",
    "ax.set_yticklabels(people)\n",
    "ax.invert_yaxis()  # labels read top-to-bottom\n",
    "ax.set_xlabel('Correct Predictions')\n",
    "ax.set_title('Model Vs Correct Predictions')\n",
    "plt.show()"
   ]
  },
  {
   "cell_type": "code",
   "execution_count": 31,
   "metadata": {},
   "outputs": [
    {
     "data": {
      "text/plain": [
       "array([1789, 2328, 2288, 2134, 2332,  262])"
      ]
     },
     "execution_count": 31,
     "metadata": {},
     "output_type": "execute_result"
    }
   ],
   "source": [
    "plot_data"
   ]
  },
  {
   "cell_type": "code",
   "execution_count": 32,
   "metadata": {},
   "outputs": [],
   "source": [
    "D=pd.DataFrame()\n",
    "D['Model']=names\n",
    "D['Accuracy']=plot_data*100/len(test)"
   ]
  },
  {
   "cell_type": "code",
   "execution_count": 33,
   "metadata": {},
   "outputs": [],
   "source": [
    "D.to_csv(\"Plot_data.csv\")"
   ]
  },
  {
   "cell_type": "code",
   "execution_count": 34,
   "metadata": {},
   "outputs": [],
   "source": [
    "accu=plot_data[1:]/len(test)"
   ]
  },
  {
   "cell_type": "code",
   "execution_count": 35,
   "metadata": {},
   "outputs": [
    {
     "data": {
      "image/png": "[encoded data removed]",
      "text/plain": [
       "<Figure size 640x480 with 1 Axes>"
      ]
     },
     "metadata": {},
     "output_type": "display_data"
    }
   ],
   "source": [
    "xticklabels = (names[1:])\n",
    "# Remove the single quotes, commas and enclosing square brackets\n",
    "xtlabs = names[1:]\n",
    "\n",
    "indices = np.arange(len(names[1:]))\n",
    "width = 0.75\n",
    "fig = plt.figure()\n",
    "col=('#900900','green','green','green','yellow')\n",
    "plt.title('Model vs Accuracy')\n",
    "plt.xlabel('Model')\n",
    "plt.ylabel('Accuracy')\n",
    "plt.bar(indices, accu, width,color=col)\n",
    "plt.xticks(indices + width * 0.05, xtlabs, rotation='horizontal', fontsize=8)\n",
    "plt.savefig('Model_Accuracy.png')\n",
    "plt.show()"
   ]
  },
  {
   "cell_type": "code",
   "execution_count": 36,
   "metadata": {},
   "outputs": [
    {
     "data": {
      "text/plain": [
       "['MNB', 'SVM', 'Stemmed MNB', 'SVM_Stemmed', 'LDA']"
      ]
     },
     "execution_count": 36,
     "metadata": {},
     "output_type": "execute_result"
    }
   ],
   "source": [
    "xticklabels"
   ]
  },
  {
   "cell_type": "code",
   "execution_count": 37,
   "metadata": {},
   "outputs": [
    {
     "data": {
      "text/plain": [
       "0.07830245068738792"
      ]
     },
     "execution_count": 37,
     "metadata": {},
     "output_type": "execute_result"
    }
   ],
   "source": [
    "262/len(test)"
   ]
  },
  {
   "cell_type": "code",
   "execution_count": 38,
   "metadata": {},
   "outputs": [],
   "source": [
    "train_x, valid_x, train_y, valid_y = model_selection.train_test_split(train_data['Summary'], train_data['Component/s'])"
   ]
  },
  {
   "cell_type": "code",
   "execution_count": 39,
   "metadata": {},
   "outputs": [
    {
     "data": {
      "text/plain": [
       "20648"
      ]
     },
     "execution_count": 39,
     "metadata": {},
     "output_type": "execute_result"
    }
   ],
   "source": [
    "len(valid_x)"
   ]
  },
  {
   "cell_type": "code",
   "execution_count": null,
   "metadata": {},
   "outputs": [],
   "source": []
  }
 ],
 "metadata": {
  "kernelspec": {
   "display_name": "Python 3",
   "language": "python",
   "name": "python3"
  },
  "language_info": {
   "codemirror_mode": {
    "name": "ipython",
    "version": 3
   },
   "file_extension": ".py",
   "mimetype": "text/x-python",
   "name": "python",
   "nbconvert_exporter": "python",
   "pygments_lexer": "ipython3",
   "version": "3.6.4"
  }
 },
 "nbformat": 4,
 "nbformat_minor": 2
}
