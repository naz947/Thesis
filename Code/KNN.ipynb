{
 "cells": [
  {
   "cell_type": "code",
   "execution_count": 19,
   "metadata": {},
   "outputs": [
    {
     "data": {
      "text/plain": [
       "<module 'Error' from 'U:\\\\JIRA\\\\Code\\\\Error.py'>"
      ]
     },
     "execution_count": 19,
     "metadata": {},
     "output_type": "execute_result"
    }
   ],
   "source": [
    "from sklearn.feature_extraction.text import TfidfVectorizer\n",
    "from sklearn.neighbors import KNeighborsClassifier\n",
    "from sklearn.cluster import KMeans\n",
    "from nltk.corpus import stopwords \n",
    "from nltk.stem.wordnet import WordNetLemmatizer\n",
    "import string\n",
    "import re\n",
    "import numpy as np\n",
    "from collections import Counter\n",
    "import pandas as pd\n",
    "import Error\n",
    "from matplotlib import reload\n",
    "import matplotlib.pyplot as plt\n",
    "reload(Error)"
   ]
  },
  {
   "cell_type": "code",
   "execution_count": 7,
   "metadata": {},
   "outputs": [],
   "source": [
    "stop = set(stopwords.words('english'))\n",
    "exclude = set(string.punctuation) \n",
    "lemma = WordNetLemmatizer()"
   ]
  },
  {
   "cell_type": "code",
   "execution_count": 8,
   "metadata": {},
   "outputs": [],
   "source": [
    "def clean(doc):\n",
    "    stop_free = \" \".join([i for i in doc.lower().split() if i not in stop])\n",
    "    punc_free = ''.join(ch for ch in stop_free if ch not in exclude)\n",
    "    normalized = \" \".join(lemma.lemmatize(word) for word in punc_free.split())\n",
    "    processed = re.sub(r\"\\d+\",\"\",normalized)\n",
    "    y = processed.split()\n",
    "    return y\n",
    "def replace_strings(data,name):\n",
    "    for i in range(len(data)):\n",
    "        if(data[name].iloc[i].find(',')!=-1):\n",
    "            data[name].iloc[i]=data[name].iloc[i].split(\",\")[-1]\n",
    "    return data[name]"
   ]
  },
  {
   "cell_type": "code",
   "execution_count": 9,
   "metadata": {},
   "outputs": [],
   "source": [
    "train_data=pd.read_excel(\"U:/JIRA/JIRAExport/train_data.xls\")\n",
    "train_data=train_data.dropna()"
   ]
  },
  {
   "cell_type": "code",
   "execution_count": 10,
   "metadata": {},
   "outputs": [
    {
     "data": {
      "text/html": [
       "<div>\n",
       "<style scoped>\n",
       "    .dataframe tbody tr th:only-of-type {\n",
       "        vertical-align: middle;\n",
       "    }\n",
       "\n",
       "    .dataframe tbody tr th {\n",
       "        vertical-align: top;\n",
       "    }\n",
       "\n",
       "    .dataframe thead th {\n",
       "        text-align: right;\n",
       "    }\n",
       "</style>\n",
       "<table border=\"1\" class=\"dataframe\">\n",
       "  <thead>\n",
       "    <tr style=\"text-align: right;\">\n",
       "      <th></th>\n",
       "      <th>Issue Key</th>\n",
       "      <th>Summary</th>\n",
       "      <th>Status</th>\n",
       "      <th>Created</th>\n",
       "      <th>Component/s</th>\n",
       "      <th>Description</th>\n",
       "      <th>Resolved Date</th>\n",
       "    </tr>\n",
       "  </thead>\n",
       "  <tbody>\n",
       "    <tr>\n",
       "      <th>83062</th>\n",
       "      <td>NCG3D-16500</td>\n",
       "      <td>DTMF inputs not taken during Active call on pr...</td>\n",
       "      <td>Closed</td>\n",
       "      <td>2016-06-14 12:51:59</td>\n",
       "      <td>SW_SPEECH</td>\n",
       "      <td>h4. Test Environment :\\n* HW Sample : Scope2\\n...</td>\n",
       "      <td>2016-07-12 07:18:12</td>\n",
       "    </tr>\n",
       "    <tr>\n",
       "      <th>24614</th>\n",
       "      <td>NCG3D-11200</td>\n",
       "      <td>&lt;Power on/off testing&gt; After ID:XM6-170, Altho...</td>\n",
       "      <td>Closed</td>\n",
       "      <td>2016-03-11 11:31:46</td>\n",
       "      <td>SW_FRAMEWORK_HMI,SW_SPM</td>\n",
       "      <td>{color:red} !!! Customer Ticket !!! {color} \\n...</td>\n",
       "      <td>2016-06-13 02:41:08</td>\n",
       "    </tr>\n",
       "    <tr>\n",
       "      <th>36928</th>\n",
       "      <td>NCG3D-84916</td>\n",
       "      <td>[HMI] After twice factory reset screen brightn...</td>\n",
       "      <td>Closed</td>\n",
       "      <td>2018-01-30 14:06:37</td>\n",
       "      <td>SW_SYSTEM</td>\n",
       "      <td>h4. Test Environment :\\n* HW Sample :BDV2 samp...</td>\n",
       "      <td>2018-05-24 12:25:56</td>\n",
       "    </tr>\n",
       "    <tr>\n",
       "      <th>58188</th>\n",
       "      <td>NCG3D-64700</td>\n",
       "      <td>No Android Auto short cut shown in Home screen.</td>\n",
       "      <td>Closed</td>\n",
       "      <td>2017-08-21 11:33:17</td>\n",
       "      <td>SW_SMARTPHONE</td>\n",
       "      <td>h4. Test Environment :\\n* HW Sample : \\n* Devi...</td>\n",
       "      <td>2018-05-18 08:55:03</td>\n",
       "    </tr>\n",
       "    <tr>\n",
       "      <th>79230</th>\n",
       "      <td>NCG3D-76157</td>\n",
       "      <td>AIVIBP-5405 HMI : UPA rear only is display lik...</td>\n",
       "      <td>Closed</td>\n",
       "      <td>2017-11-16 06:31:20</td>\n",
       "      <td>SW_PARKASSIST</td>\n",
       "      <td>{color:red} !!! Customer Ticket !!! {color} \\n...</td>\n",
       "      <td>2018-02-09 11:33:36</td>\n",
       "    </tr>\n",
       "  </tbody>\n",
       "</table>\n",
       "</div>"
      ],
      "text/plain": [
       "         Issue Key                                            Summary  Status  \\\n",
       "83062  NCG3D-16500  DTMF inputs not taken during Active call on pr...  Closed   \n",
       "24614  NCG3D-11200  <Power on/off testing> After ID:XM6-170, Altho...  Closed   \n",
       "36928  NCG3D-84916  [HMI] After twice factory reset screen brightn...  Closed   \n",
       "58188  NCG3D-64700    No Android Auto short cut shown in Home screen.  Closed   \n",
       "79230  NCG3D-76157  AIVIBP-5405 HMI : UPA rear only is display lik...  Closed   \n",
       "\n",
       "                  Created              Component/s  \\\n",
       "83062 2016-06-14 12:51:59                SW_SPEECH   \n",
       "24614 2016-03-11 11:31:46  SW_FRAMEWORK_HMI,SW_SPM   \n",
       "36928 2018-01-30 14:06:37                SW_SYSTEM   \n",
       "58188 2017-08-21 11:33:17            SW_SMARTPHONE   \n",
       "79230 2017-11-16 06:31:20            SW_PARKASSIST   \n",
       "\n",
       "                                             Description        Resolved Date  \n",
       "83062  h4. Test Environment :\\n* HW Sample : Scope2\\n...  2016-07-12 07:18:12  \n",
       "24614  {color:red} !!! Customer Ticket !!! {color} \\n...  2016-06-13 02:41:08  \n",
       "36928  h4. Test Environment :\\n* HW Sample :BDV2 samp...  2018-05-24 12:25:56  \n",
       "58188  h4. Test Environment :\\n* HW Sample : \\n* Devi...  2018-05-18 08:55:03  \n",
       "79230  {color:red} !!! Customer Ticket !!! {color} \\n...  2018-02-09 11:33:36  "
      ]
     },
     "execution_count": 10,
     "metadata": {},
     "output_type": "execute_result"
    }
   ],
   "source": [
    "train_data=train_data.sample(frac=1.0, replace=True)\n",
    "train=train_data.sample(frac=0.90,random_state=120)\n",
    "test=train_data.drop(train.index)\n",
    "train.head()"
   ]
  },
  {
   "cell_type": "code",
   "execution_count": 11,
   "metadata": {},
   "outputs": [],
   "source": [
    "train_clean_sentences = []\n",
    "for line_number in range(len(train)):\n",
    "    line = train.iloc[line_number]['Summary']\n",
    "    cleaned = clean(line)\n",
    "    cleaned = ' '.join(cleaned)\n",
    "    train_clean_sentences.append(cleaned)"
   ]
  },
  {
   "cell_type": "code",
   "execution_count": 12,
   "metadata": {},
   "outputs": [],
   "source": [
    "vectorizer = TfidfVectorizer(stop_words='english')\n",
    "X = vectorizer.fit_transform(train_clean_sentences)"
   ]
  },
  {
   "cell_type": "code",
   "execution_count": 13,
   "metadata": {},
   "outputs": [
    {
     "name": "stderr",
     "output_type": "stream",
     "text": [
      "C:\\Program Files\\Anaconda3\\lib\\site-packages\\pandas\\core\\indexing.py:194: SettingWithCopyWarning: \n",
      "A value is trying to be set on a copy of a slice from a DataFrame\n",
      "\n",
      "See the caveats in the documentation: http://pandas.pydata.org/pandas-docs/stable/indexing.html#indexing-view-versus-copy\n",
      "  self._setitem_with_indexer(indexer, value)\n"
     ]
    }
   ],
   "source": [
    "train_traget=replace_strings(train,'Component/s')\n"
   ]
  },
  {
   "cell_type": "code",
   "execution_count": 22,
   "metadata": {},
   "outputs": [
    {
     "name": "stderr",
     "output_type": "stream",
     "text": [
      "C:\\Program Files\\Anaconda3\\lib\\site-packages\\pandas\\core\\indexing.py:194: SettingWithCopyWarning: \n",
      "A value is trying to be set on a copy of a slice from a DataFrame\n",
      "\n",
      "See the caveats in the documentation: http://pandas.pydata.org/pandas-docs/stable/indexing.html#indexing-view-versus-copy\n",
      "  self._setitem_with_indexer(indexer, value)\n",
      "C:\\Program Files\\Anaconda3\\lib\\site-packages\\ipykernel_launcher.py:11: SettingWithCopyWarning: \n",
      "A value is trying to be set on a copy of a slice from a DataFrame\n",
      "\n",
      "See the caveats in the documentation: http://pandas.pydata.org/pandas-docs/stable/indexing.html#indexing-view-versus-copy\n",
      "  # This is added back by InteractiveShellApp.init_path()\n"
     ]
    }
   ],
   "source": [
    "test_traget=replace_strings(test,'Component/s')\n"
   ]
  },
  {
   "cell_type": "code",
   "execution_count": 16,
   "metadata": {},
   "outputs": [],
   "source": [
    "test_clean_sentences = []\n",
    "for line_number in range(len(test)):\n",
    "    line = test.iloc[line_number]['Summary']\n",
    "    cleaned = clean(line)\n",
    "    cleaned = ' '.join(cleaned)\n",
    "    test_clean_sentences.append(cleaned)\n",
    "Test = vectorizer.transform(test_clean_sentences)"
   ]
  },
  {
   "cell_type": "code",
   "execution_count": 24,
   "metadata": {
    "scrolled": true
   },
   "outputs": [
    {
     "name": "stdout",
     "output_type": "stream",
     "text": [
      "For neigbours : 1 Accuracy is : 0.5827873734365694\n",
      "For neigbours : 2 Accuracy is : 0.56789755807028\n",
      "For neigbours : 3 Accuracy is : 0.5732578916021441\n",
      "For neigbours : 4 Accuracy is : 0.5738534842167957\n",
      "For neigbours : 5 Accuracy is : 0.5824895771292437\n",
      "For neigbours : 6 Accuracy is : 0.5854675402025015\n",
      "For neigbours : 7 Accuracy is : 0.5935080405002978\n",
      "For neigbours : 8 Accuracy is : 0.6030375223347231\n",
      "For neigbours : 9 Accuracy is : 0.6030375223347231\n",
      "For neigbours : 10 Accuracy is : 0.6021441334127456\n",
      "For neigbours : 11 Accuracy is : 0.6033353186420488\n",
      "For neigbours : 12 Accuracy is : 0.6063132817153067\n",
      "For neigbours : 13 Accuracy is : 0.6072066706372841\n",
      "For neigbours : 14 Accuracy is : 0.6095890410958904\n",
      "For neigbours : 15 Accuracy is : 0.6072066706372841\n",
      "For neigbours : 16 Accuracy is : 0.6110780226325193\n",
      "For neigbours : 17 Accuracy is : 0.6107802263251936\n",
      "For neigbours : 18 Accuracy is : 0.6131625967837999\n",
      "For neigbours : 19 Accuracy is : 0.6110780226325193\n",
      "For neigbours : 20 Accuracy is : 0.6143537820131031\n",
      "For neigbours : 21 Accuracy is : 0.6155449672424061\n",
      "For neigbours : 22 Accuracy is : 0.6203097081596188\n",
      "For neigbours : 23 Accuracy is : 0.621500893388922\n",
      "For neigbours : 24 Accuracy is : 0.6226920786182252\n",
      "For neigbours : 25 Accuracy is : 0.6209053007742704\n",
      "For neigbours : 26 Accuracy is : 0.6191185229303157\n",
      "For neigbours : 27 Accuracy is : 0.6185229303156641\n",
      "For neigbours : 28 Accuracy is : 0.6164383561643836\n",
      "For neigbours : 29 Accuracy is : 0.615842763549732\n",
      "For neigbours : 30 Accuracy is : 0.6125670041691483\n",
      "For neigbours : 31 Accuracy is : 0.6128648004764741\n",
      "For neigbours : 32 Accuracy is : 0.6140559857057772\n",
      "For neigbours : 33 Accuracy is : 0.6173317450863609\n",
      "For neigbours : 34 Accuracy is : 0.6167361524717093\n",
      "For neigbours : 35 Accuracy is : 0.6176295413936868\n",
      "For neigbours : 36 Accuracy is : 0.615842763549732\n",
      "For neigbours : 37 Accuracy is : 0.6149493746277546\n",
      "For neigbours : 38 Accuracy is : 0.6143537820131031\n",
      "For neigbours : 39 Accuracy is : 0.6164383561643836\n",
      "For neigbours : 40 Accuracy is : 0.6134603930911257\n",
      "For neigbours : 41 Accuracy is : 0.6122692078618225\n",
      "For neigbours : 42 Accuracy is : 0.6134603930911257\n",
      "For neigbours : 43 Accuracy is : 0.6161405598570577\n",
      "For neigbours : 44 Accuracy is : 0.6170339487790352\n",
      "For neigbours : 45 Accuracy is : 0.6137581893984515\n",
      "For neigbours : 46 Accuracy is : 0.6143537820131031\n",
      "For neigbours : 47 Accuracy is : 0.6128648004764741\n",
      "For neigbours : 48 Accuracy is : 0.6131625967837999\n",
      "For neigbours : 49 Accuracy is : 0.6095890410958904\n"
     ]
    }
   ],
   "source": [
    "Accuracy=[]\n",
    "for i in range(1,50):\n",
    "    modelknn = KNeighborsClassifier(n_neighbors=i)\n",
    "    modelknn.fit(X,train_traget)\n",
    "    predicted_labels_knn = modelknn.predict(Test)\n",
    "    Accuracy.append(np.mean(test['Component/s']==predicted_labels_knn))\n",
    "    print(\"For neigbours :\",i,\"Accuracy is :\",np.mean(test_traget==predicted_labels_knn))"
   ]
  },
  {
   "cell_type": "code",
   "execution_count": 20,
   "metadata": {},
   "outputs": [
    {
     "data": {
      "text/plain": [
       "[<matplotlib.lines.Line2D at 0x1e400cdc7b8>]"
      ]
     },
     "execution_count": 20,
     "metadata": {},
     "output_type": "execute_result"
    },
    {
     "data": {
      "image/png": "[encoded data removed]",
      "text/plain": [
       "<Figure size 432x288 with 1 Axes>"
      ]
     },
     "metadata": {},
     "output_type": "display_data"
    }
   ],
   "source": [
    "plt.plot(Accuracy)"
   ]
  },
  {
   "cell_type": "code",
   "execution_count": 25,
   "metadata": {},
   "outputs": [
    {
     "data": {
      "text/plain": [
       "[<matplotlib.lines.Line2D at 0x1e400d47d30>]"
      ]
     },
     "execution_count": 25,
     "metadata": {},
     "output_type": "execute_result"
    },
    {
     "data": {
      "image/png": "[encoded data removed]",
      "text/plain": [
       "<Figure size 432x288 with 1 Axes>"
      ]
     },
     "metadata": {},
     "output_type": "display_data"
    }
   ],
   "source": [
    "plt.plot(Accuracy)"
   ]
  },
  {
   "cell_type": "code",
   "execution_count": 27,
   "metadata": {
    "scrolled": false
   },
   "outputs": [
    {
     "name": "stdout",
     "output_type": "stream",
     "text": [
      "SW_SMARTPHONE 0.7543859649122807\n",
      "SW_PHONE 0.6676829268292683\n",
      "SW_TUNER_AMFM 0.6989247311827957\n",
      "SW_NAVIGATION 0.9079159935379645\n",
      "SW_NAVIGATION_JPN 0.2727272727272727\n",
      "SW_PARKASSIST 0.8416666666666667\n",
      "SW_WIFI 0.6333333333333333\n",
      "SW_DIAGNOSTIC 0.6777777777777778\n",
      "SW_SYSTEM 0.4421052631578947\n",
      "Production-Test 0.0\n",
      "SW_INFOTAINMENT 0.7413127413127413\n",
      "SW_METER 0.5185185185185185\n",
      "SW_TUNER_TV 0.4166666666666667\n",
      "SW_FRAMEWORK_HMI 0.02912621359223301\n",
      "SW_OTAS 0.45\n",
      "SW_HOME_MENU 0.47058823529411764\n",
      "SW_DRIVEASSIST 0.631578947368421\n",
      "SW_AUDIO 0.22058823529411764\n",
      "SW_TELEMATIC 0.5816326530612245\n",
      "Mechanic 0.625\n",
      "SW_SPEECH 0.589041095890411\n",
      "SW_ARCHITECTURE 0.4\n",
      "SW_Resets 0.5\n",
      "SW_TUNER_SXM 0.6796116504854369\n",
      "SW_SPM 0.125\n",
      "SW_Master_HMI 0.0684931506849315\n",
      "TEST_FEP 0.34782608695652173\n",
      "SW_SWUPDATE 0.6666666666666666\n",
      "TEST_EMC 1.0\n",
      "SW_Obigo 0.0\n",
      "SW_TRANSLATIONS 0.1\n",
      "SW_TUNER_HD 0.7142857142857143\n",
      "HW-General 0.15384615384615385\n",
      "SW_NETWORKING 0.0\n",
      "SW_GRAPHICS 0.0\n",
      "SW_DATA 0.0\n",
      "SW_TUNER_DAB 0.35714285714285715\n",
      "Production-General 0.0\n",
      "SW_INPUT 0.0\n",
      "SW_PROFILE 0.7647058823529411\n",
      "TEST_ZTEST 0.5\n",
      "SW_OFFICE 0.16666666666666666\n",
      "SW_Base 0.13333333333333333\n",
      "SW_SECURITY 0.3333333333333333\n",
      "SW_ADASIS 0.3333333333333333\n",
      "SW_MANAPPS 0.2857142857142857\n",
      "SW_DIMMING 0.0\n",
      "SW_Unknown 0.0\n",
      "SW_WIDGETS 0.0\n",
      "SW_IPCM 0.0\n",
      "SW_ADR3 0.0\n",
      "SW_CONFIG_MGR 0.0\n",
      "SW_SNM 0.0\n",
      "SW_TUNERGENERIC 0.0\n",
      "Mechanic-PIVI 0.0\n"
     ]
    }
   ],
   "source": [
    "Error.err.class_err(test_traget,predicted_labels_knn)"
   ]
  },
  {
   "cell_type": "code",
   "execution_count": null,
   "metadata": {},
   "outputs": [],
   "source": []
  }
 ],
 "metadata": {
  "kernelspec": {
   "display_name": "Python 3",
   "language": "python",
   "name": "python3"
  },
  "language_info": {
   "codemirror_mode": {
    "name": "ipython",
    "version": 3
   },
   "file_extension": ".py",
   "mimetype": "text/x-python",
   "name": "python",
   "nbconvert_exporter": "python",
   "pygments_lexer": "ipython3",
   "version": "3.6.4"
  }
 },
 "nbformat": 4,
 "nbformat_minor": 2
}
