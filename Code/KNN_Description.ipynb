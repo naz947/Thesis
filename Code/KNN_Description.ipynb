{
 "cells": [
  {
   "cell_type": "code",
   "execution_count": 5,
   "metadata": {},
   "outputs": [
    {
     "data": {
      "text/plain": [
       "<module 'Error' from 'U:\\\\JIRA\\\\Code\\\\Error.py'>"
      ]
     },
     "execution_count": 5,
     "metadata": {},
     "output_type": "execute_result"
    }
   ],
   "source": [
    "from sklearn.feature_extraction.text import TfidfVectorizer\n",
    "from sklearn.neighbors import KNeighborsClassifier\n",
    "from sklearn.cluster import KMeans\n",
    "from nltk.corpus import stopwords \n",
    "from nltk.stem.wordnet import WordNetLemmatizer\n",
    "import string\n",
    "import re\n",
    "import numpy as np\n",
    "from collections import Counter\n",
    "import pandas as pd\n",
    "import Error\n",
    "import nltk\n",
    "from matplotlib import reload\n",
    "import matplotlib.pyplot as plt\n",
    "reload(Error)"
   ]
  },
  {
   "cell_type": "code",
   "execution_count": 2,
   "metadata": {},
   "outputs": [],
   "source": [
    "stop = set(stopwords.words('english'))\n",
    "exclude = set(string.punctuation) \n",
    "lemma = WordNetLemmatizer()"
   ]
  },
  {
   "cell_type": "code",
   "execution_count": 3,
   "metadata": {},
   "outputs": [],
   "source": [
    "def clean(doc):\n",
    "    stop_free = \" \".join([i for i in doc.lower().split() if i not in stop])\n",
    "    punc_free = ''.join(ch for ch in stop_free if ch not in exclude)\n",
    "    normalized = \" \".join(lemma.lemmatize(word) for word in punc_free.split())\n",
    "    processed = re.sub(r\"\\d+\",\"\",normalized)\n",
    "    y = processed.split()\n",
    "    return y\n",
    "def replace_strings(data,name):\n",
    "    for i in range(len(data)):\n",
    "        if(data[name].iloc[i].find(',')!=-1):\n",
    "            data[name].iloc[i]=data[name].iloc[i].split(\",\")[-1]\n",
    "    return data[name]\n"
   ]
  },
  {
   "cell_type": "code",
   "execution_count": 6,
   "metadata": {},
   "outputs": [],
   "source": [
    "train_data=pd.read_excel(\"U:/JIRA/JIRAExport/train_data.xls\")\n",
    "train_data=train_data.dropna()\n",
    "train_data['Description'] = train_data['Description'].str.replace('[^a-zA-Z]',' ').str.lower()\n",
    "stop_re = '\\\\b'+'\\\\b|\\\\b'.join(nltk.corpus.stopwords.words('english'))+'\\\\b'\n",
    "train_data['Description'] = train_data['Description'].str.replace(stop_re, '')"
   ]
  },
  {
   "cell_type": "code",
   "execution_count": 7,
   "metadata": {},
   "outputs": [
    {
     "data": {
      "text/html": [
       "<div>\n",
       "<style scoped>\n",
       "    .dataframe tbody tr th:only-of-type {\n",
       "        vertical-align: middle;\n",
       "    }\n",
       "\n",
       "    .dataframe tbody tr th {\n",
       "        vertical-align: top;\n",
       "    }\n",
       "\n",
       "    .dataframe thead th {\n",
       "        text-align: right;\n",
       "    }\n",
       "</style>\n",
       "<table border=\"1\" class=\"dataframe\">\n",
       "  <thead>\n",
       "    <tr style=\"text-align: right;\">\n",
       "      <th></th>\n",
       "      <th>Issue Key</th>\n",
       "      <th>Summary</th>\n",
       "      <th>Status</th>\n",
       "      <th>Created</th>\n",
       "      <th>Component/s</th>\n",
       "      <th>Description</th>\n",
       "      <th>Resolved Date</th>\n",
       "    </tr>\n",
       "  </thead>\n",
       "  <tbody>\n",
       "    <tr>\n",
       "      <th>69752</th>\n",
       "      <td>NCG3D-71581</td>\n",
       "      <td>[SDS_2.1_Renault] System does not display the ...</td>\n",
       "      <td>Closed</td>\n",
       "      <td>2017-10-11 08:16:26</td>\n",
       "      <td>SW_SPEECH</td>\n",
       "      <td>h   test environment     hw sample       devic...</td>\n",
       "      <td>2018-06-13 05:52:15</td>\n",
       "    </tr>\n",
       "    <tr>\n",
       "      <th>15859</th>\n",
       "      <td>NCG3D-71193</td>\n",
       "      <td>AIVIBP-4771 When Display OFF, Popup is display...</td>\n",
       "      <td>Closed</td>\n",
       "      <td>2017-10-07 05:43:06</td>\n",
       "      <td>SW_SYSTEM</td>\n",
       "      <td>color red      customer ticket      color    ...</td>\n",
       "      <td>2018-02-26 04:21:37</td>\n",
       "    </tr>\n",
       "    <tr>\n",
       "      <th>77143</th>\n",
       "      <td>NCG3D-46364</td>\n",
       "      <td>Evolution: FatalError location=2290751505</td>\n",
       "      <td>Closed</td>\n",
       "      <td>2017-04-20 07:01:08</td>\n",
       "      <td>SW_PHONE,SW_Resets</td>\n",
       "      <td>h   check ncg         h   test environment    ...</td>\n",
       "      <td>2017-05-12 05:47:32</td>\n",
       "    </tr>\n",
       "    <tr>\n",
       "      <th>58745</th>\n",
       "      <td>NCG3D-74334</td>\n",
       "      <td>DTMF recognition got cancelled after pressing ...</td>\n",
       "      <td>Closed</td>\n",
       "      <td>2017-11-02 09:20:58</td>\n",
       "      <td>SW_INPUT</td>\n",
       "      <td>h   test environment     hw sample   b  sample...</td>\n",
       "      <td>2018-01-09 12:31:38</td>\n",
       "    </tr>\n",
       "    <tr>\n",
       "      <th>16123</th>\n",
       "      <td>NCG3D-60733</td>\n",
       "      <td>CLONE - [SXM Data Services] Footer text gets u...</td>\n",
       "      <td>Closed</td>\n",
       "      <td>2017-07-21 11:57:21</td>\n",
       "      <td>SW_TUNER_SXM</td>\n",
       "      <td>h   test environment     hw sample   hw       ...</td>\n",
       "      <td>2017-12-20 10:14:51</td>\n",
       "    </tr>\n",
       "  </tbody>\n",
       "</table>\n",
       "</div>"
      ],
      "text/plain": [
       "         Issue Key                                            Summary  Status  \\\n",
       "69752  NCG3D-71581  [SDS_2.1_Renault] System does not display the ...  Closed   \n",
       "15859  NCG3D-71193  AIVIBP-4771 When Display OFF, Popup is display...  Closed   \n",
       "77143  NCG3D-46364          Evolution: FatalError location=2290751505  Closed   \n",
       "58745  NCG3D-74334  DTMF recognition got cancelled after pressing ...  Closed   \n",
       "16123  NCG3D-60733  CLONE - [SXM Data Services] Footer text gets u...  Closed   \n",
       "\n",
       "                  Created         Component/s  \\\n",
       "69752 2017-10-11 08:16:26           SW_SPEECH   \n",
       "15859 2017-10-07 05:43:06           SW_SYSTEM   \n",
       "77143 2017-04-20 07:01:08  SW_PHONE,SW_Resets   \n",
       "58745 2017-11-02 09:20:58            SW_INPUT   \n",
       "16123 2017-07-21 11:57:21        SW_TUNER_SXM   \n",
       "\n",
       "                                             Description        Resolved Date  \n",
       "69752  h   test environment     hw sample       devic...  2018-06-13 05:52:15  \n",
       "15859   color red      customer ticket      color    ...  2018-02-26 04:21:37  \n",
       "77143  h   check ncg         h   test environment    ...  2017-05-12 05:47:32  \n",
       "58745  h   test environment     hw sample   b  sample...  2018-01-09 12:31:38  \n",
       "16123  h   test environment     hw sample   hw       ...  2017-12-20 10:14:51  "
      ]
     },
     "execution_count": 7,
     "metadata": {},
     "output_type": "execute_result"
    }
   ],
   "source": [
    "train_data=train_data.sample(frac=1.0, replace=True)\n",
    "train=train_data.sample(frac=0.90,random_state=120)\n",
    "test=train_data.drop(train.index)\n",
    "train.head()"
   ]
  },
  {
   "cell_type": "code",
   "execution_count": 8,
   "metadata": {},
   "outputs": [],
   "source": [
    "train_clean_sentences = []\n",
    "for line_number in range(len(train)):\n",
    "    line = train.iloc[line_number]['Description']\n",
    "    cleaned = clean(line)\n",
    "    cleaned = ' '.join(cleaned)\n",
    "    train_clean_sentences.append(cleaned)"
   ]
  },
  {
   "cell_type": "code",
   "execution_count": 9,
   "metadata": {},
   "outputs": [],
   "source": [
    "vectorizer = TfidfVectorizer(stop_words='english')\n",
    "X = vectorizer.fit_transform(train_clean_sentences)"
   ]
  },
  {
   "cell_type": "code",
   "execution_count": 10,
   "metadata": {},
   "outputs": [
    {
     "name": "stderr",
     "output_type": "stream",
     "text": [
      "C:\\Program Files\\Anaconda3\\lib\\site-packages\\pandas\\core\\indexing.py:194: SettingWithCopyWarning: \n",
      "A value is trying to be set on a copy of a slice from a DataFrame\n",
      "\n",
      "See the caveats in the documentation: http://pandas.pydata.org/pandas-docs/stable/indexing.html#indexing-view-versus-copy\n",
      "  self._setitem_with_indexer(indexer, value)\n"
     ]
    }
   ],
   "source": [
    "train_traget=replace_strings(train,'Component/s')\n"
   ]
  },
  {
   "cell_type": "code",
   "execution_count": 11,
   "metadata": {},
   "outputs": [
    {
     "name": "stderr",
     "output_type": "stream",
     "text": [
      "C:\\Program Files\\Anaconda3\\lib\\site-packages\\pandas\\core\\indexing.py:194: SettingWithCopyWarning: \n",
      "A value is trying to be set on a copy of a slice from a DataFrame\n",
      "\n",
      "See the caveats in the documentation: http://pandas.pydata.org/pandas-docs/stable/indexing.html#indexing-view-versus-copy\n",
      "  self._setitem_with_indexer(indexer, value)\n",
      "C:\\Program Files\\Anaconda3\\lib\\site-packages\\ipykernel_launcher.py:11: SettingWithCopyWarning: \n",
      "A value is trying to be set on a copy of a slice from a DataFrame\n",
      "\n",
      "See the caveats in the documentation: http://pandas.pydata.org/pandas-docs/stable/indexing.html#indexing-view-versus-copy\n",
      "  # This is added back by InteractiveShellApp.init_path()\n"
     ]
    }
   ],
   "source": [
    "test_traget=replace_strings(test,'Component/s')\n"
   ]
  },
  {
   "cell_type": "code",
   "execution_count": 12,
   "metadata": {},
   "outputs": [],
   "source": [
    "test_clean_sentences = []\n",
    "for line_number in range(len(test)):\n",
    "    line = test.iloc[line_number]['Description']\n",
    "    cleaned = clean(line)\n",
    "    cleaned = ' '.join(cleaned)\n",
    "    test_clean_sentences.append(cleaned)\n"
   ]
  },
  {
   "cell_type": "code",
   "execution_count": 13,
   "metadata": {},
   "outputs": [],
   "source": [
    "Test = vectorizer.transform(test_clean_sentences)"
   ]
  },
  {
   "cell_type": "code",
   "execution_count": 14,
   "metadata": {
    "scrolled": true
   },
   "outputs": [
    {
     "name": "stdout",
     "output_type": "stream",
     "text": [
      "For neigbours : 1 Accuracy is : 0.5962343096234309\n",
      "For neigbours : 2 Accuracy is : 0.5681410639569635\n",
      "For neigbours : 3 Accuracy is : 0.5442319187089062\n",
      "For neigbours : 4 Accuracy is : 0.5439330543933054\n",
      "For neigbours : 5 Accuracy is : 0.5582785415421399\n",
      "For neigbours : 6 Accuracy is : 0.5564853556485355\n",
      "For neigbours : 7 Accuracy is : 0.5576808129109384\n",
      "For neigbours : 8 Accuracy is : 0.5534967124925284\n",
      "For neigbours : 9 Accuracy is : 0.5567842199641363\n",
      "For neigbours : 10 Accuracy is : 0.5552898983861327\n",
      "For neigbours : 11 Accuracy is : 0.5582785415421399\n",
      "For neigbours : 12 Accuracy is : 0.5552898983861327\n",
      "For neigbours : 13 Accuracy is : 0.5505080693365212\n",
      "For neigbours : 14 Accuracy is : 0.5502092050209205\n",
      "For neigbours : 15 Accuracy is : 0.5537955768081291\n",
      "For neigbours : 16 Accuracy is : 0.548714883442917\n",
      "For neigbours : 17 Accuracy is : 0.5451285116557083\n",
      "For neigbours : 18 Accuracy is : 0.5421398684997011\n",
      "For neigbours : 19 Accuracy is : 0.5373580394500896\n",
      "For neigbours : 20 Accuracy is : 0.537059175134489\n",
      "For neigbours : 21 Accuracy is : 0.5328750747160789\n",
      "For neigbours : 22 Accuracy is : 0.5355648535564853\n",
      "For neigbours : 23 Accuracy is : 0.5349671249252839\n",
      "For neigbours : 24 Accuracy is : 0.5361625821876868\n",
      "For neigbours : 25 Accuracy is : 0.5337716676628811\n",
      "For neigbours : 26 Accuracy is : 0.5346682606096832\n",
      "For neigbours : 27 Accuracy is : 0.5358637178720861\n",
      "For neigbours : 28 Accuracy is : 0.5355648535564853\n",
      "For neigbours : 29 Accuracy is : 0.5367603108188882\n",
      "For neigbours : 30 Accuracy is : 0.5367603108188882\n",
      "For neigbours : 31 Accuracy is : 0.5382546323968919\n",
      "For neigbours : 32 Accuracy is : 0.5367603108188882\n",
      "For neigbours : 33 Accuracy is : 0.531679617453676\n",
      "For neigbours : 34 Accuracy is : 0.5283921099820681\n",
      "For neigbours : 35 Accuracy is : 0.5283921099820681\n",
      "For neigbours : 36 Accuracy is : 0.529587567244471\n",
      "For neigbours : 37 Accuracy is : 0.5307830245068739\n",
      "For neigbours : 38 Accuracy is : 0.5298864315600718\n",
      "For neigbours : 39 Accuracy is : 0.5286909742976689\n",
      "For neigbours : 40 Accuracy is : 0.5280932456664674\n",
      "For neigbours : 41 Accuracy is : 0.5268977884040645\n",
      "For neigbours : 42 Accuracy is : 0.5242080095636581\n",
      "For neigbours : 43 Accuracy is : 0.5248057381948595\n",
      "For neigbours : 44 Accuracy is : 0.5227136879856545\n",
      "For neigbours : 45 Accuracy is : 0.5230125523012552\n",
      "For neigbours : 46 Accuracy is : 0.5236102809324567\n",
      "For neigbours : 47 Accuracy is : 0.5221159593544531\n",
      "For neigbours : 48 Accuracy is : 0.5194261805140467\n",
      "For neigbours : 49 Accuracy is : 0.5164375373580394\n"
     ]
    }
   ],
   "source": [
    "Accuracy=[]\n",
    "for i in range(1,50):\n",
    "    modelknn = KNeighborsClassifier(n_neighbors=i)\n",
    "    modelknn.fit(X,train_traget)\n",
    "    predicted_labels_knn = modelknn.predict(Test)\n",
    "    Accuracy.append(np.mean(test['Component/s']==predicted_labels_knn))\n",
    "    print(\"For neigbours :\",i,\"Accuracy is :\",np.mean(test_traget==predicted_labels_knn))"
   ]
  },
  {
   "cell_type": "code",
   "execution_count": 15,
   "metadata": {},
   "outputs": [
    {
     "data": {
      "text/plain": [
       "[<matplotlib.lines.Line2D at 0x2e38675abe0>]"
      ]
     },
     "execution_count": 15,
     "metadata": {},
     "output_type": "execute_result"
    },
    {
     "data": {
      "image/png": "[encoded data removed]",
      "text/plain": [
       "<Figure size 432x288 with 1 Axes>"
      ]
     },
     "metadata": {},
     "output_type": "display_data"
    }
   ],
   "source": [
    "plt.plot(Accuracy)"
   ]
  },
  {
   "cell_type": "code",
   "execution_count": 17,
   "metadata": {
    "scrolled": false
   },
   "outputs": [
    {
     "name": "stdout",
     "output_type": "stream",
     "text": [
      "SW_SMARTPHONE 0.5765765765765766\n",
      "SW_DRIVEASSIST 0.3711340206185567\n",
      "SW_TRANSLATIONS 0.14285714285714285\n",
      "SW_SPEECH 0.5784313725490197\n",
      "SW_WIFI 0.5\n",
      "SW_HOME_MENU 0.3076923076923077\n",
      "SW_NAVIGATION 0.9081163859111792\n",
      "SW_AUDIO 0.11864406779661017\n",
      "TEST_FEP 0.0\n",
      "SW_TUNER_AMFM 0.42574257425742573\n",
      "SW_PHONE 0.5482866043613707\n",
      "SW_Resets 0.4\n",
      "SW_Master_HMI 0.07462686567164178\n",
      "SW_DIAGNOSTIC 0.4158415841584158\n",
      "SW_PARKASSIST 0.6320754716981132\n",
      "SW_NAVIGATION_JPN 0.6890756302521008\n",
      "SW_TUNER_SXM 0.5327868852459017\n",
      "SW_SWUPDATE 0.5416666666666666\n",
      "SW_INFOTAINMENT 0.5121951219512195\n",
      "SW_TUNER_TV 0.4090909090909091\n",
      "SW_TELEMATIC 0.38823529411764707\n",
      "Production-General 0.0\n",
      "SW_FRAMEWORK_HMI 0.02857142857142857\n",
      "Mechanic 0.11428571428571428\n",
      "SW_SYSTEM 0.2692307692307692\n",
      "SW_OTAS 0.0\n",
      "SW_SPM 0.26666666666666666\n",
      "SW_OFFICE 0.0\n",
      "SW_METER 0.26666666666666666\n",
      "SW_PROFILE 0.5384615384615384\n",
      "SW_Base 0.0\n",
      "SW_GRAPHICS 0.045454545454545456\n",
      "TEST_ZTEST 0.25\n",
      "HW-General 0.0\n",
      "SW_CONFIG_MGR 0.0\n",
      "SW_IPCM 0.0\n",
      "SW_TUNER_DAB 0.23809523809523808\n",
      "SW_DIMMING 0.0\n",
      "SW_TUNER_HD 0.5714285714285714\n",
      "SW_SECURITY 0.0\n",
      "SW_DATA 0.23076923076923078\n",
      "SW_SNM 0.0\n",
      "SW_TUNERGENERIC 0.0\n",
      "SW_Obigo 0.0\n",
      "SW_ADASIS 0.0\n",
      "SW_NETWORKING 0.0\n",
      "SW_DEBUG_TRACE 0.3333333333333333\n",
      "SW_MANAPPS 0.5714285714285714\n",
      "SW_Unknown 0.0\n",
      "SW_INPUT 0.0\n",
      "Production-Test 0.0\n",
      "TEST_EMC 0.4\n",
      "SW_PD-CD-Config 0.0\n",
      "SW_ARCHITECTURE 0.5\n",
      "SW_ADR3 0.0\n",
      "Mechanic-PIVI 0.0\n",
      "SW_WIDGETS 0.0\n",
      "SW_CMD 0.0\n",
      "SW_CAN_SIM 0.0\n"
     ]
    }
   ],
   "source": [
    "Error.err.class_err(test_traget,predicted_labels_knn)"
   ]
  },
  {
   "cell_type": "code",
   "execution_count": null,
   "metadata": {},
   "outputs": [],
   "source": []
  }
 ],
 "metadata": {
  "kernelspec": {
   "display_name": "Python 3",
   "language": "python",
   "name": "python3"
  },
  "language_info": {
   "codemirror_mode": {
    "name": "ipython",
    "version": 3
   },
   "file_extension": ".py",
   "mimetype": "text/x-python",
   "name": "python",
   "nbconvert_exporter": "python",
   "pygments_lexer": "ipython3",
   "version": "3.6.4"
  }
 },
 "nbformat": 4,
 "nbformat_minor": 2
}
